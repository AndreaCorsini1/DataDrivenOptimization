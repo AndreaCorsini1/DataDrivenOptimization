{
 "cells": [
  {
   "cell_type": "markdown",
   "id": "b636080b-6e08-4b91-acc9-403652521fa6",
   "metadata": {},
   "source": [
    "# Introduction to Python programming: part 2\n",
    "Control flow, loops, functions, classes and additional material"
   ]
  },
  {
   "cell_type": "markdown",
   "id": "986bb913-6b5d-4d2a-8484-5d06f92e7218",
   "metadata": {},
   "source": [
    "-----\n",
    "## Control Flow"
   ]
  },
  {
   "cell_type": "markdown",
   "id": "96fbe33d-8e22-45bb-8982-ce0db01754fa",
   "metadata": {},
   "source": [
    "### Conditional statements: if, elif, else"
   ]
  },
  {
   "cell_type": "markdown",
   "id": "f05e46ed-9db2-4df6-88af-9cea7a54a614",
   "metadata": {},
   "source": [
    "The Python syntax for conditional execution of code uses the keywords `if`, `elif` (else if), `else`:"
   ]
  },
  {
   "cell_type": "code",
   "execution_count": 1,
   "id": "e437be23-3481-492d-91db-43d07f95929d",
   "metadata": {},
   "outputs": [
    {
     "name": "stdout",
     "output_type": "stream",
     "text": [
      "statement1 and statement2 are False\n"
     ]
    }
   ],
   "source": [
    "statement1 = False\n",
    "statement2 = False\n",
    "\n",
    "if statement1:\n",
    "    print(\"statement1 is True\")\n",
    "    \n",
    "elif statement2:\n",
    "    print(\"statement2 is True\")\n",
    "    \n",
    "else:\n",
    "    print(\"statement1 and statement2 are False\")"
   ]
  },
  {
   "cell_type": "code",
   "execution_count": 2,
   "id": "6511122f-c4d3-4a83-acb4-87816320d79b",
   "metadata": {},
   "outputs": [
    {
     "name": "stdout",
     "output_type": "stream",
     "text": [
      "ciao\n",
      "1\n"
     ]
    }
   ],
   "source": [
    "if not statement1:\n",
    "    print('ciao')\n",
    "else:\n",
    "    pass\n",
    "if statement2:\n",
    "    print(2)\n",
    "else:\n",
    "    print(1)"
   ]
  },
  {
   "cell_type": "markdown",
   "id": "6f6a05fe-a9d8-422c-99ac-215c9846bff1",
   "metadata": {},
   "source": [
    "> **_NOTE_**: For the first time, here we encounted a peculiar and unusual aspect of the Python programming language: Program blocks are defined by their indentation level. \n",
    "\n",
    "Compare to the equivalent C code:\n",
    "\n",
    "    if (statement1) {\n",
    "        printf(\"statement1 is True\\n\");\n",
    "    } else if (statement2) {\n",
    "        printf(\"statement2 is True\\n\");\n",
    "    } else {\n",
    "        printf(\"statement1 and statement2 are False\\n\");\n",
    "    }\n",
    "\n",
    "In C blocks are defined by the enclosing curly brakets `{` and `}`. And the level of indentation (white space before the code statements) does not matter (completely optional). \n",
    "\n",
    "But in Python, the extent of a code block is defined by the indentation level (usually a tab or say four white spaces). This means that we have to be careful to indent our code correctly, or else we will get syntax errors."
   ]
  },
  {
   "cell_type": "code",
   "execution_count": 3,
   "id": "c67abfe3-f700-48e1-9fcd-8f807f87f8d3",
   "metadata": {},
   "outputs": [
    {
     "name": "stdout",
     "output_type": "stream",
     "text": [
      "both statement1 and statement2 are True\n"
     ]
    }
   ],
   "source": [
    "statement1 = statement2 = True\n",
    "\n",
    "if statement1:\n",
    "    if statement2:\n",
    "        print(\"both statement1 and statement2 are True\")"
   ]
  },
  {
   "cell_type": "code",
   "execution_count": 4,
   "id": "25466b9f-5952-4b0d-9392-ed085722c6ab",
   "metadata": {},
   "outputs": [
    {
     "ename": "IndentationError",
     "evalue": "expected an indented block (3545621536.py, line 4)",
     "output_type": "error",
     "traceback": [
      "\u001b[0;36m  Input \u001b[0;32mIn [4]\u001b[0;36m\u001b[0m\n\u001b[0;31m    print(\"both statement1 and statement2 are True\")  # this line is not properly indented\u001b[0m\n\u001b[0m    ^\u001b[0m\n\u001b[0;31mIndentationError\u001b[0m\u001b[0;31m:\u001b[0m expected an indented block\n"
     ]
    }
   ],
   "source": [
    "# Bad indentation!\n",
    "if statement1:\n",
    "    if statement2:\n",
    "    print(\"both statement1 and statement2 are True\")  # this line is not properly indented"
   ]
  },
  {
   "cell_type": "code",
   "execution_count": 5,
   "id": "de33ac98-5311-429b-991e-6949b2c2be72",
   "metadata": {},
   "outputs": [],
   "source": [
    "statement1 = False \n",
    "\n",
    "if statement1:\n",
    "    print(\"printed if statement1 is True\")\n",
    "    \n",
    "    print(\"still inside the if block\")"
   ]
  },
  {
   "cell_type": "code",
   "execution_count": 6,
   "id": "315e7278-3996-4436-8c9b-6410d1f80bb2",
   "metadata": {},
   "outputs": [
    {
     "name": "stdout",
     "output_type": "stream",
     "text": [
      "now outside the if block\n"
     ]
    }
   ],
   "source": [
    "if statement1:\n",
    "    print(\"printed if statement1 is True\")\n",
    "    \n",
    "print(\"now outside the if block\")"
   ]
  },
  {
   "cell_type": "markdown",
   "id": "a455e4ec-f951-4320-afc4-5426993d1540",
   "metadata": {},
   "source": [
    "Last, in Python we don't have the `switch` statement."
   ]
  },
  {
   "cell_type": "markdown",
   "id": "eaca26e6-07f4-40a4-aac6-d357d12f0f3b",
   "metadata": {},
   "source": [
    "### Ternary operator"
   ]
  },
  {
   "cell_type": "markdown",
   "id": "205ab1fe-4b69-4a71-ab26-9c83bdf950a7",
   "metadata": {},
   "source": [
    "We can think of a ternary operator as a short if-else statement.\n",
    "It is useful when we want to make long expression a lot more messy. ;)"
   ]
  },
  {
   "cell_type": "code",
   "execution_count": 7,
   "id": "ed1cfbcc-cbc0-4f95-ae59-4e0f361bd211",
   "metadata": {},
   "outputs": [
    {
     "name": "stdout",
     "output_type": "stream",
     "text": [
      "=(\n"
     ]
    }
   ],
   "source": [
    "a = 12\n",
    "b = '=)' if a % 3 else '=('\n",
    "print(b)"
   ]
  },
  {
   "cell_type": "code",
   "execution_count": 8,
   "id": "a9ea627e-81f3-462a-aa65-2b91021243a7",
   "metadata": {},
   "outputs": [
    {
     "data": {
      "text/plain": [
       "'=)'"
      ]
     },
     "execution_count": 8,
     "metadata": {},
     "output_type": "execute_result"
    }
   ],
   "source": [
    "b = [1]\n",
    "'=)' if b else '=('"
   ]
  },
  {
   "cell_type": "code",
   "execution_count": 9,
   "id": "bf88fc15-09e5-4e43-abd5-29f85d464ec3",
   "metadata": {},
   "outputs": [
    {
     "data": {
      "text/plain": [
       "'=('"
      ]
     },
     "execution_count": 9,
     "metadata": {},
     "output_type": "execute_result"
    }
   ],
   "source": [
    "b = []\n",
    "'=)' if b else '=('"
   ]
  },
  {
   "cell_type": "markdown",
   "id": "197b06ff-893c-4c25-b027-1bd1a45fdb8d",
   "metadata": {},
   "source": [
    "----\n",
    "## Loops"
   ]
  },
  {
   "cell_type": "markdown",
   "id": "c455e64a-4950-4ea3-a837-543112a96f62",
   "metadata": {},
   "source": [
    "In Python, loops can be programmed in a number of different ways. The most common is the `for` loop, which is used together with iterable objects, such as lists. The basic syntax is:"
   ]
  },
  {
   "cell_type": "markdown",
   "id": "e1a8d94e-7462-42ca-a2f7-66f77a5f5e88",
   "metadata": {},
   "source": [
    "### **`for` loops**:"
   ]
  },
  {
   "cell_type": "code",
   "execution_count": 10,
   "id": "64a28060-13c9-4ecc-a4c2-c10cdb5bbfa1",
   "metadata": {},
   "outputs": [
    {
     "name": "stdout",
     "output_type": "stream",
     "text": [
      "1\n",
      "2\n",
      "3\n"
     ]
    }
   ],
   "source": [
    "for x in [1,2,3]:\n",
    "    print(x)"
   ]
  },
  {
   "cell_type": "markdown",
   "id": "3bc2fcb3-9e20-4558-99ce-7a1720a85309",
   "metadata": {},
   "source": [
    "The `for` loop iterates over the elements of the supplied list, and executes the containing block once for each element. \n",
    "\n",
    "Any kind of **iterables** can be used in the `for` loop. For example:"
   ]
  },
  {
   "cell_type": "code",
   "execution_count": 11,
   "id": "15b16993-bfa9-4df9-8065-432cc7676f6c",
   "metadata": {},
   "outputs": [
    {
     "name": "stdout",
     "output_type": "stream",
     "text": [
      "0\n",
      "1\n",
      "2\n",
      "3\n"
     ]
    }
   ],
   "source": [
    "for x in range(4): # by default range start at 0\n",
    "    print(x)"
   ]
  },
  {
   "cell_type": "markdown",
   "id": "5af8bfdc-c20d-48df-8739-980ced8d300d",
   "metadata": {},
   "source": [
    "> **_Note_**: `range(4)` does not include 4! The rule is `range(start[included], stop[excluded], step)`"
   ]
  },
  {
   "cell_type": "code",
   "execution_count": 12,
   "id": "de4e6f41-9823-4049-bc3a-e10a6975f701",
   "metadata": {},
   "outputs": [
    {
     "name": "stdout",
     "output_type": "stream",
     "text": [
      "-3\n",
      "-2\n",
      "-1\n",
      "0\n",
      "1\n",
      "2\n"
     ]
    }
   ],
   "source": [
    "for x in range(-3, 3):\n",
    "    print(x)"
   ]
  },
  {
   "cell_type": "markdown",
   "id": "df6e8a26-8724-4df8-ac2e-2065f9c71ccc",
   "metadata": {},
   "source": [
    "To iterate over **key-value pairs** of a dictionary:"
   ]
  },
  {
   "cell_type": "code",
   "execution_count": 13,
   "id": "c453ba81-c5bb-4c1c-a929-5e0febe2dcea",
   "metadata": {},
   "outputs": [],
   "source": [
    "params = {\n",
    "    'a': 1,\n",
    "    'b': 2\n",
    "}"
   ]
  },
  {
   "cell_type": "code",
   "execution_count": 14,
   "id": "f54f83ee-11c3-47e0-8e2d-84be165732d0",
   "metadata": {},
   "outputs": [
    {
     "name": "stdout",
     "output_type": "stream",
     "text": [
      "a = 1\n",
      "b = 2\n"
     ]
    }
   ],
   "source": [
    "for key, value in params.items():\n",
    "    print(key + \" = \" + str(value))"
   ]
  },
  {
   "cell_type": "code",
   "execution_count": 15,
   "id": "54f92422-6d04-4220-9052-de5292c08132",
   "metadata": {},
   "outputs": [
    {
     "name": "stdout",
     "output_type": "stream",
     "text": [
      "a 1\n",
      "b 2\n"
     ]
    }
   ],
   "source": [
    "for key in params:\n",
    "    print(key, params[key])"
   ]
  },
  {
   "cell_type": "code",
   "execution_count": 16,
   "id": "408a3f26-256a-4355-965a-e9f267e2b0b0",
   "metadata": {},
   "outputs": [
    {
     "name": "stdout",
     "output_type": "stream",
     "text": [
      "1\n",
      "2\n"
     ]
    }
   ],
   "source": [
    "for value in params.values():\n",
    "    print(value)"
   ]
  },
  {
   "cell_type": "markdown",
   "id": "39a9aeef-fa42-4c1c-baac-7b5de6261fdb",
   "metadata": {},
   "source": [
    "Sometimes it is useful to have access to the indices of the values when iterating over a list. We can use the `enumerate` function for this:"
   ]
  },
  {
   "cell_type": "code",
   "execution_count": 17,
   "id": "2d0118e8-cf87-4f6f-aaa5-29ce68fc2a8d",
   "metadata": {},
   "outputs": [
    {
     "name": "stdout",
     "output_type": "stream",
     "text": [
      "0 -3\n",
      "1 -2\n",
      "2 -1\n",
      "3 0\n",
      "4 1\n",
      "5 2\n"
     ]
    }
   ],
   "source": [
    "for idx, x in enumerate(range(-3,3)):\n",
    "    print(idx, x)"
   ]
  },
  {
   "cell_type": "code",
   "execution_count": 18,
   "id": "88603f6c-d025-4a11-8f68-1bff23cdebdc",
   "metadata": {},
   "outputs": [
    {
     "data": {
      "text/plain": [
       "[('a', 1), ('b', 2)]"
      ]
     },
     "execution_count": 18,
     "metadata": {},
     "output_type": "execute_result"
    }
   ],
   "source": [
    "list(params.items())"
   ]
  },
  {
   "cell_type": "code",
   "execution_count": 19,
   "id": "35a5fb7d-79e4-4051-b7ce-0af4a4147622",
   "metadata": {},
   "outputs": [
    {
     "data": {
      "text/plain": [
       "[(0, ('a', 1)), (1, ('b', 2))]"
      ]
     },
     "execution_count": 19,
     "metadata": {},
     "output_type": "execute_result"
    }
   ],
   "source": [
    "list(enumerate(params.items()))"
   ]
  },
  {
   "cell_type": "code",
   "execution_count": 20,
   "id": "b85aca73-0216-4370-be38-719c84e6bbb7",
   "metadata": {},
   "outputs": [
    {
     "name": "stdout",
     "output_type": "stream",
     "text": [
      "0 ('a', 1)\n",
      "1 ('b', 2)\n"
     ]
    }
   ],
   "source": [
    "for idx, t in enumerate(params.items()):\n",
    "    print(idx, t)"
   ]
  },
  {
   "cell_type": "code",
   "execution_count": 21,
   "id": "429301e9-9f30-43e2-80c9-8b923c78d42f",
   "metadata": {},
   "outputs": [
    {
     "name": "stdout",
     "output_type": "stream",
     "text": [
      "0 a 1\n",
      "1 b 2\n"
     ]
    }
   ],
   "source": [
    "for idx, (k, v) in enumerate(params.items()):\n",
    "    print(idx, k, v)"
   ]
  },
  {
   "cell_type": "markdown",
   "id": "80968761-0bdb-4d9a-af83-fc6069aedbad",
   "metadata": {},
   "source": [
    "### List comprehensions"
   ]
  },
  {
   "cell_type": "markdown",
   "id": "756eac3e-5013-4cf9-bcf3-55633dbfb656",
   "metadata": {},
   "source": [
    "A list comprehension is a convenient and compact way to initialize lists with a for loop:"
   ]
  },
  {
   "cell_type": "code",
   "execution_count": 22,
   "id": "84b1f6f4-4471-4890-ba6b-7935307567c9",
   "metadata": {},
   "outputs": [
    {
     "name": "stdout",
     "output_type": "stream",
     "text": [
      "[0, 1, 4, 9, 16]\n"
     ]
    }
   ],
   "source": [
    "l1 = []\n",
    "for x in range(0, 5):\n",
    "    l1.append(x**2)\n",
    "print(l1)"
   ]
  },
  {
   "cell_type": "code",
   "execution_count": 23,
   "id": "bba0d8aa-ab34-44f2-b225-104b07355663",
   "metadata": {},
   "outputs": [
    {
     "name": "stdout",
     "output_type": "stream",
     "text": [
      "[0, 1, 4, 9, 16]\n"
     ]
    }
   ],
   "source": [
    "l1 = [x**2 for x in range(0, 5)]\n",
    "print(l1)"
   ]
  },
  {
   "cell_type": "markdown",
   "id": "c00d7bd0-8a91-49b5-bb7f-e3e8894642fb",
   "metadata": {},
   "source": [
    "We can also insert condition in list comprehensions:"
   ]
  },
  {
   "cell_type": "code",
   "execution_count": 24,
   "id": "8caf17eb-83db-4f37-a047-d0082fc833a2",
   "metadata": {},
   "outputs": [
    {
     "name": "stdout",
     "output_type": "stream",
     "text": [
      "[0, 4, 16]\n"
     ]
    }
   ],
   "source": [
    "l1 = [x**2 for x in range(0,5) if x**2 % 2 == 0]\n",
    "print(l1)"
   ]
  },
  {
   "cell_type": "markdown",
   "id": "abc90a2f-a7c6-4332-b902-4f110980d6a2",
   "metadata": {},
   "source": [
    "We can even nest list comprehensions and use them along with the ternary operator to make super messy expression. The only reason to do that: **everything becomes faster!**"
   ]
  },
  {
   "cell_type": "code",
   "execution_count": 25,
   "id": "6c3223c3-23bb-47b5-a0e9-15ecf4d45b43",
   "metadata": {},
   "outputs": [
    {
     "name": "stdout",
     "output_type": "stream",
     "text": [
      "['even', 'odd', 'even', 'odd', 'even', 'odd', 'even', 'odd', 'even', 'odd', 'even', 'odd', 'even', 'odd', 'even', 'odd', 'even', 'odd', 'even', 'odd', 'even', 'odd', 'even', 'odd', 'even']\n"
     ]
    },
    {
     "data": {
      "text/plain": [
       "[[0, 1, 2, 3, 4],\n",
       " [1, 2, 3, 4, 5],\n",
       " [2, 3, 4, 5, 6],\n",
       " [3, 4, 5, 6, 7],\n",
       " [4, 5, 6, 7, 8]]"
      ]
     },
     "execution_count": 25,
     "metadata": {},
     "output_type": "execute_result"
    }
   ],
   "source": [
    "# 5x5 matrix\n",
    "mat = [list(range(i, i + 5)) for i in range(5)]\n",
    "#print(mat)\n",
    "\n",
    "omg = ['odd' if el % 2 else 'even' for row in mat for el in row]\n",
    "print(omg)\n",
    "mat"
   ]
  },
  {
   "cell_type": "code",
   "execution_count": 26,
   "id": "c5a83987-07bd-47b8-8e06-9e73e37e70fc",
   "metadata": {},
   "outputs": [
    {
     "name": "stdout",
     "output_type": "stream",
     "text": [
      "0, 1, 2, 3, 4\n",
      "1, 2, 3, 4, 5\n",
      "2, 3, 4, 5, 6\n",
      "3, 4, 5, 6, 7\n",
      "4, 5, 6, 7, 8\n"
     ]
    }
   ],
   "source": [
    "for row in mat:\n",
    "    print(', '.join([str(e) for e in row]))"
   ]
  },
  {
   "cell_type": "code",
   "execution_count": 1,
   "id": "b45a286c-05e2-4db7-8e04-ee1d78bed324",
   "metadata": {},
   "outputs": [
    {
     "name": "stdout",
     "output_type": "stream",
     "text": [
      "Help on class map in module builtins:\n",
      "\n",
      "class map(object)\n",
      " |  map(func, *iterables) --> map object\n",
      " |  \n",
      " |  Make an iterator that computes the function using arguments from\n",
      " |  each of the iterables.  Stops when the shortest iterable is exhausted.\n",
      " |  \n",
      " |  Methods defined here:\n",
      " |  \n",
      " |  __getattribute__(self, name, /)\n",
      " |      Return getattr(self, name).\n",
      " |  \n",
      " |  __iter__(self, /)\n",
      " |      Implement iter(self).\n",
      " |  \n",
      " |  __next__(self, /)\n",
      " |      Implement next(self).\n",
      " |  \n",
      " |  __reduce__(...)\n",
      " |      Return state information for pickling.\n",
      " |  \n",
      " |  ----------------------------------------------------------------------\n",
      " |  Static methods defined here:\n",
      " |  \n",
      " |  __new__(*args, **kwargs) from builtins.type\n",
      " |      Create and return a new object.  See help(type) for accurate signature.\n",
      "\n"
     ]
    }
   ],
   "source": [
    "help(map)"
   ]
  },
  {
   "cell_type": "code",
   "execution_count": 27,
   "id": "12ebd749-16fc-4a00-a20c-f0b99c241d21",
   "metadata": {},
   "outputs": [
    {
     "name": "stdout",
     "output_type": "stream",
     "text": [
      "0, 1, 2, 3, 4\n",
      "1, 2, 3, 4, 5\n",
      "2, 3, 4, 5, 6\n",
      "3, 4, 5, 6, 7\n",
      "4, 5, 6, 7, 8\n"
     ]
    }
   ],
   "source": [
    "for row in mat:\n",
    "    print(', '.join(map(str, row)))"
   ]
  },
  {
   "cell_type": "markdown",
   "id": "2dad3c2e-ec0b-43c9-91ff-e475695771eb",
   "metadata": {},
   "source": [
    "### `while` loops:"
   ]
  },
  {
   "cell_type": "code",
   "execution_count": 28,
   "id": "e217b250-68ce-4fe8-919c-79a034fc2574",
   "metadata": {},
   "outputs": [
    {
     "name": "stdout",
     "output_type": "stream",
     "text": [
      "0\n",
      "1\n",
      "2\n",
      "3\n",
      "4\n",
      "done\n"
     ]
    }
   ],
   "source": [
    "i = 0\n",
    "while i < 5:\n",
    "    print(i)\n",
    "    i = i + 1\n",
    "    \n",
    "print(\"done\")"
   ]
  },
  {
   "cell_type": "code",
   "execution_count": null,
   "id": "b7e89eee-bc35-4940-ac9e-d155eb7df729",
   "metadata": {},
   "outputs": [],
   "source": []
  },
  {
   "cell_type": "markdown",
   "id": "7b8c42ee-1189-407d-93db-59f595c794f6",
   "metadata": {},
   "source": [
    "-----\n",
    "## Functions"
   ]
  },
  {
   "cell_type": "markdown",
   "id": "03c3fd58-eec5-4e9f-b526-87483aa9d0fe",
   "metadata": {},
   "source": [
    "In any coding lenguage, we always end up with a lot of repeated code. \n",
    "In order to avoid the boilerplate code, it is convinent to **abstract** the code as much as possible and make it **reusable**.\n",
    "\n",
    "A function is a group of related statements that performs a specific task.\n",
    "As our program grows larger and larger, functions make it more organized and manageable.\n",
    "\n",
    "A function in Python is defined using the keyword `def`, followed by a **function name**, a **signature** within parentheses `()`, and a colon `:`.<br>\n",
    "After the colon, follow the **body** of the function with one additional level of indentation w.r.t. the function definition.\n",
    "In the body of a function we group the statements that define what the function does."
   ]
  },
  {
   "cell_type": "code",
   "execution_count": 29,
   "id": "cc7e5739-a79e-4e9e-8740-5e7c45f32810",
   "metadata": {},
   "outputs": [],
   "source": [
    "def function_name(param1, param2 = 10):   \n",
    "    print(f\"Param 1 = {param1}\")\n",
    "    print(f\"Param 2 = {param2}\")\n",
    "    return param1 * param2, param1"
   ]
  },
  {
   "cell_type": "code",
   "execution_count": 30,
   "id": "90a287ec-8c10-4b0c-a616-018033e10c46",
   "metadata": {},
   "outputs": [
    {
     "name": "stdout",
     "output_type": "stream",
     "text": [
      "Param 1 = 10\n",
      "Param 2 = 10\n"
     ]
    },
    {
     "data": {
      "text/plain": [
       "(100, 10)"
      ]
     },
     "execution_count": 30,
     "metadata": {},
     "output_type": "execute_result"
    }
   ],
   "source": [
    "function_name(10)"
   ]
  },
  {
   "cell_type": "markdown",
   "id": "da2fd1c0-f144-470a-b1c5-74b68d55ff1b",
   "metadata": {},
   "source": [
    "Optionally, but highly recommended, we can define a so called \"**docstring**\", which is a description of the function purpose and behaivor. The docstring should follow directly after the function definition, before the code in the function body."
   ]
  },
  {
   "cell_type": "code",
   "execution_count": 31,
   "id": "d36b6bf2-1009-4e0b-9071-bf17e2da533d",
   "metadata": {},
   "outputs": [],
   "source": [
    "def function_name(s='ciao'):\n",
    "    \"\"\"\n",
    "    Print a string 's' and tell how many characters there are.\n",
    "    \n",
    "    Args:\n",
    "        :param s: (str, default 'ciao') string to print.\n",
    "    :return None\n",
    "    \"\"\"\n",
    "    print(s + \" has \" + str(len(s)) + \" characters\")"
   ]
  },
  {
   "cell_type": "code",
   "execution_count": 32,
   "id": "a4cb05de-023d-4c70-9832-994db472da11",
   "metadata": {},
   "outputs": [
    {
     "name": "stdout",
     "output_type": "stream",
     "text": [
      "Help on function function_name in module __main__:\n",
      "\n",
      "function_name(s)\n",
      "    Print a string 's' and tell how many characters there are.\n",
      "    \n",
      "    Args:\n",
      "        :param s: (str) string to print.\n",
      "    :return None\n",
      "\n"
     ]
    }
   ],
   "source": [
    "help(function_name)"
   ]
  },
  {
   "cell_type": "code",
   "execution_count": 33,
   "id": "d23f4b73-255b-45c1-bfeb-7993c967af31",
   "metadata": {},
   "outputs": [
    {
     "name": "stdout",
     "output_type": "stream",
     "text": [
      "test has 4 characters\n"
     ]
    }
   ],
   "source": [
    "function_name(\"test\")"
   ]
  },
  {
   "cell_type": "markdown",
   "id": "e7728d69-d70a-4865-9fb9-0857385b5294",
   "metadata": {},
   "source": [
    "Functions that returns a value use the `return` keyword:"
   ]
  },
  {
   "cell_type": "code",
   "execution_count": 34,
   "id": "080233d7-0193-4a1e-90a6-6cea9e7c49e9",
   "metadata": {},
   "outputs": [],
   "source": [
    "def square(x=0):\n",
    "    \"\"\"\n",
    "    Return the square of x.\n",
    "    \n",
    "    Args:\n",
    "        :param x: (int or float, default 0) number to square.\n",
    "    :return the squared of x\n",
    "    \"\"\"\n",
    "    return x ** 2"
   ]
  },
  {
   "cell_type": "code",
   "execution_count": 35,
   "id": "7503cc56-de56-4901-9c06-a40f246552cf",
   "metadata": {},
   "outputs": [
    {
     "data": {
      "text/plain": [
       "16"
      ]
     },
     "execution_count": 35,
     "metadata": {},
     "output_type": "execute_result"
    }
   ],
   "source": [
    "square(4)"
   ]
  },
  {
   "cell_type": "markdown",
   "id": "d7f5030f-e069-484f-8d2b-77c9cea2cb3c",
   "metadata": {},
   "source": [
    "We can return multiple values from a function using tuples:"
   ]
  },
  {
   "cell_type": "code",
   "execution_count": 36,
   "id": "667ca7b9-58c1-44df-8518-176f8a7c6a45",
   "metadata": {},
   "outputs": [],
   "source": [
    "def powers(x):\n",
    "    \"\"\"\n",
    "    Return a few powers of x.\n",
    "    \n",
    "    Args:\n",
    "        :param x: (int or float, default 0) number to square.\n",
    "    :return tuple with the powers of x.\n",
    "    \"\"\"\n",
    "    return x ** 2, x ** 3, x ** 4"
   ]
  },
  {
   "cell_type": "code",
   "execution_count": 37,
   "id": "22334186-d193-4250-8234-53383d939df0",
   "metadata": {},
   "outputs": [
    {
     "name": "stdout",
     "output_type": "stream",
     "text": [
      "27\n"
     ]
    }
   ],
   "source": [
    "x2, x3, x4 = powers(3)\n",
    "print(x3)"
   ]
  },
  {
   "cell_type": "code",
   "execution_count": null,
   "id": "99b9582a-184a-4ec5-90c6-2bec83648668",
   "metadata": {},
   "outputs": [],
   "source": []
  },
  {
   "cell_type": "markdown",
   "id": "e85d5b5e-64dc-4137-8e45-b12b72c6f44a",
   "metadata": {},
   "source": [
    "### Variable scope\n",
    "\n",
    "Since global variables have a long history of introducing bugs (in every programming language), Python wants to make sure that you understand this risk.\n",
    "\n",
    "When you define a variable outside a function (i.e. a global variable), you can read from within the function the value of that variable. "
   ]
  },
  {
   "cell_type": "code",
   "execution_count": 38,
   "id": "e1cc19c4-c06d-4a03-8107-c2e6bbd666c6",
   "metadata": {},
   "outputs": [
    {
     "name": "stdout",
     "output_type": "stream",
     "text": [
      "I'm global dude!\n",
      "I'm global dude!\n"
     ]
    }
   ],
   "source": [
    "var = \"I'm global dude!\"\n",
    "\n",
    "def set_global1(value):\n",
    "    var = value\n",
    "\n",
    "def print_global():\n",
    "    print(var)     # No need for global declaration to read value of var\n",
    "\n",
    "print_global()\n",
    "set_global1('Not global anymore!')\n",
    "print_global()"
   ]
  },
  {
   "cell_type": "markdown",
   "id": "51ffd55d-00f7-4a34-b99a-8640adf681b0",
   "metadata": {},
   "source": [
    "However, if you also want to modify that global variable, you must declare it explicitly with the `global` keyword."
   ]
  },
  {
   "cell_type": "code",
   "execution_count": 39,
   "id": "aa0c5d49-4ff6-4018-b6f1-e1e09ee7d9a3",
   "metadata": {},
   "outputs": [
    {
     "name": "stdout",
     "output_type": "stream",
     "text": [
      "I'm global dude!\n",
      "Not global anymore!\n"
     ]
    }
   ],
   "source": [
    "def set_global2(value):\n",
    "    global var    # Need to modify global copy of var\n",
    "    var = value\n",
    "    \n",
    "print_global()\n",
    "set_global2('Not global anymore!')\n",
    "print_global()"
   ]
  },
  {
   "cell_type": "code",
   "execution_count": null,
   "id": "652c307a-f0c9-46a1-b96e-0a0e11140f87",
   "metadata": {},
   "outputs": [],
   "source": []
  },
  {
   "cell_type": "markdown",
   "id": "f416b705-030a-470b-89b4-e783e381ad29",
   "metadata": {},
   "source": [
    "### Default argument and keyword arguments"
   ]
  },
  {
   "cell_type": "markdown",
   "id": "5f3c9e85-e73e-4936-9c60-34544881c28b",
   "metadata": {},
   "source": [
    "In a definition of a function, we can give default values to the arguments the function takes:"
   ]
  },
  {
   "cell_type": "code",
   "execution_count": 40,
   "id": "7020d5ed-f7ec-4829-92c7-d2078f35b0e6",
   "metadata": {},
   "outputs": [],
   "source": [
    "def myfunc(x, p=2, debug=False):\n",
    "    if debug:\n",
    "        print(\"evaluating myfunc for x = \" + str(x) + \" using exponent p = \" + str(p))\n",
    "    return x**p"
   ]
  },
  {
   "cell_type": "markdown",
   "id": "063dfed2-ed77-4966-b1b5-49ccabf5922c",
   "metadata": {},
   "source": [
    "If we don't provide a value for the `debug` argument when calling the the function `myfunc`, it takes the default value provided in the function definition:"
   ]
  },
  {
   "cell_type": "code",
   "execution_count": 41,
   "id": "da8e66d2-1e7b-436e-aba2-45bcce7d66e1",
   "metadata": {},
   "outputs": [
    {
     "data": {
      "text/plain": [
       "25"
      ]
     },
     "execution_count": 41,
     "metadata": {},
     "output_type": "execute_result"
    }
   ],
   "source": [
    "myfunc(5)"
   ]
  },
  {
   "cell_type": "code",
   "execution_count": 42,
   "id": "37a207d5-dc00-4d7f-9080-caf0dc60ec0e",
   "metadata": {},
   "outputs": [
    {
     "data": {
      "text/plain": [
       "125"
      ]
     },
     "execution_count": 42,
     "metadata": {},
     "output_type": "execute_result"
    }
   ],
   "source": [
    "myfunc(5, 3)"
   ]
  },
  {
   "cell_type": "code",
   "execution_count": 43,
   "id": "6430a93b-99d7-475c-a774-1503401c1cf6",
   "metadata": {},
   "outputs": [
    {
     "name": "stdout",
     "output_type": "stream",
     "text": [
      "evaluating myfunc for x = 5 using exponent p = 2\n"
     ]
    },
    {
     "data": {
      "text/plain": [
       "25"
      ]
     },
     "execution_count": 43,
     "metadata": {},
     "output_type": "execute_result"
    }
   ],
   "source": [
    "myfunc(5, debug=True, p=2)"
   ]
  },
  {
   "cell_type": "markdown",
   "id": "7491d3b0-8f0d-49bc-aca7-5a5fe08c9161",
   "metadata": {},
   "source": [
    "If we explicitly list the name of the arguments in the function calls, they do not need to come in the same order as in the function definition. This is called **keyword** arguments, and is often very useful in functions that takes a lot of optional arguments."
   ]
  },
  {
   "cell_type": "code",
   "execution_count": 44,
   "id": "995d80d6-f614-43b7-a1f0-8ba68de2a6d1",
   "metadata": {},
   "outputs": [
    {
     "name": "stdout",
     "output_type": "stream",
     "text": [
      "evaluating myfunc for x = 7 using exponent p = 3\n"
     ]
    },
    {
     "data": {
      "text/plain": [
       "343"
      ]
     },
     "execution_count": 44,
     "metadata": {},
     "output_type": "execute_result"
    }
   ],
   "source": [
    "myfunc(p=3, debug=True, x=7)"
   ]
  },
  {
   "cell_type": "markdown",
   "id": "1a1e833d-1c7a-405c-9e72-6f68c423c4ed",
   "metadata": {},
   "source": [
    "### Unnamed functions (lambda function)"
   ]
  },
  {
   "cell_type": "markdown",
   "id": "168541d9-2756-4c8d-b731-5eb3d006b79e",
   "metadata": {},
   "source": [
    "In Python we can also create unnamed functions, using the `lambda` keyword:"
   ]
  },
  {
   "cell_type": "code",
   "execution_count": 45,
   "id": "d18c2601-3dfd-4ada-b6a7-3a590ac5f37a",
   "metadata": {},
   "outputs": [],
   "source": [
    "f1 = lambda x: x**2\n",
    "    \n",
    "# is equivalent to \n",
    "def f2(x):\n",
    "    return x**2"
   ]
  },
  {
   "cell_type": "code",
   "execution_count": 46,
   "id": "2a69b13d-9ef0-411b-be23-1a9e34189783",
   "metadata": {},
   "outputs": [
    {
     "data": {
      "text/plain": [
       "(4, 4)"
      ]
     },
     "execution_count": 46,
     "metadata": {},
     "output_type": "execute_result"
    }
   ],
   "source": [
    "f1(2), f2(2)"
   ]
  },
  {
   "cell_type": "markdown",
   "id": "b7375eeb-b6c3-4ae7-96d2-e59e113b820d",
   "metadata": {},
   "source": [
    "This technique is useful for example when we want to pass a simple function as an argument to another function, like this:"
   ]
  },
  {
   "cell_type": "code",
   "execution_count": 47,
   "id": "9382b48b-e6a7-48eb-beb3-4b31af0015cd",
   "metadata": {},
   "outputs": [
    {
     "data": {
      "text/plain": [
       "<map at 0x7f9f91291070>"
      ]
     },
     "execution_count": 47,
     "metadata": {},
     "output_type": "execute_result"
    }
   ],
   "source": [
    "# map is a built-in python function\n",
    "map(lambda x: x**2, range(-3,4))"
   ]
  },
  {
   "cell_type": "code",
   "execution_count": 48,
   "id": "1d1e4139-b6ea-468e-9e89-03b173496c10",
   "metadata": {},
   "outputs": [
    {
     "data": {
      "text/plain": [
       "[9, 4, 1, 0, 1, 4, 9]"
      ]
     },
     "execution_count": 48,
     "metadata": {},
     "output_type": "execute_result"
    }
   ],
   "source": [
    "# in python 3 we can use `list(...)` to convert the iterator to an explicit list\n",
    "list(map(lambda x: x**2, range(-3,4)))"
   ]
  },
  {
   "cell_type": "markdown",
   "id": "09863afd-42dc-46ae-981c-596ac27eb0b8",
   "metadata": {},
   "source": [
    "-----\n",
    "## OOP and Classes"
   ]
  },
  {
   "cell_type": "markdown",
   "id": "deb73006-9896-4819-a312-5fc60147170e",
   "metadata": {},
   "source": [
    "Classes are the key features of Object-Oriented Programming. A class is a structure for representing an object and the operations that can be performed on the object. <br>\n",
    "--> **Everything in Python is an object (and has a type)!**\n",
    "\n",
    "Objects are a data abstraction that captures:\n",
    " - An internal representation through **attributes** (aka variables).\n",
    " - An interface for interacting with the object through **methods**.\n",
    "\n",
    "OOP features:\n",
    " - **Encapsulation** = data hiding.\n",
    " - **Composition** = objects within objects.\n",
    " - **inheritance**\n",
    " - **Polymorphism** = subtyping.\n",
    "\n",
    "In Python, a class is defined almost like a function, but using the `class` keyword. \n",
    "The class definition usually contains a number of attribute and method definitions.\n",
    "> **_NOTE_**: **Creating** a class means to define the variables and functions that build up the class, while **using** a class means to creating a new instance of a class and interact with it through the interface.\n",
    "\n",
    "The definition of a class in Python is as follows:"
   ]
  },
  {
   "cell_type": "code",
   "execution_count": 49,
   "id": "ec1aca26-3793-4fd0-8fb2-03d63c408a4a",
   "metadata": {},
   "outputs": [
    {
     "name": "stdout",
     "output_type": "stream",
     "text": [
      "Help on class Point in module __main__:\n",
      "\n",
      "class Point(builtins.object)\n",
      " |  Point(x, y)\n",
      " |  \n",
      " |  Simple class for representing a point in a Cartesian coordinate system.\n",
      " |  \n",
      " |  Methods defined here:\n",
      " |  \n",
      " |  __init__(self, x, y)\n",
      " |      Create a new Point at x, y.\n",
      " |      \n",
      " |      Args:\n",
      " |          :param x: (float) x coordinate.\n",
      " |          :param y: (float) y coordinate.\n",
      " |  \n",
      " |  __str__(self)\n",
      " |      Return str(self).\n",
      " |  \n",
      " |  translate(self, dx, dy)\n",
      " |      Translate the point by dx and dy in the x and y direction.\n",
      " |      \n",
      " |      Args:\n",
      " |          :param dx: (float) step along the x direction.\n",
      " |          :param dy: (float) step along the y direction.\n",
      " |  \n",
      " |  ----------------------------------------------------------------------\n",
      " |  Data descriptors defined here:\n",
      " |  \n",
      " |  __dict__\n",
      " |      dictionary for instance variables (if defined)\n",
      " |  \n",
      " |  __weakref__\n",
      " |      list of weak references to the object (if defined)\n",
      " |  \n",
      " |  ----------------------------------------------------------------------\n",
      " |  Data and other attributes defined here:\n",
      " |  \n",
      " |  name = '2D point'\n",
      "\n"
     ]
    }
   ],
   "source": [
    "class Point(object):\n",
    "    \"\"\"\n",
    "    Simple class for representing a point in a Cartesian coordinate system.\n",
    "    \"\"\"\n",
    "    name = '2D point'\n",
    "    \n",
    "    def __init__(self, x, y):\n",
    "        \"\"\"\n",
    "        Create a new Point at x, y.\n",
    "        \n",
    "        Args:\n",
    "            :param x: (float) x coordinate.\n",
    "            :param y: (float) y coordinate.\n",
    "        \"\"\"\n",
    "        # Define a first attribute\n",
    "        self.x = x\n",
    "        # Define a second attribute\n",
    "        self.y = y\n",
    "        \n",
    "    def translate(self, dx, dy):\n",
    "        \"\"\"\n",
    "        Translate the point by dx and dy in the x and y direction.\n",
    "        \n",
    "        Args:\n",
    "            :param dx: (float) step along the x direction.\n",
    "            :param dy: (float) step along the y direction.\n",
    "        \"\"\"\n",
    "        self.x += dx\n",
    "        self.y += dy\n",
    "        \n",
    "    def __str__(self):\n",
    "        return(\"Point at [{:.3f}, {:.3f}]\".format(self.x, self.y))\n",
    "    \n",
    "help(Point)"
   ]
  },
  {
   "cell_type": "markdown",
   "id": "edd048bc-478a-4130-a46a-04003eb5ac89",
   "metadata": {},
   "source": [
    "Each class method should have an argument `self` as its first argument. \n",
    "This object is a self-reference to the instance of the class.\n",
    "\n",
    "Some class method names have special meaning and you normally recognize them from the '__' prefix and suffix, for example:\n",
    "\n",
    "   - `__init__`: constructor that is invoked when the object is first created.\n",
    "   - `__str__` : A method that is invoked when a simple string representation of the class is needed, as for example when printed.\n",
    "   \n",
    "There are many more, see https://docs.python.org/3.9/reference/datamodel.html#special-method-names\n",
    "\n",
    "To create a new instance of a class:"
   ]
  },
  {
   "cell_type": "code",
   "execution_count": 50,
   "id": "2db55077-3812-44c1-847e-34ffbd143ae7",
   "metadata": {},
   "outputs": [
    {
     "name": "stdout",
     "output_type": "stream",
     "text": [
      "Point at [0.123, 0.679]\n"
     ]
    }
   ],
   "source": [
    "p1 = Point(0.12345, 0.6789)  # this will invoke the __init__ method in the Point class\n",
    "print(p1)         # this will invoke the __str__ method"
   ]
  },
  {
   "cell_type": "markdown",
   "id": "1ca7fbb6-3e18-43ba-a3a6-a5e6049029be",
   "metadata": {},
   "source": [
    "To invoke a class method in the class instance `p1`:"
   ]
  },
  {
   "cell_type": "code",
   "execution_count": 51,
   "id": "54fc3b1d-7e0a-4b86-bcb8-cbe9a41df6bf",
   "metadata": {},
   "outputs": [
    {
     "name": "stdout",
     "output_type": "stream",
     "text": [
      "Point at [0.373, 2.179]\n",
      "Point at [1.000, 1.000]\n"
     ]
    }
   ],
   "source": [
    "p2 = Point(1, 1)\n",
    "p1.translate(0.25, 1.5)\n",
    "\n",
    "print(p1)\n",
    "print(p2)"
   ]
  },
  {
   "cell_type": "markdown",
   "id": "fa84492e-ff84-40e4-a4d5-86d8044a7650",
   "metadata": {},
   "source": [
    "> **_Note_**: that calling class methods can modifiy the state of that particular class instance, but does not effect other class instances or any global variables."
   ]
  },
  {
   "cell_type": "markdown",
   "id": "69feb7c8-8576-404a-aeaf-d13f198b5726",
   "metadata": {},
   "source": [
    "In Python we don't have a clear distinction between **public** and **private** attributes and methods. Usually, a private attribute is identified by an underscore at the beginning of the attribute name.\n",
    "\n",
    "We can access attributes of a class instance with:"
   ]
  },
  {
   "cell_type": "code",
   "execution_count": 52,
   "id": "5f22a0a9-d30b-4d97-b545-ec7c2e0c7cec",
   "metadata": {},
   "outputs": [
    {
     "data": {
      "text/plain": [
       "(0.37345, 2.1789)"
      ]
     },
     "execution_count": 52,
     "metadata": {},
     "output_type": "execute_result"
    }
   ],
   "source": [
    "p1.x, p1.y"
   ]
  },
  {
   "cell_type": "markdown",
   "id": "55357864-48ed-4554-afa8-caf86035ed00",
   "metadata": {},
   "source": [
    "**It makes a difference where you define the class attributes**. When you define them in the class scope, we don't need to create a class instance to access them. Contrary, when you define them in the `__init__` method you have to make an instance to be able to access them."
   ]
  },
  {
   "cell_type": "code",
   "execution_count": 53,
   "id": "05ee1083-feef-4dd1-8998-6a5d7d830c38",
   "metadata": {},
   "outputs": [
    {
     "name": "stdout",
     "output_type": "stream",
     "text": [
      "2D point\n",
      "0.37345\n"
     ]
    },
    {
     "ename": "AttributeError",
     "evalue": "type object 'Point' has no attribute 'x'",
     "output_type": "error",
     "traceback": [
      "\u001b[0;31m---------------------------------------------------------------------------\u001b[0m",
      "\u001b[0;31mAttributeError\u001b[0m                            Traceback (most recent call last)",
      "Input \u001b[0;32mIn [53]\u001b[0m, in \u001b[0;36m<cell line: 6>\u001b[0;34m()\u001b[0m\n\u001b[1;32m      4\u001b[0m \u001b[38;5;66;03m# Attribute of the specific instance\u001b[39;00m\n\u001b[1;32m      5\u001b[0m \u001b[38;5;28mprint\u001b[39m(p1\u001b[38;5;241m.\u001b[39mx)\n\u001b[0;32m----> 6\u001b[0m \u001b[38;5;28mprint\u001b[39m(\u001b[43mPoint\u001b[49m\u001b[38;5;241;43m.\u001b[39;49m\u001b[43mx\u001b[49m)\n",
      "\u001b[0;31mAttributeError\u001b[0m: type object 'Point' has no attribute 'x'"
     ]
    }
   ],
   "source": [
    "# Global attribute of Point (don't need to create an instance to access)\n",
    "print(Point.name)\n",
    "\n",
    "# Attribute of the specific instance\n",
    "print(p1.x)\n",
    "print(Point.x)"
   ]
  },
  {
   "cell_type": "code",
   "execution_count": null,
   "id": "abe67244-0b77-4fd5-90ed-941293b4881a",
   "metadata": {},
   "outputs": [],
   "source": []
  },
  {
   "cell_type": "markdown",
   "id": "30476e83-8ab5-4032-aac3-080aa82655ac",
   "metadata": {},
   "source": [
    "### Encapsulation"
   ]
  },
  {
   "cell_type": "code",
   "execution_count": 54,
   "id": "1dc7774c-b6eb-4c94-ae82-a379c4ae2bab",
   "metadata": {},
   "outputs": [],
   "source": [
    "class Point(object):\n",
    "    def __init__(self, x, y):\n",
    "        self._x = x\n",
    "        self._y = y\n",
    "    \n",
    "    def __str__(self):\n",
    "        return f'Point2D({self._x}, {self._y})'\n",
    "    \n",
    "    def __repr__(self):\n",
    "        return str(self)\n",
    "    \n",
    "    @property\n",
    "    def x(self):\n",
    "        return self._x * 10\n",
    "    \n",
    "    @property\n",
    "    def y(self):\n",
    "        return self._y * 5"
   ]
  },
  {
   "cell_type": "code",
   "execution_count": 55,
   "id": "74b15317-878b-477b-9c94-9618ea9846fd",
   "metadata": {},
   "outputs": [
    {
     "data": {
      "text/plain": [
       "100"
      ]
     },
     "execution_count": 55,
     "metadata": {},
     "output_type": "execute_result"
    }
   ],
   "source": [
    "p2 = Point(10, 20)\n",
    "p2.x"
   ]
  },
  {
   "cell_type": "code",
   "execution_count": 56,
   "id": "41c400f1-d008-470c-a4ea-05ab5dde2562",
   "metadata": {},
   "outputs": [
    {
     "data": {
      "text/plain": [
       "10"
      ]
     },
     "execution_count": 56,
     "metadata": {},
     "output_type": "execute_result"
    }
   ],
   "source": [
    "p2._x"
   ]
  },
  {
   "cell_type": "markdown",
   "id": "409f8c41-aa4e-4dd0-925d-59a23219a959",
   "metadata": {},
   "source": [
    "### Composition"
   ]
  },
  {
   "cell_type": "code",
   "execution_count": 57,
   "id": "bbdba600-ee75-4954-8229-6873d02fb7bd",
   "metadata": {},
   "outputs": [],
   "source": [
    "class Segment(object):\n",
    "    def __init__(self, x1, y1, x2, y2):\n",
    "        self.p1 = Point(x1, y1)\n",
    "        self.p2 = Point(x2, y2)\n",
    "    \n",
    "    def __str__(self):\n",
    "        return f'Segment({self.p1}, {self.p2})'\n",
    "    \n",
    "    def __repr__(self):\n",
    "        return str(self)"
   ]
  },
  {
   "cell_type": "code",
   "execution_count": 58,
   "id": "dd076c91-f56d-4441-ad39-956296a2933d",
   "metadata": {},
   "outputs": [
    {
     "data": {
      "text/plain": [
       "Segment(Point2D(10, 20), Point2D(30, 25))"
      ]
     },
     "execution_count": 58,
     "metadata": {},
     "output_type": "execute_result"
    }
   ],
   "source": [
    "s = Segment(10, 20, 30, 25)\n",
    "s"
   ]
  },
  {
   "cell_type": "markdown",
   "id": "363c7a25-7445-4a50-909e-4df69c64bca2",
   "metadata": {},
   "source": [
    "### Inheritance"
   ]
  },
  {
   "cell_type": "code",
   "execution_count": 59,
   "id": "8de7013a-a19e-4fd0-a0d7-2cec231d18bc",
   "metadata": {},
   "outputs": [],
   "source": [
    "class Point3D(Point):\n",
    "\n",
    "    def __init__(self, x, y, z):\n",
    "        super().__init__(x, y)\n",
    "        self._z = z\n",
    "        \n",
    "    @property\n",
    "    def z(self):\n",
    "        return self._z * 2\n",
    "    \n",
    "    def __repr__(self):\n",
    "        return f'Point3D({self._x}, {self._y}, {self._z})'"
   ]
  },
  {
   "cell_type": "code",
   "execution_count": 60,
   "id": "476a4080-f131-41bf-b60b-b4681f0696d1",
   "metadata": {},
   "outputs": [
    {
     "data": {
      "text/plain": [
       "Point3D(20, 30, 40)"
      ]
     },
     "execution_count": 60,
     "metadata": {},
     "output_type": "execute_result"
    }
   ],
   "source": [
    "p3 = Point3D(20, 30, 40)\n",
    "p3"
   ]
  },
  {
   "cell_type": "code",
   "execution_count": 61,
   "id": "945b6d38-87ae-4a0b-9ede-926e0e14d21f",
   "metadata": {},
   "outputs": [
    {
     "data": {
      "text/plain": [
       "'Point2D(20, 30)'"
      ]
     },
     "execution_count": 61,
     "metadata": {},
     "output_type": "execute_result"
    }
   ],
   "source": [
    "str(p3)"
   ]
  },
  {
   "cell_type": "markdown",
   "id": "f1dc97d5-e2a7-4b4e-8bac-f9eb91805c98",
   "metadata": {},
   "source": [
    "### Polymorphism"
   ]
  },
  {
   "cell_type": "code",
   "execution_count": 62,
   "id": "c8980a10-649f-43bd-9de9-e21b7f9b0c98",
   "metadata": {},
   "outputs": [
    {
     "name": "stdout",
     "output_type": "stream",
     "text": [
      "Point2D(10, 20)\n",
      "Point3D(20, 30, 40)\n"
     ]
    }
   ],
   "source": [
    "for pp in [p2, p3]:\n",
    "    print(repr(pp))"
   ]
  },
  {
   "cell_type": "code",
   "execution_count": null,
   "id": "3172400e-12c9-4e3b-8c61-408a61265589",
   "metadata": {},
   "outputs": [],
   "source": []
  },
  {
   "cell_type": "markdown",
   "id": "f1bb5b8b-e4f1-4f47-8142-797dba416eb9",
   "metadata": {},
   "source": [
    "-----\n",
    "## Modules (Optional)"
   ]
  },
  {
   "cell_type": "markdown",
   "id": "5da5dff6-4b97-4acf-aa9b-d7149ae70018",
   "metadata": {},
   "source": [
    "One of the most important concepts in good programming is to reuse code and avoid repetitions.\n",
    "\n",
    "The idea is to write functions and classes with a well-defined purpose and scope, and reuse these instead of repeating similar code in different part of a program (_modular programming_). The result is usually that readability and maintainability of a program is greatly improved. What this means in practice is that our programs have fewer bugs, are easier to extend and debug/troubleshoot. \n",
    "\n",
    "Python supports modular programming at different levels. Functions and classes are examples of tools for **low-level modular programming**. Python modules are a **higher-level modular programming** construct, where we can collect related variables, functions and classes in a module. A python module is defined in a python file (with file-ending `.py`), and it can be made accessible to other Python modules and programs using the `import` statement. \n",
    "\n",
    "Consider the following example: the file `mymodule.py` contains simple example implementations of a variable, function and a class:"
   ]
  },
  {
   "cell_type": "code",
   "execution_count": 63,
   "id": "0a781182-dd6d-4c83-be23-4264c381b41a",
   "metadata": {},
   "outputs": [
    {
     "name": "stdout",
     "output_type": "stream",
     "text": [
      "Overwriting mymodule.py\n"
     ]
    }
   ],
   "source": [
    "%%file mymodule.py\n",
    "\"\"\"\n",
    "Example of a python module. Contains a variable called my_variable,\n",
    "a function called my_function, and a class called MyClass.\n",
    "\"\"\"\n",
    "\n",
    "my_variable = 0\n",
    "\n",
    "def my_function():\n",
    "    \"\"\"\n",
    "    Example function\n",
    "    \"\"\"\n",
    "    return my_variable\n",
    "    \n",
    "class MyClass:\n",
    "    \"\"\"\n",
    "    Example class.\n",
    "    \"\"\"\n",
    "\n",
    "    def __init__(self):\n",
    "        self.variable = my_variable\n",
    "        \n",
    "    def set_variable(self, new_value):\n",
    "        \"\"\"\n",
    "        Set self.variable to a new value\n",
    "        \"\"\"\n",
    "        self.variable = new_value\n",
    "        \n",
    "    def get_variable(self):\n",
    "        return self.variable"
   ]
  },
  {
   "cell_type": "markdown",
   "id": "70627c6e-ec1b-4629-9da6-0c1938958d81",
   "metadata": {},
   "source": [
    "We can import the module `mymodule` into our Python program using `import`:"
   ]
  },
  {
   "cell_type": "code",
   "execution_count": 64,
   "id": "eee3a784-0fc7-43b9-b06b-21dc11e43a0b",
   "metadata": {},
   "outputs": [],
   "source": [
    "import mymodule"
   ]
  },
  {
   "cell_type": "markdown",
   "id": "2a70dc56-8e08-44be-b4d4-b30ff750bd5a",
   "metadata": {},
   "source": [
    "Use `help(module)` to get a summary of what the module provides:"
   ]
  },
  {
   "cell_type": "code",
   "execution_count": 65,
   "id": "143f9c4b-ec26-4ef1-ac5c-0f69a97cc34b",
   "metadata": {},
   "outputs": [
    {
     "name": "stdout",
     "output_type": "stream",
     "text": [
      "Help on module mymodule:\n",
      "\n",
      "NAME\n",
      "    mymodule\n",
      "\n",
      "DESCRIPTION\n",
      "    Example of a python module. Contains a variable called my_variable,\n",
      "    a function called my_function, and a class called MyClass.\n",
      "\n",
      "CLASSES\n",
      "    builtins.object\n",
      "        MyClass\n",
      "    \n",
      "    class MyClass(builtins.object)\n",
      "     |  Example class.\n",
      "     |  \n",
      "     |  Methods defined here:\n",
      "     |  \n",
      "     |  __init__(self)\n",
      "     |      Initialize self.  See help(type(self)) for accurate signature.\n",
      "     |  \n",
      "     |  get_variable(self)\n",
      "     |  \n",
      "     |  set_variable(self, new_value)\n",
      "     |      Set self.variable to a new value\n",
      "     |  \n",
      "     |  ----------------------------------------------------------------------\n",
      "     |  Data descriptors defined here:\n",
      "     |  \n",
      "     |  __dict__\n",
      "     |      dictionary for instance variables (if defined)\n",
      "     |  \n",
      "     |  __weakref__\n",
      "     |      list of weak references to the object (if defined)\n",
      "\n",
      "FUNCTIONS\n",
      "    my_function()\n",
      "        Example function\n",
      "\n",
      "DATA\n",
      "    my_variable = 0\n",
      "\n",
      "FILE\n",
      "    /Users/andreacorsini/Dropbox/Uni/MMSD2/0_Python/mymodule.py\n",
      "\n",
      "\n"
     ]
    }
   ],
   "source": [
    "help(mymodule)"
   ]
  },
  {
   "cell_type": "code",
   "execution_count": 66,
   "id": "f2d5b5d9-f28b-4507-9c04-5cc36069e52c",
   "metadata": {},
   "outputs": [
    {
     "data": {
      "text/plain": [
       "0"
      ]
     },
     "execution_count": 66,
     "metadata": {},
     "output_type": "execute_result"
    }
   ],
   "source": [
    "mymodule.my_variable"
   ]
  },
  {
   "cell_type": "code",
   "execution_count": 67,
   "id": "1c7f4965-e255-4615-9ce0-f19bce19b82b",
   "metadata": {},
   "outputs": [
    {
     "data": {
      "text/plain": [
       "0"
      ]
     },
     "execution_count": 67,
     "metadata": {},
     "output_type": "execute_result"
    }
   ],
   "source": [
    "mymodule.my_function() "
   ]
  },
  {
   "cell_type": "code",
   "execution_count": 68,
   "id": "852b8192-dc56-4439-bdcf-2c89b669995d",
   "metadata": {},
   "outputs": [
    {
     "data": {
      "text/plain": [
       "10"
      ]
     },
     "execution_count": 68,
     "metadata": {},
     "output_type": "execute_result"
    }
   ],
   "source": [
    "my_class = mymodule.MyClass() \n",
    "my_class.set_variable(10)\n",
    "my_class.get_variable()"
   ]
  },
  {
   "cell_type": "markdown",
   "id": "33df7bef-2839-4dda-ae4a-ef40c8428378",
   "metadata": {},
   "source": [
    "If we make changes to the code in `mymodule.py`, we need to reload it using `importlib.reload()`:"
   ]
  },
  {
   "cell_type": "code",
   "execution_count": 69,
   "id": "dad756dc-84ef-429b-80f6-cbafef4d80fc",
   "metadata": {},
   "outputs": [
    {
     "data": {
      "text/plain": [
       "<module 'mymodule' from '/Users/andreacorsini/Dropbox/Uni/MMSD2/0_Python/mymodule.py'>"
      ]
     },
     "execution_count": 69,
     "metadata": {},
     "output_type": "execute_result"
    }
   ],
   "source": [
    "import importlib\n",
    "importlib.reload(mymodule)"
   ]
  },
  {
   "cell_type": "markdown",
   "id": "3efaae19-e0e9-4242-b2cc-26c30acaacb0",
   "metadata": {},
   "source": [
    "----\n",
    "## Exceptions (Optional)"
   ]
  },
  {
   "cell_type": "markdown",
   "id": "6586be49-514c-4d59-bcc8-82fc6c7082f4",
   "metadata": {},
   "source": [
    "In Python errors are managed with a special language construct called \"Exceptions\". When errors occur exceptions can be raised, which interrupts the normal program flow and fallback to somewhere else in the code where the closest try-except statement is defined."
   ]
  },
  {
   "cell_type": "markdown",
   "id": "8b7670d0-8c89-4032-a38c-6fe74f0eaccc",
   "metadata": {},
   "source": [
    "To generate an exception we can use the `raise` statement, which takes an argument that must be an instance of the class `BaseException` or a class derived from it. "
   ]
  },
  {
   "cell_type": "code",
   "execution_count": 70,
   "id": "a6dfcbb6-9ae9-4f70-a08b-955e7b556853",
   "metadata": {},
   "outputs": [
    {
     "ename": "Exception",
     "evalue": "description of the error",
     "output_type": "error",
     "traceback": [
      "\u001b[0;31m---------------------------------------------------------------------------\u001b[0m",
      "\u001b[0;31mException\u001b[0m                                 Traceback (most recent call last)",
      "Input \u001b[0;32mIn [70]\u001b[0m, in \u001b[0;36m<cell line: 1>\u001b[0;34m()\u001b[0m\n\u001b[0;32m----> 1\u001b[0m \u001b[38;5;28;01mraise\u001b[39;00m \u001b[38;5;167;01mException\u001b[39;00m(\u001b[38;5;124m\"\u001b[39m\u001b[38;5;124mdescription of the error\u001b[39m\u001b[38;5;124m\"\u001b[39m)\n",
      "\u001b[0;31mException\u001b[0m: description of the error"
     ]
    }
   ],
   "source": [
    "raise Exception(\"description of the error\")"
   ]
  },
  {
   "cell_type": "markdown",
   "id": "5ec10dc4-eb0b-4088-b087-ba8a75200976",
   "metadata": {},
   "source": [
    "A typical use of exceptions is to abort functions when some error condition occurs, for example:\n",
    "\n",
    "    def my_function(arguments):\n",
    "    \n",
    "        if not verify(arguments):\n",
    "            raise Exception(\"Invalid arguments\")\n",
    "        \n",
    "        # rest of the code goes here"
   ]
  },
  {
   "cell_type": "markdown",
   "id": "e0fc6d23-9a24-486f-bf82-47d33689e54c",
   "metadata": {},
   "source": [
    "To gracefully catch errors that are generated by functions and class methods, or by the Python interpreter itself, use the `try` and  `except` statements:\n",
    "\n",
    "    try:\n",
    "        # normal code goes here\n",
    "    except:\n",
    "        # code for error handling goes here\n",
    "        # this code is not executed unless the code\n",
    "        # above generated an error\n",
    "\n",
    "For example:"
   ]
  },
  {
   "cell_type": "code",
   "execution_count": 71,
   "id": "7a57a271-2ee4-44f9-8e9d-4883a8b4dd43",
   "metadata": {},
   "outputs": [
    {
     "name": "stdout",
     "output_type": "stream",
     "text": [
      "test\n",
      "Caught an exception\n"
     ]
    }
   ],
   "source": [
    "try:\n",
    "    print(\"test\")\n",
    "    # generate an error: the variable test is not defined\n",
    "    print(test)\n",
    "except:\n",
    "    print(\"Caught an exception\")"
   ]
  },
  {
   "cell_type": "markdown",
   "id": "a55e09c6-7dd0-47e4-94ae-f48908d4f74f",
   "metadata": {},
   "source": [
    "To get information about the error, we can access the `Exception` class instance that describes the exception by using for example:\n",
    "\n",
    "    except Exception as e:"
   ]
  },
  {
   "cell_type": "code",
   "execution_count": 72,
   "id": "cb1fa6c3-e4aa-4fe0-8201-0908b796cb78",
   "metadata": {},
   "outputs": [
    {
     "name": "stdout",
     "output_type": "stream",
     "text": [
      "test\n",
      "Caught an exception:name 'test' is not defined\n"
     ]
    }
   ],
   "source": [
    "try:\n",
    "    print(\"test\")\n",
    "    # generate an error: the variable test is not defined\n",
    "    print(test)\n",
    "except Exception as e:\n",
    "    print(\"Caught an exception:\" + str(e))"
   ]
  },
  {
   "cell_type": "markdown",
   "id": "d05a03df-0a2a-4da7-ba47-e9f8beea5a4d",
   "metadata": {},
   "source": [
    "## Further reading"
   ]
  },
  {
   "cell_type": "markdown",
   "id": "3f26c7d4-5459-45f9-8fe0-d88a08c1d036",
   "metadata": {},
   "source": [
    "* http://www.python.org - The official web page of the Python programming language.\n",
    "* http://www.python.org/dev/peps/pep-0008 - Style guide for Python programming. Highly recommended. \n",
    "* http://www.greenteapress.com/thinkpython/ - A free book on Python programming.\n",
    "* [Python Essential Reference](http://www.amazon.com/Python-Essential-Reference-4th-Edition/dp/0672329786) - A good reference book on Python programming."
   ]
  }
 ],
 "metadata": {
  "kernelspec": {
   "display_name": "Python 3 (ipykernel)",
   "language": "python",
   "name": "python3"
  },
  "language_info": {
   "codemirror_mode": {
    "name": "ipython",
    "version": 3
   },
   "file_extension": ".py",
   "mimetype": "text/x-python",
   "name": "python",
   "nbconvert_exporter": "python",
   "pygments_lexer": "ipython3",
   "version": "3.9.12"
  }
 },
 "nbformat": 4,
 "nbformat_minor": 5
}
