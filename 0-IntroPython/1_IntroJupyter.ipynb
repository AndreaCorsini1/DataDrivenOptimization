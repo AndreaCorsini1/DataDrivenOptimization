{
 "cells": [
  {
   "cell_type": "markdown",
   "metadata": {},
   "source": [
    "# Introduction to Jupyter Notebook"
   ]
  },
  {
   "cell_type": "markdown",
   "metadata": {},
   "source": [
    "This is a small notebook to help you get familiar with the idea of jupyter notebooks.\n",
    "\n",
    "After having installed a Python 3.x distribution, to set up the Jupyter notebook/lab you have to do the following:\n",
    "\n",
    "1. **Install Jupyter notebook/lab** - If you installed Anaconda Python, it should have come along. If not, shoot up a terminal and hit:\n",
    "```\n",
    "    $ # For Anaconda users:\n",
    "    $ conda install -c conda-forge jupyterlab\n",
    "    $ # Alternatively: conda install -c conda-forge jupyter notebook\n",
    "    $\n",
    "    $ # For non-Anaconda users:\n",
    "    $ pip install jupyterlab\n",
    "    $ # Alternatively: pip install jupyter notebook\n",
    "```\n",
    "\n",
    "2. **Start Jupyter** - To start a jupyter notebook, open a terminal in the exercise folder, and execute the following command:\n",
    "```\n",
    "    $ jupyter lab\n",
    "    $ # Alternatively: jupyter notebook\n",
    "```\n",
    "\n",
    "A browser should open up. If it doesn't, shoot up a browser (try to avoid Explorer), type `http://localhost:8888/lab/token=xxx_some_token_here_xxx` in the URL bar, and hit enter. Then select a notebook file in the webpage that is displayed.\n",
    "\n",
    "> **_Note:_** This tutorial provides a very brief version of the content presented at [DataCamp](https://www.datacamp.com/community/tutorials/tutorial-jupyter-notebook)"
   ]
  },
  {
   "cell_type": "markdown",
   "metadata": {},
   "source": [
    "----\n",
    "## Python program files"
   ]
  },
  {
   "cell_type": "markdown",
   "metadata": {},
   "source": [
    "Python code is usually stored in text files with the file ending in '.py': ```myprogram.py```\n",
    "\n",
    "Every line in a Python program file is assumed to be a **Python statement**, or part thereof. \n",
    "\n",
    "   * The only exception is **comment lines**, which start with the character `#` (optionally preceded by an arbitrary number of white-space characters, i.e., tabs or spaces). Comment lines are usually ignored by the Python interpreter.\n",
    "\n",
    "\n",
    "To run a Python program from the command line we use:\n",
    "```\n",
    "    $ python myprogram.py\n",
    "```\n",
    "\n",
    "\n",
    "On UNIX systems, it is common to define the path to the interpreter on the first line of the program (note that this is a comment line as far as the Python interpreter is concerned):\n",
    "```\n",
    "    #!/usr/bin/env python\n",
    "```\n",
    "\n",
    "  If we do, and if we additionally set the file script to be executable, we can run the program like this:\n",
    "```\n",
    "    $ myprogram.py\n",
    "```"
   ]
  },
  {
   "cell_type": "markdown",
   "metadata": {
    "tags": []
   },
   "source": [
    "----\n",
    "## What is a Jupyter Notebook?"
   ]
  },
  {
   "cell_type": "markdown",
   "metadata": {},
   "source": [
    "This file - an **IPython notebook** -  does not follow the standard pattern with Python code in a text file. Instead, an IPython notebook is stored as a file in [JSON](http://en.wikipedia.org/wiki/JSON) format.\n",
    "\n",
    "A \"notebook\" or \"notebook documents\" denote documents that contain both **code and rich text elements**, such as figures, links, equations, ... \n",
    "Because of the mix of code and text elements, these documents are the ideal place to **bring together an analysis description and its results** as well as they can be executed to perform the data analysis in real-time.\n",
    "\n",
    "As a **server-client application**, the Jupyter Notebook App allows you to edit and run your notebooks via a web browser.\n",
    "Its two main components are the **kernels and a dashboard**.<br>\n",
    "A kernel is a program that runs and introspects the user’s code.<br>\n",
    "The dashboard of the application not only shows you the notebook documents that you have made, but can also be used to manage the kernels\n",
    "\n",
    "\"Jupyter\" is a loose acronym meaning Julia, Python, and R.\n",
    "\n",
    "**Replication** and **reproducibility** are two of the cornerstones of the scientific method. Jupyter notebooks make it easy to accomplish both."
   ]
  },
  {
   "cell_type": "markdown",
   "metadata": {
    "tags": []
   },
   "source": [
    "**What do you mean by a combination of rich elements?**\n",
    "\n",
    "Well, you can have documenting text like this, with [links](https://github.com/iitmcvg) and images\n",
    "![iitmcvglogo](Figures/iitmcvg.png)"
   ]
  },
  {
   "cell_type": "code",
   "execution_count": 3,
   "metadata": {},
   "outputs": [
    {
     "name": "stdout",
     "output_type": "stream",
     "text": [
      "Hello World\n",
      "Boh\n"
     ]
    }
   ],
   "source": [
    "# As well as code, and see their output in real time\n",
    "print('Hello World')\n",
    "\n",
    "print('Boh')"
   ]
  },
  {
   "cell_type": "markdown",
   "metadata": {},
   "source": [
    "**Each block that you navigate using the up and down keys is called a cell**\n",
    "* Hit [Shift+Enter] to execute a cell: **Command mode**\n",
    "* Hit [Enter] to edit a cell: **Edit mode**. Once you are done, hit [Escape] to come back into command mode\n",
    "* For a list of all shortcuts, when in command mode, hit [Ctrl+H]"
   ]
  },
  {
   "cell_type": "markdown",
   "metadata": {},
   "source": [
    "### *How is it better than normal Python?*"
   ]
  },
  {
   "cell_type": "markdown",
   "metadata": {},
   "source": [
    "Well, if you're a data scientist, it stores all your variable **data in your RAM**, so you don't have to keep loading it again and again, as well as letting you embed **interactive plots** into your notebook. Let's try that by plotting the quadratic function, shall we?"
   ]
  },
  {
   "cell_type": "code",
   "execution_count": 1,
   "metadata": {
    "tags": []
   },
   "outputs": [
    {
     "name": "stdout",
     "output_type": "stream",
     "text": [
      "\u001b[33mDEPRECATION: Configuring installation scheme with distutils config files is deprecated and will no longer work in the near future. If you are using a Homebrew or Linuxbrew Python, please see discussion at https://github.com/Homebrew/homebrew-core/issues/76621\u001b[0m\n",
      "Requirement already satisfied: matplotlib in /usr/local/lib/python3.9/site-packages (3.4.3)\n",
      "Requirement already satisfied: pyparsing>=2.2.1 in /usr/local/lib/python3.9/site-packages (from matplotlib) (2.4.7)\n",
      "Requirement already satisfied: kiwisolver>=1.0.1 in /usr/local/lib/python3.9/site-packages (from matplotlib) (1.3.2)\n",
      "Requirement already satisfied: pillow>=6.2.0 in /usr/local/lib/python3.9/site-packages (from matplotlib) (8.3.2)\n",
      "Requirement already satisfied: numpy>=1.16 in /usr/local/lib/python3.9/site-packages (from matplotlib) (1.19.5)\n",
      "Requirement already satisfied: cycler>=0.10 in /usr/local/lib/python3.9/site-packages (from matplotlib) (0.10.0)\n",
      "Requirement already satisfied: python-dateutil>=2.7 in /usr/local/lib/python3.9/site-packages (from matplotlib) (2.8.2)\n",
      "Requirement already satisfied: six in /usr/local/lib/python3.9/site-packages (from cycler>=0.10->matplotlib) (1.15.0)\n",
      "Note: you may need to restart the kernel to use updated packages.\n"
     ]
    }
   ],
   "source": [
    "pip install matplotlib"
   ]
  },
  {
   "cell_type": "code",
   "execution_count": 4,
   "metadata": {},
   "outputs": [],
   "source": [
    "import numpy as np\n",
    "import matplotlib.pyplot as plt"
   ]
  },
  {
   "cell_type": "code",
   "execution_count": 5,
   "metadata": {},
   "outputs": [],
   "source": [
    "x = np.linspace(0, 5, 10)\n",
    "y = x ** 2"
   ]
  },
  {
   "cell_type": "code",
   "execution_count": 6,
   "metadata": {},
   "outputs": [
    {
     "data": {
      "image/png": "[encoded data removed]",
      "text/plain": [
       "<Figure size 432x288 with 1 Axes>"
      ]
     },
     "metadata": {
      "needs_background": "light"
     },
     "output_type": "display_data"
    }
   ],
   "source": [
    "plt.figure()\n",
    "plt.plot(x, y, 'r')\n",
    "plt.xlabel('x')\n",
    "plt.ylabel('y')\n",
    "plt.title('This be the quadratic function')\n",
    "plt.show()"
   ]
  },
  {
   "cell_type": "markdown",
   "metadata": {},
   "source": [
    "You can do all sorts of crazy stuff on matplotlib+jupyter. You can check them out [here](http://nbviewer.jupyter.org/github/jrjohansson/scientific-python-lectures/blob/master/Lecture-4-Matplotlib.ipynb).\n",
    "The only disadvantage of plotting in the jupyter notebook is that the 3D plots you generate with mlab3d will not be interactive"
   ]
  },
  {
   "cell_type": "markdown",
   "metadata": {},
   "source": [
    "The functionality of the Jupyter notebook extends to a lot more than just plotting inline graphs. You can run shell commands, time blocks of code very easily, and even write latex inline. For example,\n",
    "\n",
    "$\\displaystyle \\int_a^b\\frac{\\mathrm{d}^2x}{\\mathrm{d}t^2} + 2\\zeta\\omega_0\\frac{\\mathrm{d}x}{\\mathrm{d}t} + \\omega^2_0 x = 0$\n",
    "\n",
    "(Trust us, that isn't an image. Enter the cell in edit mode to believe it)"
   ]
  },
  {
   "cell_type": "markdown",
   "metadata": {},
   "source": [
    "**Example of running a shell command in the notebook**"
   ]
  },
  {
   "cell_type": "code",
   "execution_count": 7,
   "metadata": {},
   "outputs": [
    {
     "name": "stdout",
     "output_type": "stream",
     "text": [
      "0_Introduction.pdf         2_IntroPython_part2.ipynb\n",
      "0_Introduction.pptx        2_IntroPython_part2.pdf\n",
      "1_IntroJupyter.ipynb       \u001b[34mAdvancedEx\u001b[m\u001b[m/\n",
      "1_IntroJupyter.pdf         Book_LearningPython.pdf\n",
      "2_BasicEx.ipynb            \u001b[34mFigures\u001b[m\u001b[m/\n",
      "2_BasicEx_sol.ipynb        \u001b[34m__pycache__\u001b[m\u001b[m/\n",
      "2_IntroPython_part1.ipynb  ~$0_Introduction.pptx\n",
      "2_IntroPython_part1.pdf\n"
     ]
    }
   ],
   "source": [
    "ls"
   ]
  },
  {
   "cell_type": "code",
   "execution_count": 8,
   "metadata": {},
   "outputs": [
    {
     "data": {
      "text/plain": [
       "'/Users/andreacorsini/Dropbox/Uni/MMSD2/0_Python'"
      ]
     },
     "execution_count": 8,
     "metadata": {},
     "output_type": "execute_result"
    }
   ],
   "source": [
    "pwd"
   ]
  },
  {
   "cell_type": "markdown",
   "metadata": {},
   "source": [
    "if you want to install packages, you can also execute these commands as shell commands from inside your notebook by placing a ! in front of the commands."
   ]
  },
  {
   "cell_type": "markdown",
   "metadata": {
    "tags": []
   },
   "source": [
    "----\n",
    "## Magic commands & widgets\n",
    "\n",
    "In notebooks there are some predefined ‘magic functions’ that will make your work a lot more interactive.\n",
    "\n",
    "### Magic commands\n",
    "To see which magic commands you have available in your interpreter, you can simply run the following:"
   ]
  },
  {
   "cell_type": "code",
   "execution_count": 9,
   "metadata": {},
   "outputs": [
    {
     "data": {
      "application/json": {
       "cell": {
        "!": "OSMagics",
        "HTML": "Other",
        "SVG": "Other",
        "bash": "Other",
        "capture": "ExecutionMagics",
        "debug": "ExecutionMagics",
        "file": "Other",
        "html": "DisplayMagics",
        "javascript": "DisplayMagics",
        "js": "DisplayMagics",
        "latex": "DisplayMagics",
        "markdown": "DisplayMagics",
        "perl": "Other",
        "prun": "ExecutionMagics",
        "pypy": "Other",
        "python": "Other",
        "python2": "Other",
        "python3": "Other",
        "ruby": "Other",
        "script": "ScriptMagics",
        "sh": "Other",
        "svg": "DisplayMagics",
        "sx": "OSMagics",
        "system": "OSMagics",
        "time": "ExecutionMagics",
        "timeit": "ExecutionMagics",
        "writefile": "OSMagics"
       },
       "line": {
        "alias": "OSMagics",
        "alias_magic": "BasicMagics",
        "autoawait": "AsyncMagics",
        "autocall": "AutoMagics",
        "automagic": "AutoMagics",
        "autosave": "KernelMagics",
        "bookmark": "OSMagics",
        "cat": "Other",
        "cd": "OSMagics",
        "clear": "KernelMagics",
        "colors": "BasicMagics",
        "conda": "PackagingMagics",
        "config": "ConfigMagics",
        "connect_info": "KernelMagics",
        "cp": "Other",
        "debug": "ExecutionMagics",
        "dhist": "OSMagics",
        "dirs": "OSMagics",
        "doctest_mode": "BasicMagics",
        "ed": "Other",
        "edit": "KernelMagics",
        "env": "OSMagics",
        "gui": "BasicMagics",
        "hist": "Other",
        "history": "HistoryMagics",
        "killbgscripts": "ScriptMagics",
        "ldir": "Other",
        "less": "KernelMagics",
        "lf": "Other",
        "lk": "Other",
        "ll": "Other",
        "load": "CodeMagics",
        "load_ext": "ExtensionMagics",
        "loadpy": "CodeMagics",
        "logoff": "LoggingMagics",
        "logon": "LoggingMagics",
        "logstart": "LoggingMagics",
        "logstate": "LoggingMagics",
        "logstop": "LoggingMagics",
        "ls": "Other",
        "lsmagic": "BasicMagics",
        "lx": "Other",
        "macro": "ExecutionMagics",
        "magic": "BasicMagics",
        "man": "KernelMagics",
        "matplotlib": "PylabMagics",
        "mkdir": "Other",
        "more": "KernelMagics",
        "mv": "Other",
        "notebook": "BasicMagics",
        "page": "BasicMagics",
        "pastebin": "CodeMagics",
        "pdb": "ExecutionMagics",
        "pdef": "NamespaceMagics",
        "pdoc": "NamespaceMagics",
        "pfile": "NamespaceMagics",
        "pinfo": "NamespaceMagics",
        "pinfo2": "NamespaceMagics",
        "pip": "PackagingMagics",
        "popd": "OSMagics",
        "pprint": "BasicMagics",
        "precision": "BasicMagics",
        "prun": "ExecutionMagics",
        "psearch": "NamespaceMagics",
        "psource": "NamespaceMagics",
        "pushd": "OSMagics",
        "pwd": "OSMagics",
        "pycat": "OSMagics",
        "pylab": "PylabMagics",
        "qtconsole": "KernelMagics",
        "quickref": "BasicMagics",
        "recall": "HistoryMagics",
        "rehashx": "OSMagics",
        "reload_ext": "ExtensionMagics",
        "rep": "Other",
        "rerun": "HistoryMagics",
        "reset": "NamespaceMagics",
        "reset_selective": "NamespaceMagics",
        "rm": "Other",
        "rmdir": "Other",
        "run": "ExecutionMagics",
        "save": "CodeMagics",
        "sc": "OSMagics",
        "set_env": "OSMagics",
        "store": "StoreMagics",
        "sx": "OSMagics",
        "system": "OSMagics",
        "tb": "ExecutionMagics",
        "time": "ExecutionMagics",
        "timeit": "ExecutionMagics",
        "unalias": "OSMagics",
        "unload_ext": "ExtensionMagics",
        "who": "NamespaceMagics",
        "who_ls": "NamespaceMagics",
        "whos": "NamespaceMagics",
        "xdel": "NamespaceMagics",
        "xmode": "BasicMagics"
       }
      },
      "text/plain": [
       "Available line magics:\n",
       "%alias  %alias_magic  %autoawait  %autocall  %automagic  %autosave  %bookmark  %cat  %cd  %clear  %colors  %conda  %config  %connect_info  %cp  %debug  %dhist  %dirs  %doctest_mode  %ed  %edit  %env  %gui  %hist  %history  %killbgscripts  %ldir  %less  %lf  %lk  %ll  %load  %load_ext  %loadpy  %logoff  %logon  %logstart  %logstate  %logstop  %ls  %lsmagic  %lx  %macro  %magic  %man  %matplotlib  %mkdir  %more  %mv  %notebook  %page  %pastebin  %pdb  %pdef  %pdoc  %pfile  %pinfo  %pinfo2  %pip  %popd  %pprint  %precision  %prun  %psearch  %psource  %pushd  %pwd  %pycat  %pylab  %qtconsole  %quickref  %recall  %rehashx  %reload_ext  %rep  %rerun  %reset  %reset_selective  %rm  %rmdir  %run  %save  %sc  %set_env  %store  %sx  %system  %tb  %time  %timeit  %unalias  %unload_ext  %who  %who_ls  %whos  %xdel  %xmode\n",
       "\n",
       "Available cell magics:\n",
       "%%!  %%HTML  %%SVG  %%bash  %%capture  %%debug  %%file  %%html  %%javascript  %%js  %%latex  %%markdown  %%perl  %%prun  %%pypy  %%python  %%python2  %%python3  %%ruby  %%script  %%sh  %%svg  %%sx  %%system  %%time  %%timeit  %%writefile\n",
       "\n",
       "Automagic is ON, % prefix IS NOT needed for line magics."
      ]
     },
     "execution_count": 9,
     "metadata": {},
     "output_type": "execute_result"
    }
   ],
   "source": [
    "lsmagic"
   ]
  },
  {
   "cell_type": "markdown",
   "metadata": {},
   "source": [
    "If you're looking for more information on the magics commands or functions, you can always use the `?` command."
   ]
  },
  {
   "cell_type": "code",
   "execution_count": 10,
   "metadata": {},
   "outputs": [
    {
     "data": {
      "text/plain": [
       "\u001b[0;31mDocstring:\u001b[0m\n",
       "Time execution of a Python statement or expression.\n",
       "\n",
       "The CPU and wall clock times are printed, and the value of the\n",
       "expression (if any) is returned.  Note that under Win32, system time\n",
       "is always reported as 0, since it can not be measured.\n",
       "\n",
       "This function can be used both as a line and cell magic:\n",
       "\n",
       "- In line mode you can time a single-line statement (though multiple\n",
       "  ones can be chained with using semicolons).\n",
       "\n",
       "- In cell mode, you can time the cell body (a directly\n",
       "  following statement raises an error).\n",
       "\n",
       "This function provides very basic timing functionality.  Use the timeit\n",
       "magic for more control over the measurement.\n",
       "\n",
       ".. versionchanged:: 7.3\n",
       "    User variables are no longer expanded,\n",
       "    the magic line is always left unmodified.\n",
       "\n",
       "Examples\n",
       "--------\n",
       "::\n",
       "\n",
       "  In [1]: %time 2**128\n",
       "  CPU times: user 0.00 s, sys: 0.00 s, total: 0.00 s\n",
       "  Wall time: 0.00\n",
       "  Out[1]: 340282366920938463463374607431768211456L\n",
       "\n",
       "  In [2]: n = 1000000\n",
       "\n",
       "  In [3]: %time sum(range(n))\n",
       "  CPU times: user 1.20 s, sys: 0.05 s, total: 1.25 s\n",
       "  Wall time: 1.37\n",
       "  Out[3]: 499999500000L\n",
       "\n",
       "  In [4]: %time print 'hello world'\n",
       "  hello world\n",
       "  CPU times: user 0.00 s, sys: 0.00 s, total: 0.00 s\n",
       "  Wall time: 0.00\n",
       "\n",
       ".. note::\n",
       "    The time needed by Python to compile the given expression will be\n",
       "    reported if it is more than 0.1s.\n",
       "\n",
       "    In the example below, the actual exponentiation is done by Python\n",
       "    at compilation time, so while the expression can take a noticeable\n",
       "    amount of time to compute, that time is purely due to the\n",
       "    compilation::\n",
       "\n",
       "        In [5]: %time 3**9999;\n",
       "        CPU times: user 0.00 s, sys: 0.00 s, total: 0.00 s\n",
       "        Wall time: 0.00 s\n",
       "\n",
       "        In [6]: %time 3**999999;\n",
       "        CPU times: user 0.00 s, sys: 0.00 s, total: 0.00 s\n",
       "        Wall time: 0.00 s\n",
       "        Compiler : 0.78 s\n",
       "\u001b[0;31mFile:\u001b[0m      /Library/Frameworks/Python.framework/Versions/3.9/lib/python3.9/site-packages/IPython/core/magics/execution.py\n"
      ]
     },
     "metadata": {},
     "output_type": "display_data"
    }
   ],
   "source": [
    "?time"
   ]
  },
  {
   "cell_type": "code",
   "execution_count": 11,
   "metadata": {},
   "outputs": [
    {
     "name": "stdout",
     "output_type": "stream",
     "text": [
      "CPU times: user 8 µs, sys: 3 µs, total: 11 µs\n",
      "Wall time: 14.1 µs\n"
     ]
    }
   ],
   "source": [
    "time x = range(1000)"
   ]
  },
  {
   "cell_type": "markdown",
   "metadata": {},
   "source": [
    "### Widgets\n",
    "The magic commands already do a lot to make your workflow with notebooks agreeable.\n",
    "You can also take additional steps to make your notebook an interactive place for others by adding widgets to it!"
   ]
  },
  {
   "cell_type": "code",
   "execution_count": 12,
   "metadata": {},
   "outputs": [
    {
     "name": "stdout",
     "output_type": "stream",
     "text": [
      "zsh:1: command not found: pip\n",
      "Enabling notebook extension jupyter-js-widgets/extension...\n",
      "      - Validating: \u001b[32mOK\u001b[0m\n"
     ]
    }
   ],
   "source": [
    "!pip install ipywidgets\n",
    "!jupyter nbextension enable --py widgetsnbextension"
   ]
  },
  {
   "cell_type": "markdown",
   "metadata": {},
   "source": [
    "**Make sure to restart the notebook!**"
   ]
  },
  {
   "cell_type": "code",
   "execution_count": 13,
   "metadata": {},
   "outputs": [
    {
     "data": {
      "application/vnd.jupyter.widget-view+json": {
       "model_id": "d7a7d896c19b45a492cd91947aca529b",
       "version_major": 2,
       "version_minor": 0
      },
      "text/plain": [
       "Text(value='')"
      ]
     },
     "metadata": {},
     "output_type": "display_data"
    }
   ],
   "source": [
    "from ipywidgets import widgets\n",
    "from IPython.display import display\n",
    "\n",
    "text = widgets.Text()\n",
    "display(text)\n",
    "\n",
    "def handle_submit(sender):\n",
    "    print(text.value)\n",
    "    \n",
    "text.on_submit(handle_submit)"
   ]
  },
  {
   "cell_type": "markdown",
   "metadata": {},
   "source": [
    "This example was taken from a wonderful tutorial on building interactive dashboards in Jupyter, which you can find on [this page](https://blog.dominodatalab.com/interactive-dashboards-in-jupyter)."
   ]
  },
  {
   "cell_type": "markdown",
   "metadata": {},
   "source": [
    "-----\n",
    "## The boring flowchart "
   ]
  },
  {
   "cell_type": "markdown",
   "metadata": {},
   "source": [
    "Just to refresh your ideas, a flowchart is a graphical representation of an algorithm. \n",
    "A flowchart can be helpful for both writing programs and explaining the program to others.\n",
    "\n",
    "The typical symbols of flowchart diagrams are:\n",
    "\n",
    "![FCsymbols](Figures/FC_symbols.png)"
   ]
  },
  {
   "cell_type": "markdown",
   "metadata": {},
   "source": [
    "The only reason to keep in mind flowchart is about the **flow of operations in an algorithm**.\n",
    "Though flowcharts can be useful for writing and analyzing a program, drawing a flowchart for complex programs can be more complicated than writing the program itself. Hence, creating flowcharts for complex programs is often ignored.\n",
    "\n",
    "--> Although you are not computer scientist, you should be able to understand what the following program does:\n",
    "\n",
    "![FCsymbols](Figures/FC_example.png)"
   ]
  }
 ],
 "metadata": {
  "kernelspec": {
   "display_name": "Python 3 (ipykernel)",
   "language": "python",
   "name": "python3"
  },
  "language_info": {
   "codemirror_mode": {
    "name": "ipython",
    "version": 3
   },
   "file_extension": ".py",
   "mimetype": "text/x-python",
   "name": "python",
   "nbconvert_exporter": "python",
   "pygments_lexer": "ipython3",
   "version": "3.9.12"
  },
  "toc-autonumbering": false
 },
 "nbformat": 4,
 "nbformat_minor": 4
}
