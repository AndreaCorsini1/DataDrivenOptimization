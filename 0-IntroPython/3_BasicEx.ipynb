{
 "cells": [
  {
   "cell_type": "markdown",
   "id": "dd69c783-83fe-471d-bdc5-23fa88889a1c",
   "metadata": {},
   "source": [
    "# String"
   ]
  },
  {
   "cell_type": "markdown",
   "id": "f89eb1c3-a514-4a42-aeef-0fb8bd557aa7",
   "metadata": {},
   "source": [
    "1) Take in a string with the notebook widgets and print its length."
   ]
  },
  {
   "cell_type": "code",
   "execution_count": null,
   "id": "1a064c58-ac14-4037-b54e-9b6c421d4b11",
   "metadata": {},
   "outputs": [],
   "source": []
  },
  {
   "cell_type": "markdown",
   "id": "d290dd58-cf20-489a-abe9-966bbdc2b50f",
   "metadata": {},
   "source": [
    "2) Take in a string with the notebook widgets and count the number of characters (character frequency) in a string."
   ]
  },
  {
   "cell_type": "code",
   "execution_count": null,
   "id": "b4a4478a-855a-49ed-8aaf-c23d58d67ebf",
   "metadata": {},
   "outputs": [],
   "source": []
  },
  {
   "cell_type": "markdown",
   "id": "281922b8-4c8c-4f49-a533-9fb74978b617",
   "metadata": {},
   "source": [
    "3) Get a string made of the first 2 and the last 2 chars from \"azzeccagarbugli\"."
   ]
  },
  {
   "cell_type": "code",
   "execution_count": 2,
   "id": "b10652ed-da8a-4231-b7a3-95ab2d15ce64",
   "metadata": {},
   "outputs": [],
   "source": [
    "# Use as input\n",
    "input = 'azzeccagarbugli'"
   ]
  },
  {
   "cell_type": "code",
   "execution_count": null,
   "id": "03076c2a-2c5c-4fda-b809-e217a921ed31",
   "metadata": {},
   "outputs": [],
   "source": []
  },
  {
   "cell_type": "markdown",
   "id": "d53e1fb8-ae4c-463d-a0b2-80a1bca6f833",
   "metadata": {},
   "source": [
    "4) Take in a string and an integer with the notebook widgets and remove the character from the string at the position of the integer."
   ]
  },
  {
   "cell_type": "code",
   "execution_count": null,
   "id": "9c75d40c-c400-4369-9cb7-324ab091da4a",
   "metadata": {},
   "outputs": [],
   "source": []
  },
  {
   "cell_type": "markdown",
   "id": "906c2768-a3b1-413e-92e5-faf7ca7aa117",
   "metadata": {},
   "source": [
    "5) Remove the spaces from an input string (take it in from the notebook widgets)."
   ]
  },
  {
   "cell_type": "code",
   "execution_count": null,
   "id": "57df307d-81c8-4de4-a6c6-369a3a5d934a",
   "metadata": {},
   "outputs": [],
   "source": []
  },
  {
   "cell_type": "markdown",
   "id": "f748d9ee-d489-4aa6-9cb1-fa85b8afe1a0",
   "metadata": {},
   "source": [
    "6) Count the occurrences of each word."
   ]
  },
  {
   "cell_type": "code",
   "execution_count": 6,
   "id": "8f4705c7-5092-4fb0-8004-e23c1621347e",
   "metadata": {},
   "outputs": [
    {
     "name": "stdout",
     "output_type": "stream",
     "text": [
      "The Bible (from Koine Greek τὰ βιβλία, tà biblía, 'the books') is a collection of religious texts, writings, or scriptures sacred in Judaism, Samaritanism, Christianity, Islam, Rastafari, and many other faiths. It appears in the form of an anthology, a compilation of texts of a variety of forms that are all linked by the belief that they are collectively revelations of God. These texts include theologically-focused historical accounts, hymns, prayers, proverbs, parables, didactic letters, admonitions, essays, poetry, and prophecies. Believers also generally consider the Bible to be a product of divine inspiration.\n"
     ]
    }
   ],
   "source": [
    "# Use as input\n",
    "input = \"The Bible (from Koine Greek τὰ βιβλία, tà biblía, 'the books') is a collection of religious texts, writings, or scriptures sacred in Judaism, Samaritanism, Christianity, Islam, Rastafari, and many other faiths. It appears in the form of an anthology, a compilation of texts of a variety of forms that are all linked by the belief that they are collectively revelations of God. These texts include theologically-focused historical accounts, hymns, prayers, proverbs, parables, didactic letters, admonitions, essays, poetry, and prophecies. Believers also generally consider the Bible to be a product of divine inspiration.\"\n",
    "print(input)"
   ]
  },
  {
   "cell_type": "code",
   "execution_count": null,
   "id": "1b4b58f7-0a91-49cf-bef0-9c73c778629b",
   "metadata": {},
   "outputs": [],
   "source": []
  },
  {
   "cell_type": "markdown",
   "id": "a2d6ca98-b76e-4d17-9037-855c01966f44",
   "metadata": {},
   "source": [
    "7) Given a comma separated sequence of words as input, print the unique words in sorted form (alphanumerically)."
   ]
  },
  {
   "cell_type": "code",
   "execution_count": 9,
   "id": "698e2454-827f-4b65-aabe-b14d94aa7dc4",
   "metadata": {},
   "outputs": [
    {
     "name": "stdout",
     "output_type": "stream",
     "text": [
      "Year,Make,Model,Description,Price \n",
      " 1997,Ford,E350,\"ac, abs, moon\",3000.00 \n",
      " 1999,Chevy,\"Venture \"\"Extended Edition\"\"\",\"\",4900.00 \n",
      " 1999,Chevy,\"Venture \"\"Extended Edition, Very Large\"\"\",,5000.00\n",
      "1996,Jeep,Grand Cherokee,\"MUST SELL!air, moon roof, loaded\",4799.00 \n",
      "\n"
     ]
    }
   ],
   "source": [
    "# Use as input\n",
    "input = 'Year,Make,Model,Description,Price \\n 1997,Ford,E350,\"ac, abs, moon\",3000.00 \\n 1999,Chevy,\"Venture \"\"Extended Edition\"\"\",\"\",4900.00 \\n 1999,Chevy,\"Venture \"\"Extended Edition, Very Large\"\"\",,5000.00\\n1996,Jeep,Grand Cherokee,\"MUST SELL!air, moon roof, loaded\",4799.00 \\n'\n",
    "print(input)"
   ]
  },
  {
   "cell_type": "code",
   "execution_count": null,
   "id": "67b92052-2f30-4a0a-ab49-c891ce6c1b20",
   "metadata": {},
   "outputs": [],
   "source": []
  },
  {
   "cell_type": "markdown",
   "id": "7a98bfa9-a15f-4759-955e-22ca42ad2f85",
   "metadata": {},
   "source": [
    "8) Take in a string and lowercase the first 1/3 of the characters."
   ]
  },
  {
   "cell_type": "code",
   "execution_count": null,
   "id": "3302deb0-a62b-4976-b113-4830ef5d2511",
   "metadata": {},
   "outputs": [],
   "source": []
  },
  {
   "cell_type": "markdown",
   "id": "2e6265a5-a5eb-4d05-8373-9700d5d85eb6",
   "metadata": {},
   "source": [
    "9) Convert a given heterogeneous list of scalars into a string."
   ]
  },
  {
   "cell_type": "code",
   "execution_count": 14,
   "id": "c6b509f6-b2d1-4c61-9928-579e2bf9c636",
   "metadata": {},
   "outputs": [],
   "source": [
    "# Use as input\n",
    "input = ['Red', 100, -50, 'green', \"w,3,r\", 12.12, False]"
   ]
  },
  {
   "cell_type": "code",
   "execution_count": null,
   "id": "4b609cee-b8b6-4b1d-b64b-467e6fbe3b45",
   "metadata": {},
   "outputs": [],
   "source": []
  },
  {
   "cell_type": "markdown",
   "id": "7177dd8c-84a5-436c-b5bc-7feea2e08ad8",
   "metadata": {},
   "source": [
    "10) Extract numbers from a given string."
   ]
  },
  {
   "cell_type": "code",
   "execution_count": 13,
   "id": "3910905a-8877-4957-99b8-c74077c16528",
   "metadata": {},
   "outputs": [],
   "source": [
    "# Use as input\n",
    "input = 'The year is 1945 and the 20 of September he gains 12.34 euro'"
   ]
  },
  {
   "cell_type": "code",
   "execution_count": null,
   "id": "cb734d70-b967-49d5-8d9b-e8cc85f98265",
   "metadata": {},
   "outputs": [],
   "source": []
  },
  {
   "cell_type": "markdown",
   "id": "cc3eeea6-5139-4f8c-9572-48ff86323a1c",
   "metadata": {
    "tags": []
   },
   "source": [
    "---\n",
    "# Tuples"
   ]
  },
  {
   "cell_type": "markdown",
   "id": "fdf612c6-f366-413d-a01c-54243d83bf5b",
   "metadata": {},
   "source": [
    "1) Unpack this tuple `(1, 2.45, 'dude', 17)` in separate variables."
   ]
  },
  {
   "cell_type": "code",
   "execution_count": 15,
   "id": "2852a6e7-7e2b-48af-8ae6-903c621b0ce8",
   "metadata": {},
   "outputs": [],
   "source": [
    "input = 1, 2.45, 'dude', 17"
   ]
  },
  {
   "cell_type": "code",
   "execution_count": null,
   "id": "39addee2-fc04-46ca-8b40-864d671ee70d",
   "metadata": {},
   "outputs": [],
   "source": []
  },
  {
   "cell_type": "markdown",
   "id": "a5f6db2c-5758-4e29-ba03-bbd4368ae961",
   "metadata": {},
   "source": [
    "2) Find a way to add `'possible'` to the previous tuple."
   ]
  },
  {
   "cell_type": "code",
   "execution_count": null,
   "id": "b33f7ccb-0a5e-4e54-a1e4-9d700b4a24eb",
   "metadata": {},
   "outputs": [],
   "source": []
  },
  {
   "cell_type": "markdown",
   "id": "47c4380c-77a4-4b12-9709-7fe1c0c7e5ea",
   "metadata": {},
   "source": [
    "3) Get the 4th element from the begining and ending of this tuple: `(1, 2, 3, 4, 5)`."
   ]
  },
  {
   "cell_type": "code",
   "execution_count": null,
   "id": "8bd701c7-1402-43d6-a8fd-0a44f1347565",
   "metadata": {},
   "outputs": [],
   "source": []
  },
  {
   "cell_type": "markdown",
   "id": "9789f1a0-450d-4ce1-aab0-e517cbacdbd2",
   "metadata": {},
   "source": [
    "4) Find and print the repeated items in this tuple: `('a', 'b', 'a', 'c', 'd', 'c')`."
   ]
  },
  {
   "cell_type": "code",
   "execution_count": null,
   "id": "07f452cd-052c-4198-9ece-12475ae05f39",
   "metadata": {},
   "outputs": [],
   "source": []
  },
  {
   "cell_type": "markdown",
   "id": "f8618cbc-e921-4502-9dc2-1d2e760dcc52",
   "metadata": {},
   "source": [
    "5) Find and print the items that have a single occurence in this tuple: `('a', 'b', 'a', 'c', 'd', 'c')`."
   ]
  },
  {
   "cell_type": "code",
   "execution_count": null,
   "id": "632a5060-82aa-4cec-b2ae-966b681c198a",
   "metadata": {},
   "outputs": [],
   "source": []
  },
  {
   "cell_type": "markdown",
   "id": "156d58db-853a-491c-ba75-8e81d24d3211",
   "metadata": {},
   "source": [
    "6) Take in a tuple and a character from the notebook widgets and check whether the character exists within the tuple."
   ]
  },
  {
   "cell_type": "code",
   "execution_count": null,
   "id": "66fba2a2-6f07-4aad-9dc1-e47d06bcf169",
   "metadata": {},
   "outputs": [],
   "source": []
  },
  {
   "cell_type": "markdown",
   "id": "523886af-fe1f-43bf-890b-7fb36164a5e9",
   "metadata": {},
   "source": [
    "7) Take in a tuple from the notebook widgets and reverse it."
   ]
  },
  {
   "cell_type": "code",
   "execution_count": null,
   "id": "edaf0cfe-6161-47d7-98db-41d4086107c7",
   "metadata": {},
   "outputs": [],
   "source": []
  },
  {
   "cell_type": "markdown",
   "id": "cc0eefec-b64d-463c-bea3-6a548a4205f8",
   "metadata": {},
   "source": [
    "8) Remove the empty tuples from a list of tuples. Use:\n",
    "`[(), (1, 2,), (1,), (), (9, 2), (None,)]`."
   ]
  },
  {
   "cell_type": "code",
   "execution_count": null,
   "id": "e6d8e6df-463f-43b5-96a9-8d060b8ea7f8",
   "metadata": {},
   "outputs": [],
   "source": []
  },
  {
   "cell_type": "markdown",
   "id": "dd0cb0cb-c1cf-463b-bb58-72ec82936c0f",
   "metadata": {},
   "source": [
    "9) Calculate the average value of the numbers in: `(2.4, 3, 23.6, 3, 3, 10)`."
   ]
  },
  {
   "cell_type": "code",
   "execution_count": null,
   "id": "cd1a8511-a77b-494c-a424-b935e583c2f6",
   "metadata": {},
   "outputs": [],
   "source": []
  },
  {
   "cell_type": "markdown",
   "id": "53285669-482c-46cc-81b2-85ec02e506ee",
   "metadata": {},
   "source": [
    "10) "
   ]
  },
  {
   "cell_type": "code",
   "execution_count": null,
   "id": "c74ecac2-c417-4e69-8050-378a95f7f56a",
   "metadata": {},
   "outputs": [],
   "source": []
  },
  {
   "cell_type": "markdown",
   "id": "33491730-3622-48fa-a7bb-b3420889fb3a",
   "metadata": {},
   "source": [
    "----\n",
    "# Lists"
   ]
  },
  {
   "cell_type": "markdown",
   "id": "bea3ba89-33ce-46bf-922e-939a3dd8d212",
   "metadata": {},
   "source": [
    "1) Sum all the numbers in this list: `[1, 2, 3, 4, 5.89]`."
   ]
  },
  {
   "cell_type": "code",
   "execution_count": null,
   "id": "2cffda06-93f9-43c1-ad26-8ad37ec2f828",
   "metadata": {},
   "outputs": [],
   "source": []
  },
  {
   "cell_type": "markdown",
   "id": "8f8e4071-8242-4575-9ab3-7c8806ec938f",
   "metadata": {
    "tags": []
   },
   "source": [
    "2) Take in a list of number from the widgets and get the largest one."
   ]
  },
  {
   "cell_type": "code",
   "execution_count": null,
   "id": "529668a8-bfb1-482f-a9a6-e0e9ec6d01e8",
   "metadata": {
    "tags": []
   },
   "outputs": [],
   "source": []
  },
  {
   "cell_type": "markdown",
   "id": "1d88a305-e7fe-4e0e-a413-e58d9a093981",
   "metadata": {},
   "source": [
    "3) Take in two lists from the widgets and returns True if they have at least one common member."
   ]
  },
  {
   "cell_type": "code",
   "execution_count": null,
   "id": "c52a0021-c3d3-433a-b9c4-1c44e6072a4a",
   "metadata": {},
   "outputs": [],
   "source": []
  },
  {
   "cell_type": "markdown",
   "id": "add96462-4abf-4bfc-9eec-5e6d5ab8981c",
   "metadata": {},
   "source": [
    "4) Generate a list of lists of lists with shape (3, 4, 6), each item must be a `*`."
   ]
  },
  {
   "cell_type": "code",
   "execution_count": null,
   "id": "bdf36271-0d56-4e1f-955f-8984f65aaf30",
   "metadata": {},
   "outputs": [],
   "source": []
  },
  {
   "cell_type": "markdown",
   "id": "fa3e0cc4-d072-4ed7-89a6-f9263633afdc",
   "metadata": {},
   "source": [
    "5) Generate all permutations of `[1, 2, 3, 4]`."
   ]
  },
  {
   "cell_type": "code",
   "execution_count": null,
   "id": "28e71d18-581d-4720-bba6-276ec94b3edc",
   "metadata": {},
   "outputs": [],
   "source": []
  },
  {
   "cell_type": "markdown",
   "id": "f5dbd9b6-b532-42e0-b4b4-966cfb8f9257",
   "metadata": {},
   "source": [
    "6) Take in two lists from the widgets amd find the set intersection and set difference between them."
   ]
  },
  {
   "cell_type": "code",
   "execution_count": null,
   "id": "ca1c5807-e7c2-400a-985e-3233faa772f6",
   "metadata": {},
   "outputs": [],
   "source": []
  },
  {
   "cell_type": "markdown",
   "id": "b1228869-30b8-4a5e-b8e9-512d751fdbed",
   "metadata": {},
   "source": [
    "7) Convert a list of characters into a string. Use `['a', 'c', 'i', 'd']`."
   ]
  },
  {
   "cell_type": "code",
   "execution_count": null,
   "id": "cef8ba03-1704-4f33-873d-2ac4a68450be",
   "metadata": {},
   "outputs": [],
   "source": []
  },
  {
   "cell_type": "markdown",
   "id": "95badc8c-b98f-4b77-afd9-fb2d361098b8",
   "metadata": {},
   "source": [
    "8) Select the prime numbers from: `[13, 25, 7, 296587, 332, 1]` and make a new list."
   ]
  },
  {
   "cell_type": "code",
   "execution_count": null,
   "id": "0794858c-e22c-4957-bd82-2ad7d79b62d4",
   "metadata": {},
   "outputs": [],
   "source": []
  },
  {
   "cell_type": "markdown",
   "id": "33353a7e-7175-44ba-9851-99b6b3a7fca9",
   "metadata": {},
   "source": [
    "9) Take in two lists from the notebook widgets and iterate simultaneously over them by printing the pairs."
   ]
  },
  {
   "cell_type": "code",
   "execution_count": null,
   "id": "08e00e5d-4311-42ad-bae3-e6ddca2cd032",
   "metadata": {},
   "outputs": [],
   "source": []
  },
  {
   "cell_type": "markdown",
   "id": "e9044c32-54d9-4c31-8805-e53f727a1756",
   "metadata": {},
   "source": [
    "10) "
   ]
  },
  {
   "cell_type": "code",
   "execution_count": null,
   "id": "2ebbe4fa-cc4d-4c19-b179-c7948500f3a4",
   "metadata": {},
   "outputs": [],
   "source": []
  },
  {
   "cell_type": "markdown",
   "id": "bf4017ec-e01a-4f8b-9093-9192d0c99ec7",
   "metadata": {
    "tags": []
   },
   "source": [
    "----\n",
    "# Dictionaries"
   ]
  },
  {
   "cell_type": "markdown",
   "id": "1544cfe9-ff6f-4936-98ae-0b2b510a5a9b",
   "metadata": {},
   "source": [
    "1) Sort (ascending and descending) the following dictionary by value and print in output two lists containing the sorted keys."
   ]
  },
  {
   "cell_type": "code",
   "execution_count": 16,
   "id": "4bf412a5-ab2e-48ad-9b29-ea551c52b256",
   "metadata": {},
   "outputs": [],
   "source": [
    "input = {12.45: 'acc', 2: 'zecc', 453235.67: 'reds', 12: 'rred'}"
   ]
  },
  {
   "cell_type": "code",
   "execution_count": null,
   "id": "5096a496-04ac-4ffb-be2b-a58d8a96977a",
   "metadata": {},
   "outputs": [],
   "source": []
  },
  {
   "cell_type": "markdown",
   "id": "ced84b8c-193d-42a6-b529-8dd365f426c7",
   "metadata": {},
   "source": [
    "2) Iterate over the previous dictionary using a for loop and make a tuple of the keys and a tuple of the values."
   ]
  },
  {
   "cell_type": "code",
   "execution_count": null,
   "id": "728afb56-888a-4db6-bf27-53975ca6adb7",
   "metadata": {},
   "outputs": [],
   "source": []
  },
  {
   "cell_type": "markdown",
   "id": "b635e99b-9c70-43dc-848b-aab22544e4aa",
   "metadata": {},
   "source": [
    "3) Find a way to merge two dictionaries."
   ]
  },
  {
   "cell_type": "code",
   "execution_count": 17,
   "id": "f04871ee-0d49-4ca3-af3d-3c225815880c",
   "metadata": {},
   "outputs": [],
   "source": [
    "input1 = {'a': 12, 'b': 34, 'c': 23}\n",
    "input2 = {'d': 'e', 'f': 'g'}"
   ]
  },
  {
   "cell_type": "code",
   "execution_count": null,
   "id": "2a6f0366-af4d-4623-bcfc-3d732f27d31b",
   "metadata": {},
   "outputs": [],
   "source": []
  },
  {
   "cell_type": "markdown",
   "id": "e29f5e7a-20ce-4a22-911c-497f4575e3ec",
   "metadata": {},
   "source": [
    "4) Remove all the repeated occurences of the values from a dictionary (keep only the first occurence)."
   ]
  },
  {
   "cell_type": "code",
   "execution_count": 23,
   "id": "f3f8ed7d-236a-4192-9152-1a0629bcfc20",
   "metadata": {},
   "outputs": [
    {
     "data": {
      "text/plain": [
       "{'c': 12,\n",
       " 'cc': 12,\n",
       " 'h': 34,\n",
       " 'c1': 12,\n",
       " 'e': 343,\n",
       " ' ': 3445,\n",
       " 'p': 54,\n",
       " 'a': 54,\n",
       " 'p5': 12,\n",
       " 'll': 0,\n",
       " 'lj': 0,\n",
       " 'a!': 511}"
      ]
     },
     "execution_count": 23,
     "metadata": {},
     "output_type": "execute_result"
    }
   ],
   "source": [
    "input = {'c': 12, 'cc': 12, 'h': 34, 'c1': 12, 'e': 343, ' ': 3445, 'p': 54, 'a': 56, 'p5': 12, 'll': 0, 'lj': 0, 'a*': 54, 'a!': 511}\n",
    "input"
   ]
  },
  {
   "cell_type": "code",
   "execution_count": null,
   "id": "13c886c2-4210-4c4f-a484-9c981a303964",
   "metadata": {},
   "outputs": [],
   "source": []
  },
  {
   "cell_type": "markdown",
   "id": "c6ae0400-d781-4a60-b8e5-d864e0f6c641",
   "metadata": {},
   "source": [
    "5) Get the maximum and minimum value in a dictionary."
   ]
  },
  {
   "cell_type": "code",
   "execution_count": 19,
   "id": "13229d16-7825-4364-b8d3-0470794c1066",
   "metadata": {},
   "outputs": [],
   "source": [
    "input = {'a': 13, 'b': -12, 'r': 463, 'rrr': -45}"
   ]
  },
  {
   "cell_type": "code",
   "execution_count": null,
   "id": "25d5d850-037a-4242-b783-548ba0cdc1a0",
   "metadata": {},
   "outputs": [],
   "source": []
  },
  {
   "cell_type": "markdown",
   "id": "fc3cdb9b-d411-4d90-83e0-a7677acd865e",
   "metadata": {},
   "source": [
    "6) Store the given dictionary in a json file (what is a JSON file?)."
   ]
  },
  {
   "cell_type": "code",
   "execution_count": 25,
   "id": "949c09bf-4afe-40fe-94cb-98e1c5b300e3",
   "metadata": {},
   "outputs": [
    {
     "data": {
      "text/plain": [
       "{'id': 12,\n",
       " 'a': ['que', 'se', 'me'],\n",
       " 'a2': 65,\n",
       " 'c1': ('fr', 'usa'),\n",
       " 'c6?': {'d': 543, 'f': 17}}"
      ]
     },
     "execution_count": 25,
     "metadata": {},
     "output_type": "execute_result"
    }
   ],
   "source": [
    "input = {\n",
    "    'id': 12, \n",
    "    'a': ['que', 'se', 'me'], \n",
    "    'a2': 65, \n",
    "    'c1': ('fr', 'usa'), \n",
    "    'c6?': {'d': 2, 'd': 543, 'd': 345, 'd': 435, 'd': 543, 'f': 12, 'f': 13, 'f': 17}\n",
    "}\n",
    "input"
   ]
  },
  {
   "cell_type": "code",
   "execution_count": null,
   "id": "85e5d9e8-7822-4215-b025-5530d9ea4ae0",
   "metadata": {},
   "outputs": [],
   "source": []
  },
  {
   "cell_type": "markdown",
   "id": "e1b35542-642d-4e26-a2e6-542c2207a662",
   "metadata": {},
   "source": [
    "7) Create a dictionary from a list of key-value pairs by grouping values with the same key into a list (e.g. `[(a, 1), (a, 3), (b, 2)] –> {a: [1, 3], b: [2]})`."
   ]
  },
  {
   "cell_type": "code",
   "execution_count": 28,
   "id": "dae93d60-51b4-4f42-a36d-5c644a9e4f9d",
   "metadata": {},
   "outputs": [
    {
     "data": {
      "text/plain": [
       "[('c', 12),\n",
       " ('c', 12),\n",
       " ('h', 34),\n",
       " ('c1', 12),\n",
       " ('e', 343),\n",
       " (' ', 3445),\n",
       " ('p', 54),\n",
       " ('h', 56),\n",
       " ('p', 12),\n",
       " ('ll', 0),\n",
       " ('ll', 0),\n",
       " ('a', 54),\n",
       " ('c', 511)]"
      ]
     },
     "execution_count": 28,
     "metadata": {},
     "output_type": "execute_result"
    }
   ],
   "source": [
    "input = [('c', 12), ('c', 12), ('h', 34), ('c1', 12), ('e', 343), (' ', 3445), ('p', 54), ('h', 56), ('p', 12), ('ll', 0), ('ll', 0), ('a', 54), ('c', 511)]\n",
    "input"
   ]
  },
  {
   "cell_type": "code",
   "execution_count": null,
   "id": "cb79f2e9-d71c-4552-8f2b-bf84dd39f41c",
   "metadata": {},
   "outputs": [],
   "source": []
  },
  {
   "cell_type": "markdown",
   "id": "6e85cd6e-e45e-4b20-9f71-dcff2d8e6b46",
   "metadata": {},
   "source": [
    "8)"
   ]
  },
  {
   "cell_type": "code",
   "execution_count": null,
   "id": "4e7a7dce-6170-4fbf-9d8d-57bd12d9f838",
   "metadata": {},
   "outputs": [],
   "source": []
  },
  {
   "cell_type": "markdown",
   "id": "5e277a8c-8108-4e64-bb54-ca4706416ae8",
   "metadata": {},
   "source": [
    "9)"
   ]
  },
  {
   "cell_type": "code",
   "execution_count": null,
   "id": "0bb6f36f-03c7-4b73-91ad-d8b8dc9b07d3",
   "metadata": {},
   "outputs": [],
   "source": []
  },
  {
   "cell_type": "markdown",
   "id": "4c4c8aec-b2d0-4d47-8de8-2d0b7202e93b",
   "metadata": {},
   "source": [
    "10)"
   ]
  },
  {
   "cell_type": "code",
   "execution_count": null,
   "id": "217bd3b6-9137-4ac6-9ddc-e3acd3366df9",
   "metadata": {},
   "outputs": [],
   "source": []
  },
  {
   "cell_type": "markdown",
   "id": "e1969bbd-85de-4954-a318-a3645c8105df",
   "metadata": {},
   "source": [
    "----\n",
    "# Conditional statements and loops"
   ]
  },
  {
   "cell_type": "markdown",
   "id": "907f2174-f850-4e01-889e-2f0da1621700",
   "metadata": {},
   "source": [
    "1) Take in an integer number and compute the prime factorization."
   ]
  },
  {
   "cell_type": "code",
   "execution_count": 30,
   "id": "1891a84c-2617-47b4-97d0-702c736e2a99",
   "metadata": {},
   "outputs": [],
   "source": [
    "# factors = 3 x 5 x 7 x 571 x 757\n",
    "input = 45385935"
   ]
  },
  {
   "cell_type": "code",
   "execution_count": null,
   "id": "e8ddb768-7639-4e91-a96d-5620a6ffac90",
   "metadata": {},
   "outputs": [],
   "source": []
  },
  {
   "cell_type": "markdown",
   "id": "28575b5a-1ca2-4570-bddd-ba3c37ca012a",
   "metadata": {},
   "source": [
    "2) Display the Fibonacci series up to 50 terms."
   ]
  },
  {
   "cell_type": "code",
   "execution_count": null,
   "id": "f74eba1c-4402-4459-88e5-1dce72b65f29",
   "metadata": {},
   "outputs": [],
   "source": []
  },
  {
   "cell_type": "markdown",
   "id": "8c4b2a8f-358d-4e70-b82d-f6b8100aa82e",
   "metadata": {},
   "source": [
    "3) Print the following pattern:\n",
    "\n",
    "```\n",
    "*\n",
    "* $ \n",
    "* * * \n",
    "* $ * ! \n",
    "* * * * * \n",
    "* ! * $ \n",
    "* * * \n",
    "* ! \n",
    "*\n",
    "```"
   ]
  },
  {
   "cell_type": "code",
   "execution_count": null,
   "id": "b24d6e5c-8e6b-4bb5-a2d7-5ce6d097604e",
   "metadata": {},
   "outputs": [],
   "source": []
  },
  {
   "cell_type": "markdown",
   "id": "ed70593f-7882-4138-bd7e-9e4b968a5622",
   "metadata": {},
   "source": [
    "4) Take in a password from the widgets and check the validity. Validation:\n",
    "\n",
    "- At least 1 letter between [a-z] and 1 letter between [A-Z].\n",
    "- At least 1 number between [0-9].\n",
    "- At least 1 character from ```[$#@]```.\n",
    "- Minimum length 6 characters.\n",
    "- Maximum length 16 characters."
   ]
  },
  {
   "cell_type": "code",
   "execution_count": null,
   "id": "3731532d-9f6f-43c5-b542-d7af59785d2a",
   "metadata": {},
   "outputs": [],
   "source": []
  },
  {
   "cell_type": "markdown",
   "id": "4aea1643-053a-48e6-81c3-e42fbcb75a17",
   "metadata": {},
   "source": [
    "5) Given a list L and a number N, make a new list with the same length of L, where the value at index i is True if L[i] is greater than N, and False otherwise. Use the following list and take the number N from the widgets."
   ]
  },
  {
   "cell_type": "code",
   "execution_count": 31,
   "id": "92ee43c1-6bb6-443d-9089-68ce4bd51b37",
   "metadata": {},
   "outputs": [],
   "source": [
    "input = [12, 45, 56.3, 553, 43.034, 43, 12, 1111, 236, 152]"
   ]
  },
  {
   "cell_type": "code",
   "execution_count": null,
   "id": "1eb2dee1-3355-4c5e-952c-633ec919084a",
   "metadata": {},
   "outputs": [],
   "source": []
  },
  {
   "cell_type": "markdown",
   "id": "4996b316-5126-4bac-b64d-8fb5a6aff2e6",
   "metadata": {},
   "source": [
    "6) Use a nested list comprehension to find which numbers from 1-1000 are divisible by the digits in (2, 3, 4, ..., 9). Make a dictionary where keys are the digits and values are lists of numbers divisible by that keys."
   ]
  },
  {
   "cell_type": "code",
   "execution_count": null,
   "id": "fd811320-263a-4b3b-afa4-e83eb5a21bd8",
   "metadata": {},
   "outputs": [],
   "source": []
  },
  {
   "cell_type": "markdown",
   "id": "d6a00d72-7108-46b2-8433-81ffa763fcd2",
   "metadata": {},
   "source": [
    "7)"
   ]
  },
  {
   "cell_type": "code",
   "execution_count": null,
   "id": "2753c3d6-5054-441a-8833-4058217d2f4c",
   "metadata": {},
   "outputs": [],
   "source": []
  },
  {
   "cell_type": "markdown",
   "id": "eb6adafe-2e33-45c6-ac82-8a72ffe91951",
   "metadata": {},
   "source": [
    "8)"
   ]
  },
  {
   "cell_type": "code",
   "execution_count": null,
   "id": "83748523-6a8b-4ae6-9089-36f5f2baffa6",
   "metadata": {},
   "outputs": [],
   "source": []
  },
  {
   "cell_type": "markdown",
   "id": "bfc38af9-6edb-4470-9fce-50db9bc2c9e2",
   "metadata": {},
   "source": [
    "9)"
   ]
  },
  {
   "cell_type": "code",
   "execution_count": null,
   "id": "63fe94d2-ef17-4174-b3fe-d637ac7d4a20",
   "metadata": {},
   "outputs": [],
   "source": []
  },
  {
   "cell_type": "markdown",
   "id": "79a619d1-a426-4dd9-9fa7-5a4dc9e68ac3",
   "metadata": {},
   "source": [
    "10)"
   ]
  },
  {
   "cell_type": "code",
   "execution_count": null,
   "id": "2811ed3c-73b9-4722-900f-e6c437925f4c",
   "metadata": {},
   "outputs": [],
   "source": []
  },
  {
   "cell_type": "markdown",
   "id": "271e1efe-98ba-43bf-97fc-c60b68d5730a",
   "metadata": {},
   "source": [
    "-----\n",
    "# Functions and Classes"
   ]
  },
  {
   "cell_type": "markdown",
   "id": "1098d886-bf0b-4ccb-882b-88551c29afdb",
   "metadata": {},
   "source": [
    "1) Look at the code below that defines the class Individual. Now add code to interact with the Individual class to perform the following tasks:\n",
    "\n",
    "- Create instances of the class Individual. Name the instances individual1, individual2 and individual3. During object instantiation, set the character_name of these three new objects to “Buster”, “Tobias” and “Lucille” respectively.\n",
    "- What happens if you pass these three newly created objects to the print function?\n",
    "- Check whether Buster is happy. Get him to speak.\n",
    "- Call Buster’s switch_mood method. Is he still happy? What does he say now?\n",
    "- Add docstring to describe what each method does."
   ]
  },
  {
   "cell_type": "code",
   "execution_count": 33,
   "id": "2a5cbfc7-711a-48b0-8165-543ff75139df",
   "metadata": {},
   "outputs": [],
   "source": [
    "class Individual:\n",
    "    Counter = 0\n",
    "    \n",
    "    @classmethod\n",
    "    def AddOne(self):\n",
    "        self.Counter += 1\n",
    "    \n",
    "    def __init__(self, character_name): \n",
    "        self.character_name = character_name \n",
    "        self.happy = True\n",
    "        self.AddOne()\n",
    "        self.id = self.Counter\n",
    "        \n",
    "    def __str__(self):\n",
    "        return f'Instance: {self.id} {self.character_name}'\n",
    "    \n",
    "    def get_character_name(self): \n",
    "        return self.character_name\n",
    "    \n",
    "    def is_happy(self): \n",
    "        return self.happy\n",
    "    \n",
    "    def switch_mood(self): \n",
    "        self.happy = not self.happy\n",
    "        \n",
    "    def speak(self): \n",
    "        if(self.happy):\n",
    "            return f'Hello, I am {self.character_name}' \n",
    "        else:\n",
    "            return 'Go away!'"
   ]
  },
  {
   "cell_type": "code",
   "execution_count": null,
   "id": "12fdbda5-ccd9-472f-b25f-9777e96058c4",
   "metadata": {},
   "outputs": [],
   "source": []
  },
  {
   "cell_type": "markdown",
   "id": "0b8791ed-37de-4c06-8f25-9344aefa93e6",
   "metadata": {},
   "source": [
    "2) Write a class to get all possible unique subsets from a set of distinct integers."
   ]
  },
  {
   "cell_type": "code",
   "execution_count": 32,
   "id": "d6e20e32-d084-4a58-a8fb-7e88be98b461",
   "metadata": {},
   "outputs": [],
   "source": [
    "# output =  [[], [6], [5], [5, 6], [4], [4, 6], [4, 5], [4, 5, 6]]\n",
    "input = [4, 5, 6]"
   ]
  },
  {
   "cell_type": "code",
   "execution_count": null,
   "id": "f25460c2-df84-46bd-b1d4-989c40e89564",
   "metadata": {},
   "outputs": [],
   "source": []
  },
  {
   "cell_type": "markdown",
   "id": "8bab4da9-8321-44cc-9b18-33d7d185776d",
   "metadata": {},
   "source": [
    "3) Write a function that takes a string of words and reverses the string word by word."
   ]
  },
  {
   "cell_type": "code",
   "execution_count": null,
   "id": "cecd56f8-7d4a-4edf-8dbf-fe2e03b789c4",
   "metadata": {},
   "outputs": [],
   "source": []
  },
  {
   "cell_type": "markdown",
   "id": "bfb4b468-ec91-48d0-ab39-35a23de49a26",
   "metadata": {},
   "source": [
    "4) Write a class named Circle that is constructed by a radius and has three methods. The first method computes the area, the second the perimeter and the last method draws a circle with the radius rounded to the upper integer."
   ]
  },
  {
   "cell_type": "code",
   "execution_count": null,
   "id": "d1f19d0c-bd88-4a09-b8d9-ff047e76f3c9",
   "metadata": {},
   "outputs": [],
   "source": []
  },
  {
   "cell_type": "markdown",
   "id": "3b53df82-60f1-4131-9955-3a4afff70145",
   "metadata": {},
   "source": [
    "5) Write a class that stores a list and can be iterated with a for loop like a standard list (hint: ```__iter__, __next__```)."
   ]
  },
  {
   "cell_type": "code",
   "execution_count": null,
   "id": "3c33e011-a144-4fde-99c6-e654ca911e7c",
   "metadata": {},
   "outputs": [],
   "source": []
  },
  {
   "cell_type": "markdown",
   "id": "d68b8459-7b08-4987-a1bf-1f17f7ebfe76",
   "metadata": {},
   "source": [
    "6) What is a function generator in Python? Learn it and make a function that **yields** the prime numbers up to 100. Use a for loop to print them."
   ]
  },
  {
   "cell_type": "code",
   "execution_count": null,
   "id": "89e98542-6b51-4fc2-be14-a2463908f142",
   "metadata": {},
   "outputs": [],
   "source": []
  },
  {
   "cell_type": "markdown",
   "id": "2b381c31-ecb4-476c-96c4-eb87dd37ae4a",
   "metadata": {},
   "source": [
    "7)"
   ]
  },
  {
   "cell_type": "code",
   "execution_count": null,
   "id": "61cb1c0f-9eae-40d7-bd9d-3f077d02909a",
   "metadata": {},
   "outputs": [],
   "source": []
  },
  {
   "cell_type": "markdown",
   "id": "ae70af81-14b6-4213-8633-3c3607ee3346",
   "metadata": {},
   "source": [
    "8)"
   ]
  },
  {
   "cell_type": "code",
   "execution_count": null,
   "id": "efb85228-d485-45e6-95bd-86f01f21c0df",
   "metadata": {},
   "outputs": [],
   "source": []
  },
  {
   "cell_type": "markdown",
   "id": "8f1aee6c-33ce-40fa-bf63-adfd285531f9",
   "metadata": {},
   "source": [
    "9)"
   ]
  },
  {
   "cell_type": "code",
   "execution_count": null,
   "id": "7321513f-7ffb-4602-8a77-5e29cff1e798",
   "metadata": {},
   "outputs": [],
   "source": []
  },
  {
   "cell_type": "markdown",
   "id": "75beca7a-c994-41cf-b62d-567c3337dbf5",
   "metadata": {},
   "source": [
    "10)"
   ]
  }
 ],
 "metadata": {
  "kernelspec": {
   "display_name": "Python 3 (ipykernel)",
   "language": "python",
   "name": "python3"
  },
  "language_info": {
   "codemirror_mode": {
    "name": "ipython",
    "version": 3
   },
   "file_extension": ".py",
   "mimetype": "text/x-python",
   "name": "python",
   "nbconvert_exporter": "python",
   "pygments_lexer": "ipython3",
   "version": "3.9.12"
  }
 },
 "nbformat": 4,
 "nbformat_minor": 5
}
