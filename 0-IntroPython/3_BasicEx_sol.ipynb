{
 "cells": [
  {
   "cell_type": "code",
   "execution_count": 1,
   "id": "8da8fe0d-0f07-496b-b3bf-4ee37200b603",
   "metadata": {},
   "outputs": [],
   "source": [
    "from ipywidgets import widgets\n",
    "from IPython.display import display"
   ]
  },
  {
   "cell_type": "markdown",
   "id": "dd69c783-83fe-471d-bdc5-23fa88889a1c",
   "metadata": {},
   "source": [
    "# String"
   ]
  },
  {
   "cell_type": "markdown",
   "id": "f89eb1c3-a514-4a42-aeef-0fb8bd557aa7",
   "metadata": {},
   "source": [
    "1) Take in a string with the notebook widgets and print it length."
   ]
  },
  {
   "cell_type": "code",
   "execution_count": 2,
   "id": "1a064c58-ac14-4037-b54e-9b6c421d4b11",
   "metadata": {},
   "outputs": [
    {
     "data": {
      "application/vnd.jupyter.widget-view+json": {
       "model_id": "8177f7fe519945b491f8379a9f96c2de",
       "version_major": 2,
       "version_minor": 0
      },
      "text/plain": [
       "Text(value='')"
      ]
     },
     "metadata": {},
     "output_type": "display_data"
    }
   ],
   "source": [
    "text = widgets.Text()\n",
    "display(text)\n",
    "\n",
    "def handle_submit(sender):\n",
    "    print(f\"String length: {len(sender.value)}\")\n",
    "    \n",
    "text.on_submit(handle_submit)"
   ]
  },
  {
   "cell_type": "markdown",
   "id": "d290dd58-cf20-489a-abe9-966bbdc2b50f",
   "metadata": {},
   "source": [
    "2) Take in a string with the notebook widgets and count the frequency of the characters."
   ]
  },
  {
   "cell_type": "code",
   "execution_count": 3,
   "id": "b4a4478a-855a-49ed-8aaf-c23d58d67ebf",
   "metadata": {},
   "outputs": [
    {
     "data": {
      "application/vnd.jupyter.widget-view+json": {
       "model_id": "70dcf0c85a6f401aab4ac775614736c2",
       "version_major": 2,
       "version_minor": 0
      },
      "text/plain": [
       "Text(value='')"
      ]
     },
     "metadata": {},
     "output_type": "display_data"
    }
   ],
   "source": [
    "from collections import Counter\n",
    "\n",
    "text = widgets.Text()\n",
    "display(text)\n",
    "\n",
    "def handle_submit(sender):\n",
    "    print(Counter(sender.value))\n",
    "    \n",
    "text.on_submit(handle_submit)"
   ]
  },
  {
   "cell_type": "markdown",
   "id": "281922b8-4c8c-4f49-a533-9fb74978b617",
   "metadata": {},
   "source": [
    "3) Get a string made of the first 2 and the last 2 chars from \"azzeccagarbugli\"."
   ]
  },
  {
   "cell_type": "code",
   "execution_count": 4,
   "id": "b10652ed-da8a-4231-b7a3-95ab2d15ce64",
   "metadata": {},
   "outputs": [],
   "source": [
    "# Use as input\n",
    "input = 'azzeccagarbugli'"
   ]
  },
  {
   "cell_type": "code",
   "execution_count": 5,
   "id": "03076c2a-2c5c-4fda-b809-e217a921ed31",
   "metadata": {},
   "outputs": [
    {
     "name": "stdout",
     "output_type": "stream",
     "text": [
      "azli\n"
     ]
    }
   ],
   "source": [
    "print(f\"{input[:2]}{input[-2:]}\")"
   ]
  },
  {
   "cell_type": "markdown",
   "id": "d53e1fb8-ae4c-463d-a0b2-80a1bca6f833",
   "metadata": {},
   "source": [
    "4) Take in a string and an integer with the notebook widgets and remove the character from the string at the position of the integer."
   ]
  },
  {
   "cell_type": "code",
   "execution_count": 6,
   "id": "04517837-43ab-4225-b17c-c35b9a42a8c4",
   "metadata": {},
   "outputs": [],
   "source": [
    "#help(widgets.IntSlider)"
   ]
  },
  {
   "cell_type": "code",
   "execution_count": 7,
   "id": "9c75d40c-c400-4369-9cb7-324ab091da4a",
   "metadata": {},
   "outputs": [
    {
     "data": {
      "application/vnd.jupyter.widget-view+json": {
       "model_id": "04bc44ae14ab42098eea951655c6cd95",
       "version_major": 2,
       "version_minor": 0
      },
      "text/plain": [
       "IntSlider(value=0)"
      ]
     },
     "metadata": {},
     "output_type": "display_data"
    },
    {
     "data": {
      "application/vnd.jupyter.widget-view+json": {
       "model_id": "684b046a97dd45d8929bd0097b6a641e",
       "version_major": 2,
       "version_minor": 0
      },
      "text/plain": [
       "Text(value='')"
      ]
     },
     "metadata": {},
     "output_type": "display_data"
    }
   ],
   "source": [
    "integer = widgets.IntSlider(value=0, min=0, max=100)\n",
    "text = widgets.Text()\n",
    "\n",
    "def handle_submit(sender):\n",
    "    if integer.value < len(sender.value):\n",
    "        s, i = str(sender.value), integer.value\n",
    "        print('Str before: ', s)\n",
    "        print('Str after: ', s[:i] + s[i+1:])\n",
    "\n",
    "text.on_submit(handle_submit)\n",
    "display(integer, text)"
   ]
  },
  {
   "cell_type": "markdown",
   "id": "906c2768-a3b1-413e-92e5-faf7ca7aa117",
   "metadata": {},
   "source": [
    "5) Remove the spaces from an input string (take it in from the notebook widgets)."
   ]
  },
  {
   "cell_type": "code",
   "execution_count": 8,
   "id": "57df307d-81c8-4de4-a6c6-369a3a5d934a",
   "metadata": {},
   "outputs": [
    {
     "data": {
      "application/vnd.jupyter.widget-view+json": {
       "model_id": "7db3c609c4204e23bc5dad6333d76b8e",
       "version_major": 2,
       "version_minor": 0
      },
      "text/plain": [
       "Text(value='')"
      ]
     },
     "metadata": {},
     "output_type": "display_data"
    }
   ],
   "source": [
    "text = widgets.Text()\n",
    "\n",
    "def handle_submit(sender):\n",
    "    print(sender.value.replace(' ', ''))\n",
    "    \n",
    "text.on_submit(handle_submit)\n",
    "display(text)"
   ]
  },
  {
   "cell_type": "markdown",
   "id": "f748d9ee-d489-4aa6-9cb1-fa85b8afe1a0",
   "metadata": {},
   "source": [
    "6) Count the occurrences of each word."
   ]
  },
  {
   "cell_type": "code",
   "execution_count": 9,
   "id": "8f4705c7-5092-4fb0-8004-e23c1621347e",
   "metadata": {},
   "outputs": [
    {
     "name": "stdout",
     "output_type": "stream",
     "text": [
      "The Bible (from Koine Greek τὰ βιβλία, tà biblía, 'the books') is a collection of religious texts, writings, or scriptures sacred in Judaism, Samaritanism, Christianity, Islam, Rastafari, and many other faiths. It appears in the form of an anthology, a compilation of texts of a variety of forms that are all linked by the belief that they are collectively revelations of God. These texts include theologically-focused historical accounts, hymns, prayers, proverbs, parables, didactic letters, admonitions, essays, poetry, and prophecies. Believers also generally consider the Bible to be a product of divine inspiration.\n"
     ]
    }
   ],
   "source": [
    "# Use as input\n",
    "input = \"The Bible (from Koine Greek τὰ βιβλία, tà biblía, 'the books') is a collection of religious texts, writings, or scriptures sacred in Judaism, Samaritanism, Christianity, Islam, Rastafari, and many other faiths. It appears in the form of an anthology, a compilation of texts of a variety of forms that are all linked by the belief that they are collectively revelations of God. These texts include theologically-focused historical accounts, hymns, prayers, proverbs, parables, didactic letters, admonitions, essays, poetry, and prophecies. Believers also generally consider the Bible to be a product of divine inspiration.\"\n",
    "print(input)"
   ]
  },
  {
   "cell_type": "code",
   "execution_count": 10,
   "id": "1b4b58f7-0a91-49cf-bef0-9c73c778629b",
   "metadata": {},
   "outputs": [
    {
     "data": {
      "text/plain": [
       "Counter({'The': 1,\n",
       "         'Bible': 2,\n",
       "         'from': 1,\n",
       "         'Koine': 1,\n",
       "         'Greek': 1,\n",
       "         'τὰ': 1,\n",
       "         'βιβλία': 1,\n",
       "         'tà': 1,\n",
       "         'biblía': 1,\n",
       "         \"'the\": 1,\n",
       "         \"books'\": 1,\n",
       "         'is': 1,\n",
       "         'a': 4,\n",
       "         'collection': 1,\n",
       "         'of': 7,\n",
       "         'religious': 1,\n",
       "         'texts': 3,\n",
       "         'writings': 1,\n",
       "         'or': 1,\n",
       "         'scriptures': 1,\n",
       "         'sacred': 1,\n",
       "         'in': 2,\n",
       "         'Judaism': 1,\n",
       "         'Samaritanism': 1,\n",
       "         'Christianity': 1,\n",
       "         'Islam': 1,\n",
       "         'Rastafari': 1,\n",
       "         'and': 2,\n",
       "         'many': 1,\n",
       "         'other': 1,\n",
       "         'faiths': 1,\n",
       "         'It': 1,\n",
       "         'appears': 1,\n",
       "         'the': 3,\n",
       "         'form': 1,\n",
       "         'an': 1,\n",
       "         'anthology': 1,\n",
       "         'compilation': 1,\n",
       "         'variety': 1,\n",
       "         'forms': 1,\n",
       "         'that': 2,\n",
       "         'are': 2,\n",
       "         'all': 1,\n",
       "         'linked': 1,\n",
       "         'by': 1,\n",
       "         'belief': 1,\n",
       "         'they': 1,\n",
       "         'collectively': 1,\n",
       "         'revelations': 1,\n",
       "         'God': 1,\n",
       "         'These': 1,\n",
       "         'include': 1,\n",
       "         'theologically-focused': 1,\n",
       "         'historical': 1,\n",
       "         'accounts': 1,\n",
       "         'hymns': 1,\n",
       "         'prayers': 1,\n",
       "         'proverbs': 1,\n",
       "         'parables': 1,\n",
       "         'didactic': 1,\n",
       "         'letters': 1,\n",
       "         'admonitions': 1,\n",
       "         'essays': 1,\n",
       "         'poetry': 1,\n",
       "         'prophecies': 1,\n",
       "         'Believers': 1,\n",
       "         'also': 1,\n",
       "         'generally': 1,\n",
       "         'consider': 1,\n",
       "         'to': 1,\n",
       "         'be': 1,\n",
       "         'product': 1,\n",
       "         'divine': 1,\n",
       "         'inspiration': 1})"
      ]
     },
     "execution_count": 10,
     "metadata": {},
     "output_type": "execute_result"
    }
   ],
   "source": [
    "Counter(input.replace('(', '').replace(')', '').replace(',', '').replace('.', '').split())"
   ]
  },
  {
   "cell_type": "markdown",
   "id": "a2d6ca98-b76e-4d17-9037-855c01966f44",
   "metadata": {},
   "source": [
    "7) Given a comma separated sequence of words as input, print the unique words in sorted form (alphanumerically)."
   ]
  },
  {
   "cell_type": "code",
   "execution_count": 11,
   "id": "698e2454-827f-4b65-aabe-b14d94aa7dc4",
   "metadata": {},
   "outputs": [
    {
     "name": "stdout",
     "output_type": "stream",
     "text": [
      "Year,Make,Model,Description,Price \n",
      " 1997,Ford,E350,\"ac, abs, moon\",3000.00 \n",
      " 1999,Chevy,\"Venture \"\"Extended Edition\"\"\",\"\",4900.00 \n",
      " 1999,Chevy,\"Venture \"\"Extended Edition, Very Large\"\"\",,5000.00\n",
      "1996,Jeep,Grand Cherokee,\"MUST SELL!air, moon roof, loaded\",4799.00 \n",
      "\n"
     ]
    }
   ],
   "source": [
    "# Use as input\n",
    "input = 'Year,Make,Model,Description,Price \\n 1997,Ford,E350,\"ac, abs, moon\",3000.00 \\n 1999,Chevy,\"Venture \"\"Extended Edition\"\"\",\"\",4900.00 \\n 1999,Chevy,\"Venture \"\"Extended Edition, Very Large\"\"\",,5000.00\\n1996,Jeep,Grand Cherokee,\"MUST SELL!air, moon roof, loaded\",4799.00 \\n'\n",
    "print(input)"
   ]
  },
  {
   "cell_type": "code",
   "execution_count": null,
   "id": "67b92052-2f30-4a0a-ab49-c891ce6c1b20",
   "metadata": {},
   "outputs": [],
   "source": []
  },
  {
   "cell_type": "markdown",
   "id": "7a98bfa9-a15f-4759-955e-22ca42ad2f85",
   "metadata": {},
   "source": [
    "8) Take in a string and lowercase the first 1/3 of the characters."
   ]
  },
  {
   "cell_type": "code",
   "execution_count": 12,
   "id": "3302deb0-a62b-4976-b113-4830ef5d2511",
   "metadata": {},
   "outputs": [
    {
     "data": {
      "application/vnd.jupyter.widget-view+json": {
       "model_id": "e310cbc8c55249af8f9ea8f9a89d10d1",
       "version_major": 2,
       "version_minor": 0
      },
      "text/plain": [
       "Text(value='')"
      ]
     },
     "metadata": {},
     "output_type": "display_data"
    }
   ],
   "source": [
    "text = widgets.Text()\n",
    "\n",
    "def handle_submit(sender):\n",
    "    s = sender.value\n",
    "    print('Output: {}'.format(s[:len(s)//3].lower() + s[len(s)//3:]))\n",
    "    \n",
    "text.on_submit(handle_submit)\n",
    "display(text)"
   ]
  },
  {
   "cell_type": "markdown",
   "id": "2e6265a5-a5eb-4d05-8373-9700d5d85eb6",
   "metadata": {},
   "source": [
    "9) Convert a given heterogeneous list of scalars into a string."
   ]
  },
  {
   "cell_type": "code",
   "execution_count": 13,
   "id": "c6b509f6-b2d1-4c61-9928-579e2bf9c636",
   "metadata": {},
   "outputs": [],
   "source": [
    "# Use as input\n",
    "input = ['Red', 100, -50, 'green', \"w,3,r\", 12.12, False]"
   ]
  },
  {
   "cell_type": "code",
   "execution_count": 14,
   "id": "4b609cee-b8b6-4b1d-b64b-467e6fbe3b45",
   "metadata": {},
   "outputs": [
    {
     "data": {
      "text/plain": [
       "'Red, 100, -50, green, w,3,r, 12.12, False'"
      ]
     },
     "execution_count": 14,
     "metadata": {},
     "output_type": "execute_result"
    }
   ],
   "source": [
    "', '.join(str(i) for i in input)"
   ]
  },
  {
   "cell_type": "markdown",
   "id": "7177dd8c-84a5-436c-b5bc-7feea2e08ad8",
   "metadata": {},
   "source": [
    "10) Extract numbers from a given string."
   ]
  },
  {
   "cell_type": "code",
   "execution_count": 15,
   "id": "3910905a-8877-4957-99b8-c74077c16528",
   "metadata": {},
   "outputs": [],
   "source": [
    "# Use as input\n",
    "input = 'The year is 1945 and the 20 of September he gains 12.34 euro'"
   ]
  },
  {
   "cell_type": "code",
   "execution_count": 16,
   "id": "500998b8-56cf-49a6-8bc4-7f75b164a827",
   "metadata": {},
   "outputs": [
    {
     "name": "stdout",
     "output_type": "stream",
     "text": [
      "Help on class filter in module builtins:\n",
      "\n",
      "class filter(object)\n",
      " |  filter(function or None, iterable) --> filter object\n",
      " |  \n",
      " |  Return an iterator yielding those items of iterable for which function(item)\n",
      " |  is true. If function is None, return the items that are true.\n",
      " |  \n",
      " |  Methods defined here:\n",
      " |  \n",
      " |  __getattribute__(self, name, /)\n",
      " |      Return getattr(self, name).\n",
      " |  \n",
      " |  __iter__(self, /)\n",
      " |      Implement iter(self).\n",
      " |  \n",
      " |  __next__(self, /)\n",
      " |      Implement next(self).\n",
      " |  \n",
      " |  __reduce__(...)\n",
      " |      Return state information for pickling.\n",
      " |  \n",
      " |  ----------------------------------------------------------------------\n",
      " |  Static methods defined here:\n",
      " |  \n",
      " |  __new__(*args, **kwargs) from builtins.type\n",
      " |      Create and return a new object.  See help(type) for accurate signature.\n",
      "\n"
     ]
    }
   ],
   "source": [
    "help(filter)"
   ]
  },
  {
   "cell_type": "code",
   "execution_count": 17,
   "id": "cb734d70-b967-49d5-8d9b-e8cc85f98265",
   "metadata": {},
   "outputs": [
    {
     "data": {
      "text/plain": [
       "['1945', '20', '12.34']"
      ]
     },
     "execution_count": 17,
     "metadata": {},
     "output_type": "execute_result"
    }
   ],
   "source": [
    "def isFloat(v):\n",
    "    try:\n",
    "        float(v)\n",
    "    except ValueError:\n",
    "        return False\n",
    "    else:\n",
    "        return True\n",
    "\n",
    "list(filter(isFloat , input.split()))"
   ]
  },
  {
   "cell_type": "code",
   "execution_count": 18,
   "id": "17016217-41df-4e88-a281-f31c69a1ad52",
   "metadata": {},
   "outputs": [
    {
     "data": {
      "text/plain": [
       "[<filter at 0x1043cdd90>]"
      ]
     },
     "execution_count": 18,
     "metadata": {},
     "output_type": "execute_result"
    }
   ],
   "source": [
    "[filter(isFloat, input.split())]"
   ]
  },
  {
   "cell_type": "code",
   "execution_count": null,
   "id": "2566b763-2a77-4b53-81ac-b1d1056de525",
   "metadata": {},
   "outputs": [],
   "source": []
  },
  {
   "cell_type": "markdown",
   "id": "b93fe545-e4e4-459a-b4eb-52d0266940ce",
   "metadata": {},
   "source": [
    "---\n",
    "# Tuples"
   ]
  },
  {
   "cell_type": "markdown",
   "id": "6dbcf6b8-4b98-4ab5-9865-8f4872fdcfb6",
   "metadata": {},
   "source": [
    "1) Unpack this tuple `(1, 2.45, 'dude', 17)` in separate variables."
   ]
  },
  {
   "cell_type": "code",
   "execution_count": 19,
   "id": "e5090b6e-e534-4eaf-ac0d-14b49e4ea734",
   "metadata": {},
   "outputs": [],
   "source": [
    "input = 1, 2.45, 'dude', 17"
   ]
  },
  {
   "cell_type": "code",
   "execution_count": 20,
   "id": "364b1931-fc68-442c-bf47-0b167469c857",
   "metadata": {},
   "outputs": [
    {
     "name": "stdout",
     "output_type": "stream",
     "text": [
      "First: 1\n",
      "Second: 2.45\n",
      "Third: dude\n",
      "Fourth: 17\n"
     ]
    }
   ],
   "source": [
    "n1, d, s, n2 = input\n",
    "print('First:', n1)\n",
    "print('Second:', d)\n",
    "print('Third:', s)\n",
    "print('Fourth:', n2)"
   ]
  },
  {
   "cell_type": "markdown",
   "id": "9746fce2-7b9e-4db0-be97-0ee1fa75f595",
   "metadata": {},
   "source": [
    "2) Find a way to add `'possible'` to the previous tuple."
   ]
  },
  {
   "cell_type": "code",
   "execution_count": 21,
   "id": "547b41ff-b36c-4e13-b90b-d76748780e12",
   "metadata": {},
   "outputs": [
    {
     "data": {
      "text/plain": [
       "(1, 2.45, 'dude', 17, 'possible')"
      ]
     },
     "execution_count": 21,
     "metadata": {},
     "output_type": "execute_result"
    }
   ],
   "source": [
    "input = (*input, 'possible')\n",
    "input"
   ]
  },
  {
   "cell_type": "markdown",
   "id": "4841f4e6-0f67-46f0-acfe-36703617400e",
   "metadata": {},
   "source": [
    "3) Get the 4th element from the begining and ending of this tuple: `(1, 2, 3, 4, 5)`."
   ]
  },
  {
   "cell_type": "code",
   "execution_count": 22,
   "id": "06560cc0-5878-4601-84c1-f1b767627785",
   "metadata": {},
   "outputs": [
    {
     "name": "stdout",
     "output_type": "stream",
     "text": [
      "4 2\n"
     ]
    }
   ],
   "source": [
    "input = tuple(range(1, 6))\n",
    "print(input[3], input[-4])"
   ]
  },
  {
   "cell_type": "markdown",
   "id": "67d7283b-0b63-4e41-8561-8431f313778f",
   "metadata": {},
   "source": [
    "4) Find and print the repeated items in this tuple: `('a', 'b', 'a', 'c', 'd', 'c')`."
   ]
  },
  {
   "cell_type": "code",
   "execution_count": 23,
   "id": "43e869d5-b686-44dd-a8f5-d45237de39ad",
   "metadata": {},
   "outputs": [],
   "source": [
    "for el in set(input):\n",
    "    if input.count(el) > 1:\n",
    "        print(f'Element {el}: {input.count(el)}')"
   ]
  },
  {
   "cell_type": "markdown",
   "id": "5e9ff305-ece6-4c05-bb6d-f3a30b453154",
   "metadata": {},
   "source": [
    "5) Find and print the items that has a single occurence in this tuple: `('a', 'b', 'a', 'c', 'd', 'c')`."
   ]
  },
  {
   "cell_type": "code",
   "execution_count": 24,
   "id": "1f163660-7163-4148-bb80-5c84eb06d551",
   "metadata": {},
   "outputs": [
    {
     "name": "stdout",
     "output_type": "stream",
     "text": [
      "Element 1: 1\n",
      "Element 2: 1\n",
      "Element 3: 1\n",
      "Element 4: 1\n",
      "Element 5: 1\n"
     ]
    }
   ],
   "source": [
    "from collections import Counter\n",
    "for k, v in Counter(input).items():\n",
    "    if v == 1:\n",
    "        print(f'Element {k}: {v}')"
   ]
  },
  {
   "cell_type": "markdown",
   "id": "3ee6f24c-931d-4462-965f-a88fe46c2426",
   "metadata": {},
   "source": [
    "6) Take in a tuple and a character from the notebook widgets and check whether the character exists within the tuple."
   ]
  },
  {
   "cell_type": "code",
   "execution_count": null,
   "id": "28016a95-0302-4f51-9f21-f232c7bb5a29",
   "metadata": {},
   "outputs": [],
   "source": []
  },
  {
   "cell_type": "markdown",
   "id": "70d4ad3e-f18f-42c2-9c6d-de15e2758e42",
   "metadata": {},
   "source": [
    "7) Take in a tuple from the notebook widgets and reverse it."
   ]
  },
  {
   "cell_type": "code",
   "execution_count": 25,
   "id": "7f428131-c907-4ad0-999d-c52fc2a8cfa5",
   "metadata": {},
   "outputs": [
    {
     "name": "stdout",
     "output_type": "stream",
     "text": [
      "Initial: (1, 2, 3, 4, 5)\n",
      "Reversed: (5, 4, 3, 2, 1)\n"
     ]
    }
   ],
   "source": [
    "print('Initial:', input)\n",
    "print('Reversed:', tuple(reversed(input)))"
   ]
  },
  {
   "cell_type": "markdown",
   "id": "dfce5169-66bb-499e-aaa4-d7fe4f150039",
   "metadata": {},
   "source": [
    "8) Remove the empty tuples from a list of tuples. Use:\n",
    "`[(), (1, 2,), (1,), (), (9, 2), (None,)]`."
   ]
  },
  {
   "cell_type": "code",
   "execution_count": 26,
   "id": "aa83411d-2cbb-4ec7-b7fa-5908b94fe793",
   "metadata": {},
   "outputs": [
    {
     "data": {
      "text/plain": [
       "[(1, 2), (1,), (9, 2), (None,)]"
      ]
     },
     "execution_count": 26,
     "metadata": {},
     "output_type": "execute_result"
    }
   ],
   "source": [
    "input = [(), (1, 2,), (1,), (), (9, 2), (None,)]\n",
    "[el for el in input if el]"
   ]
  },
  {
   "cell_type": "markdown",
   "id": "593750f4-aa9d-4945-96bc-07ec05cd13b7",
   "metadata": {},
   "source": [
    "9) Calculate the average value of the numbers in: `(2.4, 3, 23.6, 3, 3, 10)`."
   ]
  },
  {
   "cell_type": "code",
   "execution_count": 27,
   "id": "1f4439c5-4351-42cf-b8b9-3b81afcd5120",
   "metadata": {},
   "outputs": [
    {
     "name": "stdout",
     "output_type": "stream",
     "text": [
      "Avg value = 7.500\n"
     ]
    }
   ],
   "source": [
    "input = (2.4, 3, 23.6, 3, 3, 10)\n",
    "print(f'Avg value = {sum(input) / len(input):.3f}')"
   ]
  },
  {
   "cell_type": "markdown",
   "id": "b08e1566-3ce3-4cba-a862-37a03d2a104f",
   "metadata": {},
   "source": [
    "10) "
   ]
  },
  {
   "cell_type": "code",
   "execution_count": null,
   "id": "dfdfa4a7-390e-4d2b-918d-d969536920c4",
   "metadata": {},
   "outputs": [],
   "source": []
  },
  {
   "cell_type": "markdown",
   "id": "8ce094e3-8821-4993-993b-1cc2a854275f",
   "metadata": {},
   "source": [
    "----\n",
    "# Lists"
   ]
  },
  {
   "cell_type": "markdown",
   "id": "924f2c10-f86f-49ca-b8b5-f15ef163a1f3",
   "metadata": {},
   "source": [
    "1) Sum all the numbers in this list: `[1, 2, 3, 4, 5.89]`."
   ]
  },
  {
   "cell_type": "code",
   "execution_count": 28,
   "id": "8e05971b-e8ff-4f7d-85dc-d2c7bb437027",
   "metadata": {},
   "outputs": [
    {
     "data": {
      "text/plain": [
       "15.89"
      ]
     },
     "execution_count": 28,
     "metadata": {},
     "output_type": "execute_result"
    }
   ],
   "source": [
    "input = [1, 2, 3, 4, 5.89]\n",
    "sum(input)"
   ]
  },
  {
   "cell_type": "markdown",
   "id": "bb767e22-f409-47b3-9971-82fa718d9811",
   "metadata": {},
   "source": [
    "2) Take in a list of number from the widgets and get the largest one."
   ]
  },
  {
   "cell_type": "code",
   "execution_count": 29,
   "id": "701018cb-e18d-473c-b1ba-67e946540e53",
   "metadata": {
    "tags": []
   },
   "outputs": [
    {
     "data": {
      "text/plain": [
       "5.89"
      ]
     },
     "execution_count": 29,
     "metadata": {},
     "output_type": "execute_result"
    }
   ],
   "source": [
    "max(input)"
   ]
  },
  {
   "cell_type": "markdown",
   "id": "1d88a305-e7fe-4e0e-a413-e58d9a093981",
   "metadata": {},
   "source": [
    "3) Take in two lists from the widgets and returns True if they have at least one common member."
   ]
  },
  {
   "cell_type": "code",
   "execution_count": 30,
   "id": "c52a0021-c3d3-433a-b9c4-1c44e6072a4a",
   "metadata": {},
   "outputs": [
    {
     "data": {
      "text/plain": [
       "'True'"
      ]
     },
     "execution_count": 30,
     "metadata": {},
     "output_type": "execute_result"
    }
   ],
   "source": [
    "one = [1, 2, 3, 4, 5]\n",
    "two = [5, 6, 7]\n",
    "\n",
    "'True' if set(one).intersection(set(two[:])) else 'False'"
   ]
  },
  {
   "cell_type": "markdown",
   "id": "add96462-4abf-4bfc-9eec-5e6d5ab8981c",
   "metadata": {},
   "source": [
    "4) Generate a list of lists of lists with shape (3, 4, 6), each item must be a `*`."
   ]
  },
  {
   "cell_type": "code",
   "execution_count": 31,
   "id": "bdf36271-0d56-4e1f-955f-8984f65aaf30",
   "metadata": {},
   "outputs": [
    {
     "data": {
      "text/plain": [
       "[[['*', '*', '*', '*', '*', '*'],\n",
       "  ['*', '*', '*', '*', '*', '*'],\n",
       "  ['*', '*', '*', '*', '*', '*'],\n",
       "  ['*', '*', '*', '*', '*', '*']],\n",
       " [['*', '*', '*', '*', '*', '*'],\n",
       "  ['*', '*', '*', '*', '*', '*'],\n",
       "  ['*', '*', '*', '*', '*', '*'],\n",
       "  ['*', '*', '*', '*', '*', '*']],\n",
       " [['*', '*', '*', '*', '*', '*'],\n",
       "  ['*', '*', '*', '*', '*', '*'],\n",
       "  ['*', '*', '*', '*', '*', '*'],\n",
       "  ['*', '*', '*', '*', '*', '*']]]"
      ]
     },
     "execution_count": 31,
     "metadata": {},
     "output_type": "execute_result"
    }
   ],
   "source": [
    "[[['*'] * 6] * 4] * 3"
   ]
  },
  {
   "cell_type": "markdown",
   "id": "fa3e0cc4-d072-4ed7-89a6-f9263633afdc",
   "metadata": {},
   "source": [
    "5) Generate all permutations of `[1, 2, 3, 4]`."
   ]
  },
  {
   "cell_type": "code",
   "execution_count": null,
   "id": "28e71d18-581d-4720-bba6-276ec94b3edc",
   "metadata": {},
   "outputs": [],
   "source": []
  },
  {
   "cell_type": "markdown",
   "id": "f5dbd9b6-b532-42e0-b4b4-966cfb8f9257",
   "metadata": {},
   "source": [
    "6) Take in two lists from the widgets amd find the set intersection and set difference between them."
   ]
  },
  {
   "cell_type": "code",
   "execution_count": 32,
   "id": "ca1c5807-e7c2-400a-985e-3233faa772f6",
   "metadata": {},
   "outputs": [
    {
     "name": "stdout",
     "output_type": "stream",
     "text": [
      "Intersection: [5]\n",
      "Intersection: [1, 2, 3, 4, 5, 6, 7]\n"
     ]
    }
   ],
   "source": [
    "one = [1, 2, 3, 4, 5]\n",
    "two = [5, 6, 7]\n",
    "\n",
    "print('Intersection:', list(set(one).intersection(set(two[:]))))\n",
    "print('Intersection:', list(set(one).union(set(two[:]))))"
   ]
  },
  {
   "cell_type": "markdown",
   "id": "b1228869-30b8-4a5e-b8e9-512d751fdbed",
   "metadata": {},
   "source": [
    "7) Convert a list of characters into a string. Use `['a', 'c', 'i', 'd']`."
   ]
  },
  {
   "cell_type": "code",
   "execution_count": 33,
   "id": "cef8ba03-1704-4f33-873d-2ac4a68450be",
   "metadata": {},
   "outputs": [
    {
     "data": {
      "text/plain": [
       "'acid'"
      ]
     },
     "execution_count": 33,
     "metadata": {},
     "output_type": "execute_result"
    }
   ],
   "source": [
    "''.join(['a', 'c', 'i', 'd'])"
   ]
  },
  {
   "cell_type": "markdown",
   "id": "95badc8c-b98f-4b77-afd9-fb2d361098b8",
   "metadata": {},
   "source": [
    "8) Select the prime numbers from: `[13, 25, 7, 296587, 332, 1]` and make a new list."
   ]
  },
  {
   "cell_type": "code",
   "execution_count": 34,
   "id": "0794858c-e22c-4957-bd82-2ad7d79b62d4",
   "metadata": {},
   "outputs": [
    {
     "data": {
      "text/plain": [
       "[13, 7, 296587, 1]"
      ]
     },
     "execution_count": 34,
     "metadata": {},
     "output_type": "execute_result"
    }
   ],
   "source": [
    "not_primes = []\n",
    "for n in [13, 25, 7, 296587, 332, 1]:\n",
    "    for i in range(2, n):\n",
    "        if n % i == 0:\n",
    "            not_primes.append(n)\n",
    "            break\n",
    "\n",
    "[el for el in [13, 25, 7, 296587, 332, 1] if el not in not_primes]"
   ]
  },
  {
   "cell_type": "markdown",
   "id": "33353a7e-7175-44ba-9851-99b6b3a7fca9",
   "metadata": {},
   "source": [
    "9) Take in two lists from the notebook widgets and iterate simultaneously over them by printing the pairs."
   ]
  },
  {
   "cell_type": "code",
   "execution_count": 35,
   "id": "08e00e5d-4311-42ad-bae3-e6ddca2cd032",
   "metadata": {},
   "outputs": [
    {
     "name": "stdout",
     "output_type": "stream",
     "text": [
      "(1, 5) (2, 6) (3, 7)\n"
     ]
    }
   ],
   "source": [
    "one = [1, 2, 3, 4, 5]\n",
    "two = [5, 6, 7]\n",
    "print(*zip(one, two))"
   ]
  },
  {
   "cell_type": "markdown",
   "id": "e9044c32-54d9-4c31-8805-e53f727a1756",
   "metadata": {},
   "source": [
    "10) "
   ]
  },
  {
   "cell_type": "code",
   "execution_count": null,
   "id": "2ebbe4fa-cc4d-4c19-b179-c7948500f3a4",
   "metadata": {},
   "outputs": [],
   "source": []
  },
  {
   "cell_type": "markdown",
   "id": "bf4017ec-e01a-4f8b-9093-9192d0c99ec7",
   "metadata": {
    "tags": []
   },
   "source": [
    "----\n",
    "# Dictionaries"
   ]
  },
  {
   "cell_type": "markdown",
   "id": "1544cfe9-ff6f-4936-98ae-0b2b510a5a9b",
   "metadata": {},
   "source": [
    "1) Sort (ascending and descending) the following dictionary by value and print in output two lists containing the sorted keys."
   ]
  },
  {
   "cell_type": "code",
   "execution_count": 36,
   "id": "4bf412a5-ab2e-48ad-9b29-ea551c52b256",
   "metadata": {},
   "outputs": [],
   "source": [
    "input = {12.45: 'acc', 2: 'zecc', 453235.67: 'reds', 12: 'rred'}"
   ]
  },
  {
   "cell_type": "code",
   "execution_count": 43,
   "id": "5096a496-04ac-4ffb-be2b-a58d8a96977a",
   "metadata": {},
   "outputs": [
    {
     "name": "stdout",
     "output_type": "stream",
     "text": [
      "[12.45, 453235.67, 12, 2]\n",
      "[2, 12, 453235.67, 12.45]\n"
     ]
    }
   ],
   "source": [
    "l = list(input.items())\n",
    "asc = [k for k, v in sorted(l, key=lambda k: k[1])]\n",
    "desc = [k for k, v in sorted(l, reverse=True, key=lambda k: k[1])]\n",
    "print(asc)\n",
    "print(desc)"
   ]
  },
  {
   "cell_type": "markdown",
   "id": "ced84b8c-193d-42a6-b529-8dd365f426c7",
   "metadata": {},
   "source": [
    "2) Iterate over the previous dictionary using a for loop and make a tuple of the keys and a tuple of the values."
   ]
  },
  {
   "cell_type": "code",
   "execution_count": 44,
   "id": "728afb56-888a-4db6-bf27-53975ca6adb7",
   "metadata": {},
   "outputs": [
    {
     "name": "stdout",
     "output_type": "stream",
     "text": [
      "Keys: (12.45, 2, 453235.67, 12)\n",
      "Values: ('acc', 'zecc', 'reds', 'rred')\n"
     ]
    }
   ],
   "source": [
    "print('Keys:', tuple(k for k in input))\n",
    "print('Values:', tuple(v for v in input.values()))"
   ]
  },
  {
   "cell_type": "markdown",
   "id": "b635e99b-9c70-43dc-848b-aab22544e4aa",
   "metadata": {},
   "source": [
    "3) Find a way to merge two dictionaries."
   ]
  },
  {
   "cell_type": "code",
   "execution_count": 45,
   "id": "f04871ee-0d49-4ca3-af3d-3c225815880c",
   "metadata": {},
   "outputs": [],
   "source": [
    "input1 = {'a': 12, 'b': 34, 'c': 23}\n",
    "input2 = {'d': 'e', 'f': 'g'}"
   ]
  },
  {
   "cell_type": "code",
   "execution_count": 46,
   "id": "2916ad72-b423-4125-b730-0dac54796b5e",
   "metadata": {},
   "outputs": [
    {
     "data": {
      "text/plain": [
       "{'a': 12, 'b': 34, 'c': 23, 'd': 'e', 'f': 'g'}"
      ]
     },
     "execution_count": 46,
     "metadata": {},
     "output_type": "execute_result"
    }
   ],
   "source": [
    "# Outplace\n",
    "{**input1, **input2}"
   ]
  },
  {
   "cell_type": "code",
   "execution_count": 47,
   "id": "2a6f0366-af4d-4623-bcfc-3d732f27d31b",
   "metadata": {},
   "outputs": [
    {
     "data": {
      "text/plain": [
       "{'a': 12, 'b': 34, 'c': 23, 'd': 'e', 'f': 'g'}"
      ]
     },
     "execution_count": 47,
     "metadata": {},
     "output_type": "execute_result"
    }
   ],
   "source": [
    "# Inplace \n",
    "input1.update(input2)\n",
    "input1"
   ]
  },
  {
   "cell_type": "markdown",
   "id": "e29f5e7a-20ce-4a22-911c-497f4575e3ec",
   "metadata": {},
   "source": [
    "4) Remove all the repeated occurences of the values from a dictionary (keep only the first occurence)."
   ]
  },
  {
   "cell_type": "code",
   "execution_count": 48,
   "id": "f3f8ed7d-236a-4192-9152-1a0629bcfc20",
   "metadata": {},
   "outputs": [
    {
     "data": {
      "text/plain": [
       "{'c': 12,\n",
       " 'cc': 12,\n",
       " 'h': 34,\n",
       " 'c1': 12,\n",
       " 'e': 343,\n",
       " ' ': 3445,\n",
       " 'p': 54,\n",
       " 'a': 58,\n",
       " 'p5': 12,\n",
       " 'll': 0,\n",
       " 'lj': 0,\n",
       " 'a*': 54,\n",
       " 'a!': 511}"
      ]
     },
     "execution_count": 48,
     "metadata": {},
     "output_type": "execute_result"
    }
   ],
   "source": [
    "input = {'c': 12, 'cc': 12, 'h': 34, 'c1': 12, 'e': 343, ' ': 3445, 'p': 54, 'a': 58, 'p5': 12, 'll': 0, 'lj': 0, 'a*': 54, 'a!': 511}\n",
    "input"
   ]
  },
  {
   "cell_type": "code",
   "execution_count": 49,
   "id": "13c886c2-4210-4c4f-a484-9c981a303964",
   "metadata": {},
   "outputs": [
    {
     "data": {
      "text/plain": [
       "{'c': 12, 'h': 34, 'e': 343, ' ': 3445, 'p': 54, 'a': 58, 'll': 0, 'a!': 511}"
      ]
     },
     "execution_count": 49,
     "metadata": {},
     "output_type": "execute_result"
    }
   ],
   "source": [
    "seen, new = [], {}\n",
    "for k, v in input.items():\n",
    "    if v not in seen:\n",
    "        seen.append(v)\n",
    "        new[k] = v\n",
    "new"
   ]
  },
  {
   "cell_type": "markdown",
   "id": "c6ae0400-d781-4a60-b8e5-d864e0f6c641",
   "metadata": {},
   "source": [
    "5) Get the maximum and minimum value in a dictionary."
   ]
  },
  {
   "cell_type": "code",
   "execution_count": 50,
   "id": "13229d16-7825-4364-b8d3-0470794c1066",
   "metadata": {},
   "outputs": [],
   "source": [
    "input = {'a': 13, 'b': -12, 'r': 463, 'rrr': -45}"
   ]
  },
  {
   "cell_type": "code",
   "execution_count": 51,
   "id": "25d5d850-037a-4242-b783-548ba0cdc1a0",
   "metadata": {},
   "outputs": [
    {
     "name": "stdout",
     "output_type": "stream",
     "text": [
      "Max = 463\n",
      "Min = -45\n"
     ]
    }
   ],
   "source": [
    "print('Max =', input[max(input, key=input.get)])\n",
    "print('Min =', input[min(input, key=input.get)])"
   ]
  },
  {
   "cell_type": "markdown",
   "id": "fc3cdb9b-d411-4d90-83e0-a7677acd865e",
   "metadata": {},
   "source": [
    "6) Store the given dictionary in a json file (what is a JSON file?)."
   ]
  },
  {
   "cell_type": "code",
   "execution_count": 52,
   "id": "949c09bf-4afe-40fe-94cb-98e1c5b300e3",
   "metadata": {},
   "outputs": [
    {
     "data": {
      "text/plain": [
       "{'id': 12,\n",
       " 'a': ['que', 'se', 'me'],\n",
       " 'a2': 65,\n",
       " 'c1': ('fr', 'usa'),\n",
       " 'c6?': {'d': 543, 'f': 17}}"
      ]
     },
     "execution_count": 52,
     "metadata": {},
     "output_type": "execute_result"
    }
   ],
   "source": [
    "input = {\n",
    "    'id': 12, \n",
    "    'a': ['que', 'se', 'me'], \n",
    "    'a2': 65, \n",
    "    'c1': ('fr', 'usa'), \n",
    "    'c6?': {'d': 2, 'd': 543, 'd': 345, 'd': 435, 'd': 543, 'f': 12, 'f': 13, 'f': 17}\n",
    "}\n",
    "input"
   ]
  },
  {
   "cell_type": "code",
   "execution_count": 53,
   "id": "a214c858-34cb-4bcc-93ab-7848eee8c8e1",
   "metadata": {},
   "outputs": [],
   "source": [
    "import json\n",
    "with open('./file.json', 'w') as f:\n",
    "    json.dump(input, f)"
   ]
  },
  {
   "cell_type": "code",
   "execution_count": 54,
   "id": "85e5d9e8-7822-4215-b025-5530d9ea4ae0",
   "metadata": {},
   "outputs": [
    {
     "name": "stdout",
     "output_type": "stream",
     "text": [
      "Help on package json:\n",
      "\n",
      "NAME\n",
      "    json\n",
      "\n",
      "DESCRIPTION\n",
      "    JSON (JavaScript Object Notation) <http://json.org> is a subset of\n",
      "    JavaScript syntax (ECMA-262 3rd edition) used as a lightweight data\n",
      "    interchange format.\n",
      "    \n",
      "    :mod:`json` exposes an API familiar to users of the standard library\n",
      "    :mod:`marshal` and :mod:`pickle` modules.  It is derived from a\n",
      "    version of the externally maintained simplejson library.\n",
      "    \n",
      "    Encoding basic Python object hierarchies::\n",
      "    \n",
      "        >>> import json\n",
      "        >>> json.dumps(['foo', {'bar': ('baz', None, 1.0, 2)}])\n",
      "        '[\"foo\", {\"bar\": [\"baz\", null, 1.0, 2]}]'\n",
      "        >>> print(json.dumps(\"\\\"foo\\bar\"))\n",
      "        \"\\\"foo\\bar\"\n",
      "        >>> print(json.dumps('\\u1234'))\n",
      "        \"\\u1234\"\n",
      "        >>> print(json.dumps('\\\\'))\n",
      "        \"\\\\\"\n",
      "        >>> print(json.dumps({\"c\": 0, \"b\": 0, \"a\": 0}, sort_keys=True))\n",
      "        {\"a\": 0, \"b\": 0, \"c\": 0}\n",
      "        >>> from io import StringIO\n",
      "        >>> io = StringIO()\n",
      "        >>> json.dump(['streaming API'], io)\n",
      "        >>> io.getvalue()\n",
      "        '[\"streaming API\"]'\n",
      "    \n",
      "    Compact encoding::\n",
      "    \n",
      "        >>> import json\n",
      "        >>> mydict = {'4': 5, '6': 7}\n",
      "        >>> json.dumps([1,2,3,mydict], separators=(',', ':'))\n",
      "        '[1,2,3,{\"4\":5,\"6\":7}]'\n",
      "    \n",
      "    Pretty printing::\n",
      "    \n",
      "        >>> import json\n",
      "        >>> print(json.dumps({'4': 5, '6': 7}, sort_keys=True, indent=4))\n",
      "        {\n",
      "            \"4\": 5,\n",
      "            \"6\": 7\n",
      "        }\n",
      "    \n",
      "    Decoding JSON::\n",
      "    \n",
      "        >>> import json\n",
      "        >>> obj = ['foo', {'bar': ['baz', None, 1.0, 2]}]\n",
      "        >>> json.loads('[\"foo\", {\"bar\":[\"baz\", null, 1.0, 2]}]') == obj\n",
      "        True\n",
      "        >>> json.loads('\"\\\\\"foo\\\\bar\"') == '\"foo\\x08ar'\n",
      "        True\n",
      "        >>> from io import StringIO\n",
      "        >>> io = StringIO('[\"streaming API\"]')\n",
      "        >>> json.load(io)[0] == 'streaming API'\n",
      "        True\n",
      "    \n",
      "    Specializing JSON object decoding::\n",
      "    \n",
      "        >>> import json\n",
      "        >>> def as_complex(dct):\n",
      "        ...     if '__complex__' in dct:\n",
      "        ...         return complex(dct['real'], dct['imag'])\n",
      "        ...     return dct\n",
      "        ...\n",
      "        >>> json.loads('{\"__complex__\": true, \"real\": 1, \"imag\": 2}',\n",
      "        ...     object_hook=as_complex)\n",
      "        (1+2j)\n",
      "        >>> from decimal import Decimal\n",
      "        >>> json.loads('1.1', parse_float=Decimal) == Decimal('1.1')\n",
      "        True\n",
      "    \n",
      "    Specializing JSON object encoding::\n",
      "    \n",
      "        >>> import json\n",
      "        >>> def encode_complex(obj):\n",
      "        ...     if isinstance(obj, complex):\n",
      "        ...         return [obj.real, obj.imag]\n",
      "        ...     raise TypeError(f'Object of type {obj.__class__.__name__} '\n",
      "        ...                     f'is not JSON serializable')\n",
      "        ...\n",
      "        >>> json.dumps(2 + 1j, default=encode_complex)\n",
      "        '[2.0, 1.0]'\n",
      "        >>> json.JSONEncoder(default=encode_complex).encode(2 + 1j)\n",
      "        '[2.0, 1.0]'\n",
      "        >>> ''.join(json.JSONEncoder(default=encode_complex).iterencode(2 + 1j))\n",
      "        '[2.0, 1.0]'\n",
      "    \n",
      "    \n",
      "    Using json.tool from the shell to validate and pretty-print::\n",
      "    \n",
      "        $ echo '{\"json\":\"obj\"}' | python -m json.tool\n",
      "        {\n",
      "            \"json\": \"obj\"\n",
      "        }\n",
      "        $ echo '{ 1.2:3.4}' | python -m json.tool\n",
      "        Expecting property name enclosed in double quotes: line 1 column 3 (char 2)\n",
      "\n",
      "PACKAGE CONTENTS\n",
      "    decoder\n",
      "    encoder\n",
      "    scanner\n",
      "    tool\n",
      "\n",
      "CLASSES\n",
      "    builtins.ValueError(builtins.Exception)\n",
      "        json.decoder.JSONDecodeError\n",
      "    builtins.object\n",
      "        json.decoder.JSONDecoder\n",
      "        json.encoder.JSONEncoder\n",
      "    \n",
      "    class JSONDecodeError(builtins.ValueError)\n",
      "     |  JSONDecodeError(msg, doc, pos)\n",
      "     |  \n",
      "     |  Subclass of ValueError with the following additional properties:\n",
      "     |  \n",
      "     |  msg: The unformatted error message\n",
      "     |  doc: The JSON document being parsed\n",
      "     |  pos: The start index of doc where parsing failed\n",
      "     |  lineno: The line corresponding to pos\n",
      "     |  colno: The column corresponding to pos\n",
      "     |  \n",
      "     |  Method resolution order:\n",
      "     |      JSONDecodeError\n",
      "     |      builtins.ValueError\n",
      "     |      builtins.Exception\n",
      "     |      builtins.BaseException\n",
      "     |      builtins.object\n",
      "     |  \n",
      "     |  Methods defined here:\n",
      "     |  \n",
      "     |  __init__(self, msg, doc, pos)\n",
      "     |      Initialize self.  See help(type(self)) for accurate signature.\n",
      "     |  \n",
      "     |  __reduce__(self)\n",
      "     |      Helper for pickle.\n",
      "     |  \n",
      "     |  ----------------------------------------------------------------------\n",
      "     |  Data descriptors defined here:\n",
      "     |  \n",
      "     |  __weakref__\n",
      "     |      list of weak references to the object (if defined)\n",
      "     |  \n",
      "     |  ----------------------------------------------------------------------\n",
      "     |  Static methods inherited from builtins.ValueError:\n",
      "     |  \n",
      "     |  __new__(*args, **kwargs) from builtins.type\n",
      "     |      Create and return a new object.  See help(type) for accurate signature.\n",
      "     |  \n",
      "     |  ----------------------------------------------------------------------\n",
      "     |  Methods inherited from builtins.BaseException:\n",
      "     |  \n",
      "     |  __delattr__(self, name, /)\n",
      "     |      Implement delattr(self, name).\n",
      "     |  \n",
      "     |  __getattribute__(self, name, /)\n",
      "     |      Return getattr(self, name).\n",
      "     |  \n",
      "     |  __repr__(self, /)\n",
      "     |      Return repr(self).\n",
      "     |  \n",
      "     |  __setattr__(self, name, value, /)\n",
      "     |      Implement setattr(self, name, value).\n",
      "     |  \n",
      "     |  __setstate__(...)\n",
      "     |  \n",
      "     |  __str__(self, /)\n",
      "     |      Return str(self).\n",
      "     |  \n",
      "     |  with_traceback(...)\n",
      "     |      Exception.with_traceback(tb) --\n",
      "     |      set self.__traceback__ to tb and return self.\n",
      "     |  \n",
      "     |  ----------------------------------------------------------------------\n",
      "     |  Data descriptors inherited from builtins.BaseException:\n",
      "     |  \n",
      "     |  __cause__\n",
      "     |      exception cause\n",
      "     |  \n",
      "     |  __context__\n",
      "     |      exception context\n",
      "     |  \n",
      "     |  __dict__\n",
      "     |  \n",
      "     |  __suppress_context__\n",
      "     |  \n",
      "     |  __traceback__\n",
      "     |  \n",
      "     |  args\n",
      "    \n",
      "    class JSONDecoder(builtins.object)\n",
      "     |  JSONDecoder(*, object_hook=None, parse_float=None, parse_int=None, parse_constant=None, strict=True, object_pairs_hook=None)\n",
      "     |  \n",
      "     |  Simple JSON <http://json.org> decoder\n",
      "     |  \n",
      "     |  Performs the following translations in decoding by default:\n",
      "     |  \n",
      "     |  +---------------+-------------------+\n",
      "     |  | JSON          | Python            |\n",
      "     |  +===============+===================+\n",
      "     |  | object        | dict              |\n",
      "     |  +---------------+-------------------+\n",
      "     |  | array         | list              |\n",
      "     |  +---------------+-------------------+\n",
      "     |  | string        | str               |\n",
      "     |  +---------------+-------------------+\n",
      "     |  | number (int)  | int               |\n",
      "     |  +---------------+-------------------+\n",
      "     |  | number (real) | float             |\n",
      "     |  +---------------+-------------------+\n",
      "     |  | true          | True              |\n",
      "     |  +---------------+-------------------+\n",
      "     |  | false         | False             |\n",
      "     |  +---------------+-------------------+\n",
      "     |  | null          | None              |\n",
      "     |  +---------------+-------------------+\n",
      "     |  \n",
      "     |  It also understands ``NaN``, ``Infinity``, and ``-Infinity`` as\n",
      "     |  their corresponding ``float`` values, which is outside the JSON spec.\n",
      "     |  \n",
      "     |  Methods defined here:\n",
      "     |  \n",
      "     |  __init__(self, *, object_hook=None, parse_float=None, parse_int=None, parse_constant=None, strict=True, object_pairs_hook=None)\n",
      "     |      ``object_hook``, if specified, will be called with the result\n",
      "     |      of every JSON object decoded and its return value will be used in\n",
      "     |      place of the given ``dict``.  This can be used to provide custom\n",
      "     |      deserializations (e.g. to support JSON-RPC class hinting).\n",
      "     |      \n",
      "     |      ``object_pairs_hook``, if specified will be called with the result of\n",
      "     |      every JSON object decoded with an ordered list of pairs.  The return\n",
      "     |      value of ``object_pairs_hook`` will be used instead of the ``dict``.\n",
      "     |      This feature can be used to implement custom decoders.\n",
      "     |      If ``object_hook`` is also defined, the ``object_pairs_hook`` takes\n",
      "     |      priority.\n",
      "     |      \n",
      "     |      ``parse_float``, if specified, will be called with the string\n",
      "     |      of every JSON float to be decoded. By default this is equivalent to\n",
      "     |      float(num_str). This can be used to use another datatype or parser\n",
      "     |      for JSON floats (e.g. decimal.Decimal).\n",
      "     |      \n",
      "     |      ``parse_int``, if specified, will be called with the string\n",
      "     |      of every JSON int to be decoded. By default this is equivalent to\n",
      "     |      int(num_str). This can be used to use another datatype or parser\n",
      "     |      for JSON integers (e.g. float).\n",
      "     |      \n",
      "     |      ``parse_constant``, if specified, will be called with one of the\n",
      "     |      following strings: -Infinity, Infinity, NaN.\n",
      "     |      This can be used to raise an exception if invalid JSON numbers\n",
      "     |      are encountered.\n",
      "     |      \n",
      "     |      If ``strict`` is false (true is the default), then control\n",
      "     |      characters will be allowed inside strings.  Control characters in\n",
      "     |      this context are those with character codes in the 0-31 range,\n",
      "     |      including ``'\\t'`` (tab), ``'\\n'``, ``'\\r'`` and ``'\\0'``.\n",
      "     |  \n",
      "     |  decode(self, s, _w=<built-in method match of re.Pattern object at 0x101b7c930>)\n",
      "     |      Return the Python representation of ``s`` (a ``str`` instance\n",
      "     |      containing a JSON document).\n",
      "     |  \n",
      "     |  raw_decode(self, s, idx=0)\n",
      "     |      Decode a JSON document from ``s`` (a ``str`` beginning with\n",
      "     |      a JSON document) and return a 2-tuple of the Python\n",
      "     |      representation and the index in ``s`` where the document ended.\n",
      "     |      \n",
      "     |      This can be used to decode a JSON document from a string that may\n",
      "     |      have extraneous data at the end.\n",
      "     |  \n",
      "     |  ----------------------------------------------------------------------\n",
      "     |  Data descriptors defined here:\n",
      "     |  \n",
      "     |  __dict__\n",
      "     |      dictionary for instance variables (if defined)\n",
      "     |  \n",
      "     |  __weakref__\n",
      "     |      list of weak references to the object (if defined)\n",
      "    \n",
      "    class JSONEncoder(builtins.object)\n",
      "     |  JSONEncoder(*, skipkeys=False, ensure_ascii=True, check_circular=True, allow_nan=True, sort_keys=False, indent=None, separators=None, default=None)\n",
      "     |  \n",
      "     |  Extensible JSON <http://json.org> encoder for Python data structures.\n",
      "     |  \n",
      "     |  Supports the following objects and types by default:\n",
      "     |  \n",
      "     |  +-------------------+---------------+\n",
      "     |  | Python            | JSON          |\n",
      "     |  +===================+===============+\n",
      "     |  | dict              | object        |\n",
      "     |  +-------------------+---------------+\n",
      "     |  | list, tuple       | array         |\n",
      "     |  +-------------------+---------------+\n",
      "     |  | str               | string        |\n",
      "     |  +-------------------+---------------+\n",
      "     |  | int, float        | number        |\n",
      "     |  +-------------------+---------------+\n",
      "     |  | True              | true          |\n",
      "     |  +-------------------+---------------+\n",
      "     |  | False             | false         |\n",
      "     |  +-------------------+---------------+\n",
      "     |  | None              | null          |\n",
      "     |  +-------------------+---------------+\n",
      "     |  \n",
      "     |  To extend this to recognize other objects, subclass and implement a\n",
      "     |  ``.default()`` method with another method that returns a serializable\n",
      "     |  object for ``o`` if possible, otherwise it should call the superclass\n",
      "     |  implementation (to raise ``TypeError``).\n",
      "     |  \n",
      "     |  Methods defined here:\n",
      "     |  \n",
      "     |  __init__(self, *, skipkeys=False, ensure_ascii=True, check_circular=True, allow_nan=True, sort_keys=False, indent=None, separators=None, default=None)\n",
      "     |      Constructor for JSONEncoder, with sensible defaults.\n",
      "     |      \n",
      "     |      If skipkeys is false, then it is a TypeError to attempt\n",
      "     |      encoding of keys that are not str, int, float or None.  If\n",
      "     |      skipkeys is True, such items are simply skipped.\n",
      "     |      \n",
      "     |      If ensure_ascii is true, the output is guaranteed to be str\n",
      "     |      objects with all incoming non-ASCII characters escaped.  If\n",
      "     |      ensure_ascii is false, the output can contain non-ASCII characters.\n",
      "     |      \n",
      "     |      If check_circular is true, then lists, dicts, and custom encoded\n",
      "     |      objects will be checked for circular references during encoding to\n",
      "     |      prevent an infinite recursion (which would cause an OverflowError).\n",
      "     |      Otherwise, no such check takes place.\n",
      "     |      \n",
      "     |      If allow_nan is true, then NaN, Infinity, and -Infinity will be\n",
      "     |      encoded as such.  This behavior is not JSON specification compliant,\n",
      "     |      but is consistent with most JavaScript based encoders and decoders.\n",
      "     |      Otherwise, it will be a ValueError to encode such floats.\n",
      "     |      \n",
      "     |      If sort_keys is true, then the output of dictionaries will be\n",
      "     |      sorted by key; this is useful for regression tests to ensure\n",
      "     |      that JSON serializations can be compared on a day-to-day basis.\n",
      "     |      \n",
      "     |      If indent is a non-negative integer, then JSON array\n",
      "     |      elements and object members will be pretty-printed with that\n",
      "     |      indent level.  An indent level of 0 will only insert newlines.\n",
      "     |      None is the most compact representation.\n",
      "     |      \n",
      "     |      If specified, separators should be an (item_separator, key_separator)\n",
      "     |      tuple.  The default is (', ', ': ') if *indent* is ``None`` and\n",
      "     |      (',', ': ') otherwise.  To get the most compact JSON representation,\n",
      "     |      you should specify (',', ':') to eliminate whitespace.\n",
      "     |      \n",
      "     |      If specified, default is a function that gets called for objects\n",
      "     |      that can't otherwise be serialized.  It should return a JSON encodable\n",
      "     |      version of the object or raise a ``TypeError``.\n",
      "     |  \n",
      "     |  default(self, o)\n",
      "     |      Implement this method in a subclass such that it returns\n",
      "     |      a serializable object for ``o``, or calls the base implementation\n",
      "     |      (to raise a ``TypeError``).\n",
      "     |      \n",
      "     |      For example, to support arbitrary iterators, you could\n",
      "     |      implement default like this::\n",
      "     |      \n",
      "     |          def default(self, o):\n",
      "     |              try:\n",
      "     |                  iterable = iter(o)\n",
      "     |              except TypeError:\n",
      "     |                  pass\n",
      "     |              else:\n",
      "     |                  return list(iterable)\n",
      "     |              # Let the base class default method raise the TypeError\n",
      "     |              return JSONEncoder.default(self, o)\n",
      "     |  \n",
      "     |  encode(self, o)\n",
      "     |      Return a JSON string representation of a Python data structure.\n",
      "     |      \n",
      "     |      >>> from json.encoder import JSONEncoder\n",
      "     |      >>> JSONEncoder().encode({\"foo\": [\"bar\", \"baz\"]})\n",
      "     |      '{\"foo\": [\"bar\", \"baz\"]}'\n",
      "     |  \n",
      "     |  iterencode(self, o, _one_shot=False)\n",
      "     |      Encode the given object and yield each string\n",
      "     |      representation as available.\n",
      "     |      \n",
      "     |      For example::\n",
      "     |      \n",
      "     |          for chunk in JSONEncoder().iterencode(bigobject):\n",
      "     |              mysocket.write(chunk)\n",
      "     |  \n",
      "     |  ----------------------------------------------------------------------\n",
      "     |  Data descriptors defined here:\n",
      "     |  \n",
      "     |  __dict__\n",
      "     |      dictionary for instance variables (if defined)\n",
      "     |  \n",
      "     |  __weakref__\n",
      "     |      list of weak references to the object (if defined)\n",
      "     |  \n",
      "     |  ----------------------------------------------------------------------\n",
      "     |  Data and other attributes defined here:\n",
      "     |  \n",
      "     |  item_separator = ', '\n",
      "     |  \n",
      "     |  key_separator = ': '\n",
      "\n",
      "FUNCTIONS\n",
      "    dump(obj, fp, *, skipkeys=False, ensure_ascii=True, check_circular=True, allow_nan=True, cls=None, indent=None, separators=None, default=None, sort_keys=False, **kw)\n",
      "        Serialize ``obj`` as a JSON formatted stream to ``fp`` (a\n",
      "        ``.write()``-supporting file-like object).\n",
      "        \n",
      "        If ``skipkeys`` is true then ``dict`` keys that are not basic types\n",
      "        (``str``, ``int``, ``float``, ``bool``, ``None``) will be skipped\n",
      "        instead of raising a ``TypeError``.\n",
      "        \n",
      "        If ``ensure_ascii`` is false, then the strings written to ``fp`` can\n",
      "        contain non-ASCII characters if they appear in strings contained in\n",
      "        ``obj``. Otherwise, all such characters are escaped in JSON strings.\n",
      "        \n",
      "        If ``check_circular`` is false, then the circular reference check\n",
      "        for container types will be skipped and a circular reference will\n",
      "        result in an ``OverflowError`` (or worse).\n",
      "        \n",
      "        If ``allow_nan`` is false, then it will be a ``ValueError`` to\n",
      "        serialize out of range ``float`` values (``nan``, ``inf``, ``-inf``)\n",
      "        in strict compliance of the JSON specification, instead of using the\n",
      "        JavaScript equivalents (``NaN``, ``Infinity``, ``-Infinity``).\n",
      "        \n",
      "        If ``indent`` is a non-negative integer, then JSON array elements and\n",
      "        object members will be pretty-printed with that indent level. An indent\n",
      "        level of 0 will only insert newlines. ``None`` is the most compact\n",
      "        representation.\n",
      "        \n",
      "        If specified, ``separators`` should be an ``(item_separator, key_separator)``\n",
      "        tuple.  The default is ``(', ', ': ')`` if *indent* is ``None`` and\n",
      "        ``(',', ': ')`` otherwise.  To get the most compact JSON representation,\n",
      "        you should specify ``(',', ':')`` to eliminate whitespace.\n",
      "        \n",
      "        ``default(obj)`` is a function that should return a serializable version\n",
      "        of obj or raise TypeError. The default simply raises TypeError.\n",
      "        \n",
      "        If *sort_keys* is true (default: ``False``), then the output of\n",
      "        dictionaries will be sorted by key.\n",
      "        \n",
      "        To use a custom ``JSONEncoder`` subclass (e.g. one that overrides the\n",
      "        ``.default()`` method to serialize additional types), specify it with\n",
      "        the ``cls`` kwarg; otherwise ``JSONEncoder`` is used.\n",
      "    \n",
      "    dumps(obj, *, skipkeys=False, ensure_ascii=True, check_circular=True, allow_nan=True, cls=None, indent=None, separators=None, default=None, sort_keys=False, **kw)\n",
      "        Serialize ``obj`` to a JSON formatted ``str``.\n",
      "        \n",
      "        If ``skipkeys`` is true then ``dict`` keys that are not basic types\n",
      "        (``str``, ``int``, ``float``, ``bool``, ``None``) will be skipped\n",
      "        instead of raising a ``TypeError``.\n",
      "        \n",
      "        If ``ensure_ascii`` is false, then the return value can contain non-ASCII\n",
      "        characters if they appear in strings contained in ``obj``. Otherwise, all\n",
      "        such characters are escaped in JSON strings.\n",
      "        \n",
      "        If ``check_circular`` is false, then the circular reference check\n",
      "        for container types will be skipped and a circular reference will\n",
      "        result in an ``OverflowError`` (or worse).\n",
      "        \n",
      "        If ``allow_nan`` is false, then it will be a ``ValueError`` to\n",
      "        serialize out of range ``float`` values (``nan``, ``inf``, ``-inf``) in\n",
      "        strict compliance of the JSON specification, instead of using the\n",
      "        JavaScript equivalents (``NaN``, ``Infinity``, ``-Infinity``).\n",
      "        \n",
      "        If ``indent`` is a non-negative integer, then JSON array elements and\n",
      "        object members will be pretty-printed with that indent level. An indent\n",
      "        level of 0 will only insert newlines. ``None`` is the most compact\n",
      "        representation.\n",
      "        \n",
      "        If specified, ``separators`` should be an ``(item_separator, key_separator)``\n",
      "        tuple.  The default is ``(', ', ': ')`` if *indent* is ``None`` and\n",
      "        ``(',', ': ')`` otherwise.  To get the most compact JSON representation,\n",
      "        you should specify ``(',', ':')`` to eliminate whitespace.\n",
      "        \n",
      "        ``default(obj)`` is a function that should return a serializable version\n",
      "        of obj or raise TypeError. The default simply raises TypeError.\n",
      "        \n",
      "        If *sort_keys* is true (default: ``False``), then the output of\n",
      "        dictionaries will be sorted by key.\n",
      "        \n",
      "        To use a custom ``JSONEncoder`` subclass (e.g. one that overrides the\n",
      "        ``.default()`` method to serialize additional types), specify it with\n",
      "        the ``cls`` kwarg; otherwise ``JSONEncoder`` is used.\n",
      "    \n",
      "    load(fp, *, cls=None, object_hook=None, parse_float=None, parse_int=None, parse_constant=None, object_pairs_hook=None, **kw)\n",
      "        Deserialize ``fp`` (a ``.read()``-supporting file-like object containing\n",
      "        a JSON document) to a Python object.\n",
      "        \n",
      "        ``object_hook`` is an optional function that will be called with the\n",
      "        result of any object literal decode (a ``dict``). The return value of\n",
      "        ``object_hook`` will be used instead of the ``dict``. This feature\n",
      "        can be used to implement custom decoders (e.g. JSON-RPC class hinting).\n",
      "        \n",
      "        ``object_pairs_hook`` is an optional function that will be called with the\n",
      "        result of any object literal decoded with an ordered list of pairs.  The\n",
      "        return value of ``object_pairs_hook`` will be used instead of the ``dict``.\n",
      "        This feature can be used to implement custom decoders.  If ``object_hook``\n",
      "        is also defined, the ``object_pairs_hook`` takes priority.\n",
      "        \n",
      "        To use a custom ``JSONDecoder`` subclass, specify it with the ``cls``\n",
      "        kwarg; otherwise ``JSONDecoder`` is used.\n",
      "    \n",
      "    loads(s, *, cls=None, object_hook=None, parse_float=None, parse_int=None, parse_constant=None, object_pairs_hook=None, **kw)\n",
      "        Deserialize ``s`` (a ``str``, ``bytes`` or ``bytearray`` instance\n",
      "        containing a JSON document) to a Python object.\n",
      "        \n",
      "        ``object_hook`` is an optional function that will be called with the\n",
      "        result of any object literal decode (a ``dict``). The return value of\n",
      "        ``object_hook`` will be used instead of the ``dict``. This feature\n",
      "        can be used to implement custom decoders (e.g. JSON-RPC class hinting).\n",
      "        \n",
      "        ``object_pairs_hook`` is an optional function that will be called with the\n",
      "        result of any object literal decoded with an ordered list of pairs.  The\n",
      "        return value of ``object_pairs_hook`` will be used instead of the ``dict``.\n",
      "        This feature can be used to implement custom decoders.  If ``object_hook``\n",
      "        is also defined, the ``object_pairs_hook`` takes priority.\n",
      "        \n",
      "        ``parse_float``, if specified, will be called with the string\n",
      "        of every JSON float to be decoded. By default this is equivalent to\n",
      "        float(num_str). This can be used to use another datatype or parser\n",
      "        for JSON floats (e.g. decimal.Decimal).\n",
      "        \n",
      "        ``parse_int``, if specified, will be called with the string\n",
      "        of every JSON int to be decoded. By default this is equivalent to\n",
      "        int(num_str). This can be used to use another datatype or parser\n",
      "        for JSON integers (e.g. float).\n",
      "        \n",
      "        ``parse_constant``, if specified, will be called with one of the\n",
      "        following strings: -Infinity, Infinity, NaN.\n",
      "        This can be used to raise an exception if invalid JSON numbers\n",
      "        are encountered.\n",
      "        \n",
      "        To use a custom ``JSONDecoder`` subclass, specify it with the ``cls``\n",
      "        kwarg; otherwise ``JSONDecoder`` is used.\n",
      "\n",
      "DATA\n",
      "    __all__ = ['dump', 'dumps', 'load', 'loads', 'JSONDecoder', 'JSONDecod...\n",
      "\n",
      "VERSION\n",
      "    2.0.9\n",
      "\n",
      "AUTHOR\n",
      "    Bob Ippolito <bob@redivi.com>\n",
      "\n",
      "FILE\n",
      "    /usr/local/Cellar/python@3.9/3.9.7/Frameworks/Python.framework/Versions/3.9/lib/python3.9/json/__init__.py\n",
      "\n",
      "\n"
     ]
    }
   ],
   "source": [
    "help(json)"
   ]
  },
  {
   "cell_type": "markdown",
   "id": "e1b35542-642d-4e26-a2e6-542c2207a662",
   "metadata": {},
   "source": [
    "7) Create a dictionary from a list of key-value pairs by grouping values with the same key into a list (e.g. `[(a, 1), (a, 3), (b, 2)] –> {a: [1, 3], b: [2]})`."
   ]
  },
  {
   "cell_type": "code",
   "execution_count": 55,
   "id": "dae93d60-51b4-4f42-a36d-5c644a9e4f9d",
   "metadata": {},
   "outputs": [
    {
     "data": {
      "text/plain": [
       "[('c', 12),\n",
       " ('c', 12),\n",
       " ('h', 34),\n",
       " ('c1', 12),\n",
       " ('e', 343),\n",
       " (' ', 3445),\n",
       " ('p', 54),\n",
       " ('h', 56),\n",
       " ('p', 12),\n",
       " ('ll', 0),\n",
       " ('ll', 0),\n",
       " ('a', 54),\n",
       " ('c', 511)]"
      ]
     },
     "execution_count": 55,
     "metadata": {},
     "output_type": "execute_result"
    }
   ],
   "source": [
    "input = [('c', 12), ('c', 12), ('h', 34), ('c1', 12), ('e', 343), (' ', 3445), ('p', 54), ('h', 56), ('p', 12), ('ll', 0), ('ll', 0), ('a', 54), ('c', 511)]\n",
    "input"
   ]
  },
  {
   "cell_type": "code",
   "execution_count": 56,
   "id": "cb79f2e9-d71c-4552-8f2b-bf84dd39f41c",
   "metadata": {},
   "outputs": [
    {
     "data": {
      "text/plain": [
       "{'c': [12, 12, 511],\n",
       " 'h': [34, 56],\n",
       " 'c1': [12],\n",
       " 'e': [343],\n",
       " ' ': [3445],\n",
       " 'p': [54, 12],\n",
       " 'll': [0, 0],\n",
       " 'a': [54]}"
      ]
     },
     "execution_count": 56,
     "metadata": {},
     "output_type": "execute_result"
    }
   ],
   "source": [
    "out = {}\n",
    "for k, v in input:\n",
    "    if k in out:\n",
    "        out[k].append(v)\n",
    "    else:\n",
    "        out[k] = [v]\n",
    "out"
   ]
  },
  {
   "cell_type": "markdown",
   "id": "6e85cd6e-e45e-4b20-9f71-dcff2d8e6b46",
   "metadata": {},
   "source": [
    "8)"
   ]
  },
  {
   "cell_type": "code",
   "execution_count": null,
   "id": "4e7a7dce-6170-4fbf-9d8d-57bd12d9f838",
   "metadata": {},
   "outputs": [],
   "source": []
  },
  {
   "cell_type": "markdown",
   "id": "5e277a8c-8108-4e64-bb54-ca4706416ae8",
   "metadata": {},
   "source": [
    "9)"
   ]
  },
  {
   "cell_type": "code",
   "execution_count": null,
   "id": "0bb6f36f-03c7-4b73-91ad-d8b8dc9b07d3",
   "metadata": {},
   "outputs": [],
   "source": []
  },
  {
   "cell_type": "markdown",
   "id": "4c4c8aec-b2d0-4d47-8de8-2d0b7202e93b",
   "metadata": {},
   "source": [
    "10)"
   ]
  },
  {
   "cell_type": "code",
   "execution_count": null,
   "id": "217bd3b6-9137-4ac6-9ddc-e3acd3366df9",
   "metadata": {},
   "outputs": [],
   "source": []
  },
  {
   "cell_type": "markdown",
   "id": "e1969bbd-85de-4954-a318-a3645c8105df",
   "metadata": {},
   "source": [
    "----\n",
    "# Conditional statements and loops"
   ]
  },
  {
   "cell_type": "markdown",
   "id": "907f2174-f850-4e01-889e-2f0da1621700",
   "metadata": {},
   "source": [
    "1) Take in an integer number and compute the prime factorization."
   ]
  },
  {
   "cell_type": "code",
   "execution_count": 83,
   "id": "1891a84c-2617-47b4-97d0-702c736e2a99",
   "metadata": {},
   "outputs": [],
   "source": [
    "# factors = 3 x 5 x 7 x 571 x 757\n",
    "input = 45385935"
   ]
  },
  {
   "cell_type": "code",
   "execution_count": 85,
   "id": "e8ddb768-7639-4e91-a96d-5620a6ffac90",
   "metadata": {},
   "outputs": [
    {
     "name": "stdout",
     "output_type": "stream",
     "text": [
      "Factors: [3, 5, 7, 571, 757]\n"
     ]
    },
    {
     "data": {
      "text/plain": [
       "45385935"
      ]
     },
     "execution_count": 85,
     "metadata": {},
     "output_type": "execute_result"
    }
   ],
   "source": [
    "import math\n",
    "\n",
    "factors = []\n",
    "n, f = input, 2\n",
    "\n",
    "while f * f <= n:\n",
    "    if n % f:\n",
    "        f += 1\n",
    "    else:\n",
    "        factors.append(f)\n",
    "        n //= f  # n = n // f\n",
    "\n",
    "if n > 1:\n",
    "    factors.append(n)\n",
    "        \n",
    "print('Factors:', factors)\n",
    "math.prod(factors)"
   ]
  },
  {
   "cell_type": "markdown",
   "id": "28575b5a-1ca2-4570-bddd-ba3c37ca012a",
   "metadata": {},
   "source": [
    "2) Display the Fibonacci series up to 50 terms."
   ]
  },
  {
   "cell_type": "code",
   "execution_count": 86,
   "id": "f74eba1c-4402-4459-88e5-1dce72b65f29",
   "metadata": {},
   "outputs": [
    {
     "name": "stdout",
     "output_type": "stream",
     "text": [
      "Number of terms: 50\n"
     ]
    },
    {
     "data": {
      "text/plain": [
       "[1,\n",
       " 2,\n",
       " 3,\n",
       " 5,\n",
       " 8,\n",
       " 13,\n",
       " 21,\n",
       " 34,\n",
       " 55,\n",
       " 89,\n",
       " 144,\n",
       " 233,\n",
       " 377,\n",
       " 610,\n",
       " 987,\n",
       " 1597,\n",
       " 2584,\n",
       " 4181,\n",
       " 6765,\n",
       " 10946,\n",
       " 17711,\n",
       " 28657,\n",
       " 46368,\n",
       " 75025,\n",
       " 121393,\n",
       " 196418,\n",
       " 317811,\n",
       " 514229,\n",
       " 832040,\n",
       " 1346269,\n",
       " 2178309,\n",
       " 3524578,\n",
       " 5702887,\n",
       " 9227465,\n",
       " 14930352,\n",
       " 24157817,\n",
       " 39088169,\n",
       " 63245986,\n",
       " 102334155,\n",
       " 165580141,\n",
       " 267914296,\n",
       " 433494437,\n",
       " 701408733,\n",
       " 1134903170,\n",
       " 1836311903,\n",
       " 2971215073,\n",
       " 4807526976,\n",
       " 7778742049,\n",
       " 12586269025,\n",
       " 20365011074]"
      ]
     },
     "execution_count": 86,
     "metadata": {},
     "output_type": "execute_result"
    }
   ],
   "source": [
    "series = [1, 2]\n",
    "f, s = 1, 2\n",
    "\n",
    "for _ in range(48):\n",
    "    f, s = s, f+s\n",
    "    series.append(s)\n",
    "\n",
    "print('Number of terms:', len(series))\n",
    "series"
   ]
  },
  {
   "cell_type": "markdown",
   "id": "8c4b2a8f-358d-4e70-b82d-f6b8100aa82e",
   "metadata": {},
   "source": [
    "3) Print the following pattern:\n",
    "\n",
    "```\n",
    "*\n",
    "* $ \n",
    "* * * \n",
    "* $ * ! \n",
    "* * * * * \n",
    "* ! * $ \n",
    "* * * \n",
    "* ! \n",
    "*\n",
    "```"
   ]
  },
  {
   "cell_type": "code",
   "execution_count": 92,
   "id": "b24d6e5c-8e6b-4bb5-a2d7-5ce6d097604e",
   "metadata": {},
   "outputs": [
    {
     "name": "stdout",
     "output_type": "stream",
     "text": [
      "* \n",
      "* $ \n",
      "* * * \n",
      "* $ * ! \n",
      "* * * * * \n",
      "* ! * $ \n",
      "* * * \n",
      "* ! \n",
      "* \n",
      "\n"
     ]
    }
   ],
   "source": [
    "# Do you like it? ;)\n",
    "line = ''\n",
    "rows, cols = 9, 5\n",
    "\n",
    "for r in range(rows):\n",
    "    is_up = r < (rows + 1) / 2\n",
    "    c = 0\n",
    "    \n",
    "    while (is_up and c < r + 1) or (not is_up and c + r < rows):\n",
    "        if r % 2 == 0 or c % 2 == 0:\n",
    "            line += '* '\n",
    "        else:\n",
    "            line += ('! ' if is_up else '$ ') if (c - 1) // 2 else ('$ ' if is_up else '! ')\n",
    "        c += 1\n",
    "    line += '\\n'\n",
    "print(line)"
   ]
  },
  {
   "cell_type": "markdown",
   "id": "ed70593f-7882-4138-bd7e-9e4b968a5622",
   "metadata": {},
   "source": [
    "4) Take in a password from the widgets and check the validity. Validation:\n",
    "\n",
    "- At least 1 letter between [a-z] and 1 letter between [A-Z].\n",
    "- At least 1 number between [0-9].\n",
    "- At least 1 character from ```[$#@]```.\n",
    "- Minimum length 6 characters.\n",
    "- Maximum length 16 characters."
   ]
  },
  {
   "cell_type": "code",
   "execution_count": null,
   "id": "3731532d-9f6f-43c5-b542-d7af59785d2a",
   "metadata": {},
   "outputs": [],
   "source": []
  },
  {
   "cell_type": "markdown",
   "id": "4aea1643-053a-48e6-81c3-e42fbcb75a17",
   "metadata": {},
   "source": [
    "5) Given a list L and a number N, make a new list with the same length of L, where the value at index i is True if L[i] is greater than N, and False otherwise. Use the following list and take the number N from the widgets."
   ]
  },
  {
   "cell_type": "code",
   "execution_count": 77,
   "id": "92ee43c1-6bb6-443d-9089-68ce4bd51b37",
   "metadata": {},
   "outputs": [],
   "source": [
    "input = [12, 45, 56.3, 553, 43.034, 43, 12, 1111, 236, 152]\n",
    "N = 122"
   ]
  },
  {
   "cell_type": "code",
   "execution_count": 78,
   "id": "1eb2dee1-3355-4c5e-952c-633ec919084a",
   "metadata": {},
   "outputs": [
    {
     "data": {
      "text/plain": [
       "[False, False, False, True, False, False, False, True, True, True]"
      ]
     },
     "execution_count": 78,
     "metadata": {},
     "output_type": "execute_result"
    }
   ],
   "source": [
    "[el > N for el in input]"
   ]
  },
  {
   "cell_type": "markdown",
   "id": "4996b316-5126-4bac-b64d-8fb5a6aff2e6",
   "metadata": {},
   "source": [
    "6) Use a nested list comprehension to find which numbers from 1-1000 are divisible by the digits in (2, 3, 4, ..., 9). Make a dictionary where keys are the digits and values are lists of numbers divisible by that keys."
   ]
  },
  {
   "cell_type": "code",
   "execution_count": 81,
   "id": "fd811320-263a-4b3b-afa4-e83eb5a21bd8",
   "metadata": {},
   "outputs": [
    {
     "name": "stdout",
     "output_type": "stream",
     "text": [
      "2 500\n",
      "3 333\n",
      "4 250\n",
      "5 200\n",
      "6 166\n",
      "7 142\n",
      "8 125\n",
      "9 111\n"
     ]
    }
   ],
   "source": [
    "out = {n: [i for i in range(1, 1001) if i % n == 0] for n in range(2, 10)}\n",
    "for k, v in out.items():\n",
    "    print(k, len(v))"
   ]
  },
  {
   "cell_type": "code",
   "execution_count": 93,
   "id": "2a78b84c-70af-48c9-ac5e-9dd919e11da5",
   "metadata": {},
   "outputs": [
    {
     "name": "stdout",
     "output_type": "stream",
     "text": [
      "2 [2, 4, 6, 8, 10, 12, 14, 16, 18, 20, 22, 24, 26, 28, 30, 32, 34, 36, 38, 40, 42, 44, 46, 48, 50, 52, 54, 56, 58, 60, 62, 64, 66, 68, 70, 72, 74, 76, 78, 80, 82, 84, 86, 88, 90, 92, 94, 96, 98, 100, 102, 104, 106, 108, 110, 112, 114, 116, 118, 120, 122, 124, 126, 128, 130, 132, 134, 136, 138, 140, 142, 144, 146, 148, 150, 152, 154, 156, 158, 160, 162, 164, 166, 168, 170, 172, 174, 176, 178, 180, 182, 184, 186, 188, 190, 192, 194, 196, 198, 200, 202, 204, 206, 208, 210, 212, 214, 216, 218, 220, 222, 224, 226, 228, 230, 232, 234, 236, 238, 240, 242, 244, 246, 248, 250, 252, 254, 256, 258, 260, 262, 264, 266, 268, 270, 272, 274, 276, 278, 280, 282, 284, 286, 288, 290, 292, 294, 296, 298, 300, 302, 304, 306, 308, 310, 312, 314, 316, 318, 320, 322, 324, 326, 328, 330, 332, 334, 336, 338, 340, 342, 344, 346, 348, 350, 352, 354, 356, 358, 360, 362, 364, 366, 368, 370, 372, 374, 376, 378, 380, 382, 384, 386, 388, 390, 392, 394, 396, 398, 400, 402, 404, 406, 408, 410, 412, 414, 416, 418, 420, 422, 424, 426, 428, 430, 432, 434, 436, 438, 440, 442, 444, 446, 448, 450, 452, 454, 456, 458, 460, 462, 464, 466, 468, 470, 472, 474, 476, 478, 480, 482, 484, 486, 488, 490, 492, 494, 496, 498, 500, 502, 504, 506, 508, 510, 512, 514, 516, 518, 520, 522, 524, 526, 528, 530, 532, 534, 536, 538, 540, 542, 544, 546, 548, 550, 552, 554, 556, 558, 560, 562, 564, 566, 568, 570, 572, 574, 576, 578, 580, 582, 584, 586, 588, 590, 592, 594, 596, 598, 600, 602, 604, 606, 608, 610, 612, 614, 616, 618, 620, 622, 624, 626, 628, 630, 632, 634, 636, 638, 640, 642, 644, 646, 648, 650, 652, 654, 656, 658, 660, 662, 664, 666, 668, 670, 672, 674, 676, 678, 680, 682, 684, 686, 688, 690, 692, 694, 696, 698, 700, 702, 704, 706, 708, 710, 712, 714, 716, 718, 720, 722, 724, 726, 728, 730, 732, 734, 736, 738, 740, 742, 744, 746, 748, 750, 752, 754, 756, 758, 760, 762, 764, 766, 768, 770, 772, 774, 776, 778, 780, 782, 784, 786, 788, 790, 792, 794, 796, 798, 800, 802, 804, 806, 808, 810, 812, 814, 816, 818, 820, 822, 824, 826, 828, 830, 832, 834, 836, 838, 840, 842, 844, 846, 848, 850, 852, 854, 856, 858, 860, 862, 864, 866, 868, 870, 872, 874, 876, 878, 880, 882, 884, 886, 888, 890, 892, 894, 896, 898, 900, 902, 904, 906, 908, 910, 912, 914, 916, 918, 920, 922, 924, 926, 928, 930, 932, 934, 936, 938, 940, 942, 944, 946, 948, 950, 952, 954, 956, 958, 960, 962, 964, 966, 968, 970, 972, 974, 976, 978, 980, 982, 984, 986, 988, 990, 992, 994, 996, 998, 1000]\n",
      "3 [3, 6, 9, 12, 15, 18, 21, 24, 27, 30, 33, 36, 39, 42, 45, 48, 51, 54, 57, 60, 63, 66, 69, 72, 75, 78, 81, 84, 87, 90, 93, 96, 99, 102, 105, 108, 111, 114, 117, 120, 123, 126, 129, 132, 135, 138, 141, 144, 147, 150, 153, 156, 159, 162, 165, 168, 171, 174, 177, 180, 183, 186, 189, 192, 195, 198, 201, 204, 207, 210, 213, 216, 219, 222, 225, 228, 231, 234, 237, 240, 243, 246, 249, 252, 255, 258, 261, 264, 267, 270, 273, 276, 279, 282, 285, 288, 291, 294, 297, 300, 303, 306, 309, 312, 315, 318, 321, 324, 327, 330, 333, 336, 339, 342, 345, 348, 351, 354, 357, 360, 363, 366, 369, 372, 375, 378, 381, 384, 387, 390, 393, 396, 399, 402, 405, 408, 411, 414, 417, 420, 423, 426, 429, 432, 435, 438, 441, 444, 447, 450, 453, 456, 459, 462, 465, 468, 471, 474, 477, 480, 483, 486, 489, 492, 495, 498, 501, 504, 507, 510, 513, 516, 519, 522, 525, 528, 531, 534, 537, 540, 543, 546, 549, 552, 555, 558, 561, 564, 567, 570, 573, 576, 579, 582, 585, 588, 591, 594, 597, 600, 603, 606, 609, 612, 615, 618, 621, 624, 627, 630, 633, 636, 639, 642, 645, 648, 651, 654, 657, 660, 663, 666, 669, 672, 675, 678, 681, 684, 687, 690, 693, 696, 699, 702, 705, 708, 711, 714, 717, 720, 723, 726, 729, 732, 735, 738, 741, 744, 747, 750, 753, 756, 759, 762, 765, 768, 771, 774, 777, 780, 783, 786, 789, 792, 795, 798, 801, 804, 807, 810, 813, 816, 819, 822, 825, 828, 831, 834, 837, 840, 843, 846, 849, 852, 855, 858, 861, 864, 867, 870, 873, 876, 879, 882, 885, 888, 891, 894, 897, 900, 903, 906, 909, 912, 915, 918, 921, 924, 927, 930, 933, 936, 939, 942, 945, 948, 951, 954, 957, 960, 963, 966, 969, 972, 975, 978, 981, 984, 987, 990, 993, 996, 999]\n",
      "4 [4, 8, 12, 16, 20, 24, 28, 32, 36, 40, 44, 48, 52, 56, 60, 64, 68, 72, 76, 80, 84, 88, 92, 96, 100, 104, 108, 112, 116, 120, 124, 128, 132, 136, 140, 144, 148, 152, 156, 160, 164, 168, 172, 176, 180, 184, 188, 192, 196, 200, 204, 208, 212, 216, 220, 224, 228, 232, 236, 240, 244, 248, 252, 256, 260, 264, 268, 272, 276, 280, 284, 288, 292, 296, 300, 304, 308, 312, 316, 320, 324, 328, 332, 336, 340, 344, 348, 352, 356, 360, 364, 368, 372, 376, 380, 384, 388, 392, 396, 400, 404, 408, 412, 416, 420, 424, 428, 432, 436, 440, 444, 448, 452, 456, 460, 464, 468, 472, 476, 480, 484, 488, 492, 496, 500, 504, 508, 512, 516, 520, 524, 528, 532, 536, 540, 544, 548, 552, 556, 560, 564, 568, 572, 576, 580, 584, 588, 592, 596, 600, 604, 608, 612, 616, 620, 624, 628, 632, 636, 640, 644, 648, 652, 656, 660, 664, 668, 672, 676, 680, 684, 688, 692, 696, 700, 704, 708, 712, 716, 720, 724, 728, 732, 736, 740, 744, 748, 752, 756, 760, 764, 768, 772, 776, 780, 784, 788, 792, 796, 800, 804, 808, 812, 816, 820, 824, 828, 832, 836, 840, 844, 848, 852, 856, 860, 864, 868, 872, 876, 880, 884, 888, 892, 896, 900, 904, 908, 912, 916, 920, 924, 928, 932, 936, 940, 944, 948, 952, 956, 960, 964, 968, 972, 976, 980, 984, 988, 992, 996, 1000]\n",
      "5 [5, 10, 15, 20, 25, 30, 35, 40, 45, 50, 55, 60, 65, 70, 75, 80, 85, 90, 95, 100, 105, 110, 115, 120, 125, 130, 135, 140, 145, 150, 155, 160, 165, 170, 175, 180, 185, 190, 195, 200, 205, 210, 215, 220, 225, 230, 235, 240, 245, 250, 255, 260, 265, 270, 275, 280, 285, 290, 295, 300, 305, 310, 315, 320, 325, 330, 335, 340, 345, 350, 355, 360, 365, 370, 375, 380, 385, 390, 395, 400, 405, 410, 415, 420, 425, 430, 435, 440, 445, 450, 455, 460, 465, 470, 475, 480, 485, 490, 495, 500, 505, 510, 515, 520, 525, 530, 535, 540, 545, 550, 555, 560, 565, 570, 575, 580, 585, 590, 595, 600, 605, 610, 615, 620, 625, 630, 635, 640, 645, 650, 655, 660, 665, 670, 675, 680, 685, 690, 695, 700, 705, 710, 715, 720, 725, 730, 735, 740, 745, 750, 755, 760, 765, 770, 775, 780, 785, 790, 795, 800, 805, 810, 815, 820, 825, 830, 835, 840, 845, 850, 855, 860, 865, 870, 875, 880, 885, 890, 895, 900, 905, 910, 915, 920, 925, 930, 935, 940, 945, 950, 955, 960, 965, 970, 975, 980, 985, 990, 995, 1000]\n",
      "6 [6, 12, 18, 24, 30, 36, 42, 48, 54, 60, 66, 72, 78, 84, 90, 96, 102, 108, 114, 120, 126, 132, 138, 144, 150, 156, 162, 168, 174, 180, 186, 192, 198, 204, 210, 216, 222, 228, 234, 240, 246, 252, 258, 264, 270, 276, 282, 288, 294, 300, 306, 312, 318, 324, 330, 336, 342, 348, 354, 360, 366, 372, 378, 384, 390, 396, 402, 408, 414, 420, 426, 432, 438, 444, 450, 456, 462, 468, 474, 480, 486, 492, 498, 504, 510, 516, 522, 528, 534, 540, 546, 552, 558, 564, 570, 576, 582, 588, 594, 600, 606, 612, 618, 624, 630, 636, 642, 648, 654, 660, 666, 672, 678, 684, 690, 696, 702, 708, 714, 720, 726, 732, 738, 744, 750, 756, 762, 768, 774, 780, 786, 792, 798, 804, 810, 816, 822, 828, 834, 840, 846, 852, 858, 864, 870, 876, 882, 888, 894, 900, 906, 912, 918, 924, 930, 936, 942, 948, 954, 960, 966, 972, 978, 984, 990, 996]\n",
      "7 [7, 14, 21, 28, 35, 42, 49, 56, 63, 70, 77, 84, 91, 98, 105, 112, 119, 126, 133, 140, 147, 154, 161, 168, 175, 182, 189, 196, 203, 210, 217, 224, 231, 238, 245, 252, 259, 266, 273, 280, 287, 294, 301, 308, 315, 322, 329, 336, 343, 350, 357, 364, 371, 378, 385, 392, 399, 406, 413, 420, 427, 434, 441, 448, 455, 462, 469, 476, 483, 490, 497, 504, 511, 518, 525, 532, 539, 546, 553, 560, 567, 574, 581, 588, 595, 602, 609, 616, 623, 630, 637, 644, 651, 658, 665, 672, 679, 686, 693, 700, 707, 714, 721, 728, 735, 742, 749, 756, 763, 770, 777, 784, 791, 798, 805, 812, 819, 826, 833, 840, 847, 854, 861, 868, 875, 882, 889, 896, 903, 910, 917, 924, 931, 938, 945, 952, 959, 966, 973, 980, 987, 994]\n",
      "8 [8, 16, 24, 32, 40, 48, 56, 64, 72, 80, 88, 96, 104, 112, 120, 128, 136, 144, 152, 160, 168, 176, 184, 192, 200, 208, 216, 224, 232, 240, 248, 256, 264, 272, 280, 288, 296, 304, 312, 320, 328, 336, 344, 352, 360, 368, 376, 384, 392, 400, 408, 416, 424, 432, 440, 448, 456, 464, 472, 480, 488, 496, 504, 512, 520, 528, 536, 544, 552, 560, 568, 576, 584, 592, 600, 608, 616, 624, 632, 640, 648, 656, 664, 672, 680, 688, 696, 704, 712, 720, 728, 736, 744, 752, 760, 768, 776, 784, 792, 800, 808, 816, 824, 832, 840, 848, 856, 864, 872, 880, 888, 896, 904, 912, 920, 928, 936, 944, 952, 960, 968, 976, 984, 992, 1000]\n",
      "9 [9, 18, 27, 36, 45, 54, 63, 72, 81, 90, 99, 108, 117, 126, 135, 144, 153, 162, 171, 180, 189, 198, 207, 216, 225, 234, 243, 252, 261, 270, 279, 288, 297, 306, 315, 324, 333, 342, 351, 360, 369, 378, 387, 396, 405, 414, 423, 432, 441, 450, 459, 468, 477, 486, 495, 504, 513, 522, 531, 540, 549, 558, 567, 576, 585, 594, 603, 612, 621, 630, 639, 648, 657, 666, 675, 684, 693, 702, 711, 720, 729, 738, 747, 756, 765, 774, 783, 792, 801, 810, 819, 828, 837, 846, 855, 864, 873, 882, 891, 900, 909, 918, 927, 936, 945, 954, 963, 972, 981, 990, 999]\n"
     ]
    }
   ],
   "source": [
    "for k, v in out.items():\n",
    "    print(k, v)"
   ]
  },
  {
   "cell_type": "markdown",
   "id": "d6a00d72-7108-46b2-8433-81ffa763fcd2",
   "metadata": {},
   "source": [
    "7)"
   ]
  },
  {
   "cell_type": "code",
   "execution_count": null,
   "id": "2753c3d6-5054-441a-8833-4058217d2f4c",
   "metadata": {},
   "outputs": [],
   "source": []
  },
  {
   "cell_type": "markdown",
   "id": "eb6adafe-2e33-45c6-ac82-8a72ffe91951",
   "metadata": {},
   "source": [
    "8)"
   ]
  },
  {
   "cell_type": "code",
   "execution_count": null,
   "id": "83748523-6a8b-4ae6-9089-36f5f2baffa6",
   "metadata": {},
   "outputs": [],
   "source": []
  },
  {
   "cell_type": "markdown",
   "id": "bfc38af9-6edb-4470-9fce-50db9bc2c9e2",
   "metadata": {},
   "source": [
    "9)"
   ]
  },
  {
   "cell_type": "code",
   "execution_count": null,
   "id": "63fe94d2-ef17-4174-b3fe-d637ac7d4a20",
   "metadata": {},
   "outputs": [],
   "source": []
  },
  {
   "cell_type": "markdown",
   "id": "79a619d1-a426-4dd9-9fa7-5a4dc9e68ac3",
   "metadata": {},
   "source": [
    "10)"
   ]
  },
  {
   "cell_type": "code",
   "execution_count": null,
   "id": "2811ed3c-73b9-4722-900f-e6c437925f4c",
   "metadata": {},
   "outputs": [],
   "source": []
  },
  {
   "cell_type": "markdown",
   "id": "271e1efe-98ba-43bf-97fc-c60b68d5730a",
   "metadata": {},
   "source": [
    "-----\n",
    "# Functions and Classes"
   ]
  },
  {
   "cell_type": "markdown",
   "id": "1098d886-bf0b-4ccb-882b-88551c29afdb",
   "metadata": {},
   "source": [
    "1) Look at the code below that defines the class Individual. Now add code to interact with the Individual class to perform the following tasks:\n",
    "\n",
    "- Create instances of the class Individual. Name the instances individual1, individual2 and individual3. During object instantiation, set the character_name of these three new objects to “Buster”, “Tobias” and “Lucille” respectively.\n",
    "- What happens if you pass these three newly created objects to the print function?\n",
    "- Check whether Buster is happy. Get him to speak.\n",
    "- Call Buster’s switch_mood method. Is he still happy? What does he say now?\n",
    "- Add docstring to describe what each method does."
   ]
  },
  {
   "cell_type": "code",
   "execution_count": 57,
   "id": "2a5cbfc7-711a-48b0-8165-543ff75139df",
   "metadata": {},
   "outputs": [],
   "source": [
    "class Individual:\n",
    "    Counter = 0\n",
    "    \n",
    "    @classmethod\n",
    "    def AddOne(self):\n",
    "        self.Counter += 1\n",
    "    \n",
    "    def __init__(self, character_name): \n",
    "        \"\"\"\n",
    "        Constructor.\n",
    "        \n",
    "        Args:\n",
    "            :param character_name: (str) name of the individual.\n",
    "        \"\"\"\n",
    "        self.character_name = character_name \n",
    "        self.happy = True\n",
    "        self.AddOne()\n",
    "        self.id = self.Counter\n",
    "        \n",
    "    def __str__(self):\n",
    "        return f'Instance: {self.id} {self.character_name}'\n",
    "    \n",
    "    def get_character_name(self): \n",
    "        return self.character_name\n",
    "    \n",
    "    def is_happy(self): \n",
    "        return self.happy\n",
    "    \n",
    "    def switch_mood(self): \n",
    "        self.happy = not self.happy\n",
    "        \n",
    "    def speak(self): \n",
    "        if(self.happy):\n",
    "            return f'Hello, I am {self.character_name}' \n",
    "        else:\n",
    "            return 'Go away!'"
   ]
  },
  {
   "cell_type": "code",
   "execution_count": 58,
   "id": "12fdbda5-ccd9-472f-b25f-9777e96058c4",
   "metadata": {},
   "outputs": [],
   "source": [
    "individual1 = Individual(\"Buster\")\n",
    "individual2 = Individual(\"Tobias\")\n",
    "individual3 = Individual(\"Lucille\")"
   ]
  },
  {
   "cell_type": "code",
   "execution_count": 59,
   "id": "25b7d44f-1858-4a0b-8f66-ff647a1c3b72",
   "metadata": {},
   "outputs": [
    {
     "name": "stdout",
     "output_type": "stream",
     "text": [
      "Instance: 1 Buster Instance: 2 Tobias Instance: 3 Lucille\n"
     ]
    }
   ],
   "source": [
    "print(individual1, individual2, individual3)"
   ]
  },
  {
   "cell_type": "code",
   "execution_count": 61,
   "id": "0f7922f3-d520-4cd7-b752-c7a038906523",
   "metadata": {},
   "outputs": [
    {
     "name": "stdout",
     "output_type": "stream",
     "text": [
      "Is Buster happy? True\n",
      "Hello, I am Buster\n"
     ]
    }
   ],
   "source": [
    "print('Is Buster happy?', individual1.is_happy())\n",
    "print(individual1.speak())"
   ]
  },
  {
   "cell_type": "code",
   "execution_count": 62,
   "id": "eeff1730-5b32-4a6b-b83a-0300bf47e78f",
   "metadata": {},
   "outputs": [
    {
     "name": "stdout",
     "output_type": "stream",
     "text": [
      "Is Buster happy? False\n"
     ]
    }
   ],
   "source": [
    "individual1.switch_mood()\n",
    "print('Is Buster happy?', individual1.is_happy())"
   ]
  },
  {
   "cell_type": "markdown",
   "id": "0b8791ed-37de-4c06-8f25-9344aefa93e6",
   "metadata": {},
   "source": [
    "2) Write a class to get all possible unique subsets from a set of distinct integers."
   ]
  },
  {
   "cell_type": "code",
   "execution_count": 67,
   "id": "d6e20e32-d084-4a58-a8fb-7e88be98b461",
   "metadata": {},
   "outputs": [],
   "source": [
    "# output =  [[], [6], [5], [5, 6], [4], [4, 6], [4, 5], [4, 5, 6]]\n",
    "input = [4, 5, 6]"
   ]
  },
  {
   "cell_type": "code",
   "execution_count": 68,
   "id": "f25460c2-df84-46bd-b1d4-989c40e89564",
   "metadata": {},
   "outputs": [
    {
     "data": {
      "text/plain": [
       "[(), (4,), (5,), (6,), (4, 5), (4, 6), (5, 6), (4, 5, 6)]"
      ]
     },
     "execution_count": 68,
     "metadata": {},
     "output_type": "execute_result"
    }
   ],
   "source": [
    "from itertools import combinations\n",
    "\n",
    "class Powerset(object):\n",
    "    \n",
    "    def __call__(self, s):\n",
    "        \"\"\"\n",
    "        Compute the powerset of an input set.\n",
    "        \n",
    "        Args: \n",
    "            :param s: (iterable) set of integers.\n",
    "        \"\"\"\n",
    "        subsets = []\n",
    "        for r in range(len(s) + 1):\n",
    "            subsets.extend(combinations(s, r))\n",
    "        return subsets\n",
    "        \n",
    "powerset = Powerset()\n",
    "powerset(input)"
   ]
  },
  {
   "cell_type": "markdown",
   "id": "8bab4da9-8321-44cc-9b18-33d7d185776d",
   "metadata": {},
   "source": [
    "3) Write a function that takes a string of words and reverses the string word by word."
   ]
  },
  {
   "cell_type": "code",
   "execution_count": 87,
   "id": "cecd56f8-7d4a-4edf-8dbf-fe2e03b789c4",
   "metadata": {},
   "outputs": [
    {
     "data": {
      "text/plain": [
       "['You?', 'Fine', 'you?', 'are', 'how', 'dude', 'Hello']"
      ]
     },
     "execution_count": 87,
     "metadata": {},
     "output_type": "execute_result"
    }
   ],
   "source": [
    "from itertools import chain\n",
    "\n",
    "def reverse_line(line):\n",
    "    words = line.split(' ')\n",
    "    words = chain(*[w.split(',') for w in words])\n",
    "    words = chain(*[w.split('.') for w in words])\n",
    "    return list(words)[::-1]\n",
    "\n",
    "reverse_line(\"Hello dude,how are you? Fine.You?\")"
   ]
  },
  {
   "cell_type": "markdown",
   "id": "bfb4b468-ec91-48d0-ab39-35a23de49a26",
   "metadata": {},
   "source": [
    "4) Write a class named Circle that is constructed by a radius and has three methods. The first method computes the area, the second the perimeter and the last method draws a circle with the radius rounded to the upper integer."
   ]
  },
  {
   "cell_type": "code",
   "execution_count": null,
   "id": "d1f19d0c-bd88-4a09-b8d9-ff047e76f3c9",
   "metadata": {},
   "outputs": [],
   "source": []
  },
  {
   "cell_type": "markdown",
   "id": "3b53df82-60f1-4131-9955-3a4afff70145",
   "metadata": {},
   "source": [
    "5) Write a class that stores a list and can be iterated with a for loop like a standard list (hint: ```__iter__, __next__```)."
   ]
  },
  {
   "cell_type": "code",
   "execution_count": 89,
   "id": "3c33e011-a144-4fde-99c6-e654ca911e7c",
   "metadata": {},
   "outputs": [
    {
     "name": "stdout",
     "output_type": "stream",
     "text": [
      "1\n",
      "3\n",
      "5\n",
      "7\n"
     ]
    }
   ],
   "source": [
    "class Iterator(object):\n",
    "    def __init__(self, l):\n",
    "        self._l = l\n",
    "        self._idx = 0\n",
    "        \n",
    "    def __iter__(self):\n",
    "        return self\n",
    "    \n",
    "    def __next__(self):\n",
    "        if self._idx < len(self._l):\n",
    "            tmp = self._l[self._idx]\n",
    "            self._idx += 2\n",
    "            return tmp\n",
    "        else:\n",
    "            raise StopIteration\n",
    "    \n",
    "my_iter = Iterator([1, 2, 3, 4, 5, 6, 7])\n",
    "for i in my_iter:\n",
    "    print(i)"
   ]
  },
  {
   "cell_type": "markdown",
   "id": "d68b8459-7b08-4987-a1bf-1f17f7ebfe76",
   "metadata": {},
   "source": [
    "6) What is a function generator in Python? Learn it and make a function that **yields** the prime numbers up to 100. Use a for loop to print them."
   ]
  },
  {
   "cell_type": "code",
   "execution_count": 92,
   "id": "89e98542-6b51-4fc2-be14-a2463908f142",
   "metadata": {},
   "outputs": [
    {
     "name": "stdout",
     "output_type": "stream",
     "text": [
      "The end\n",
      "(1, 2, 3, 5, 7, 11, 13, 17, 19, 23, 29, 31, 37, 41, 43, 47, 53, 59, 61, 67, 71, 73, 79, 83, 89, 97)\n"
     ]
    },
    {
     "data": {
      "text/plain": [
       "<generator object prime_gen at 0x10654cba0>"
      ]
     },
     "execution_count": 92,
     "metadata": {},
     "output_type": "execute_result"
    }
   ],
   "source": [
    "def prime_gen():\n",
    "    prime_numbers = [\n",
    "        1, 2, 3, 5, 7, 11, 13, 17, 19, 23,\n",
    "        29, 31, 37, 41, 43, 47, 53, 59, 61, \n",
    "        67, 71, 73, 79, 83, 89, 97\n",
    "    ]\n",
    "    \n",
    "    for pn in prime_numbers:\n",
    "        yield pn\n",
    "    print('The end!')\n",
    "\n",
    "    \n",
    "print(tuple(prime_gen()))\n",
    "prime_gen()"
   ]
  },
  {
   "cell_type": "markdown",
   "id": "2b381c31-ecb4-476c-96c4-eb87dd37ae4a",
   "metadata": {},
   "source": [
    "7)"
   ]
  },
  {
   "cell_type": "code",
   "execution_count": null,
   "id": "61cb1c0f-9eae-40d7-bd9d-3f077d02909a",
   "metadata": {},
   "outputs": [],
   "source": []
  },
  {
   "cell_type": "markdown",
   "id": "ae70af81-14b6-4213-8633-3c3607ee3346",
   "metadata": {},
   "source": [
    "8)"
   ]
  },
  {
   "cell_type": "code",
   "execution_count": null,
   "id": "efb85228-d485-45e6-95bd-86f01f21c0df",
   "metadata": {},
   "outputs": [],
   "source": []
  },
  {
   "cell_type": "markdown",
   "id": "8f1aee6c-33ce-40fa-bf63-adfd285531f9",
   "metadata": {},
   "source": [
    "9)"
   ]
  },
  {
   "cell_type": "code",
   "execution_count": null,
   "id": "7321513f-7ffb-4602-8a77-5e29cff1e798",
   "metadata": {},
   "outputs": [],
   "source": []
  },
  {
   "cell_type": "markdown",
   "id": "75beca7a-c994-41cf-b62d-567c3337dbf5",
   "metadata": {},
   "source": [
    "10)"
   ]
  }
 ],
 "metadata": {
  "kernelspec": {
   "display_name": "Python 3 (ipykernel)",
   "language": "python",
   "name": "python3"
  },
  "language_info": {
   "codemirror_mode": {
    "name": "ipython",
    "version": 3
   },
   "file_extension": ".py",
   "mimetype": "text/x-python",
   "name": "python",
   "nbconvert_exporter": "python",
   "pygments_lexer": "ipython3",
   "version": "3.9.12"
  }
 },
 "nbformat": 4,
 "nbformat_minor": 5
}
